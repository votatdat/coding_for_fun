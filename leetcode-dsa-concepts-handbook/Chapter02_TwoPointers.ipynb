{
 "cells": [
  {
   "cell_type": "markdown",
   "id": "a27e0750-1802-4425-8d8a-bcfa7267ca6d",
   "metadata": {},
   "source": [
    "## Chapter Two: Two Pointers"
   ]
  },
  {
   "cell_type": "markdown",
   "id": "cf9b8fd8-41fe-432c-a60b-1c3b3bfe1480",
   "metadata": {},
   "source": [
    "Two pointers (tạm dịch là 2 con trỏ):\n",
    "- Tưởng tượng bạn có 1 array, có 2 con trỏ\n",
    "- Một chạy từ trái sang, và một chạy từ phải sang\n",
    "- Đảm bảo index của con trỏ trái sẽ phải nhỏ hơn hoặc bằng con trỏ phải\n",
    "- Do đó, khi loop hết một array, các tính toán chỉ là O(n)\n",
    "- Đây là kĩ thuật để giải một số bài toán mà bigO của nó là O(n) chứ không phải là O(nlogn)"
   ]
  },
  {
   "cell_type": "markdown",
   "id": "821504ba-c79b-4331-8b01-7d12958ab69a",
   "metadata": {},
   "source": [
    "## Bài toán Palindrome "
   ]
  },
  {
   "cell_type": "markdown",
   "id": "aac94e62-6e93-4d3f-83e5-146f3855bf8f",
   "metadata": {},
   "source": [
    "Một chuỗi string được gọi là Palindrome khi mà chuỗi đó y hệt nhau khi mà nhìn từ trái qua hay phải qua, ví dụ: Racecar, mom, level..."
   ]
  },
  {
   "cell_type": "markdown",
   "id": "7301b542-a702-42dc-bd7d-1f50c0e559e3",
   "metadata": {},
   "source": [
    "Để kiểm tra một chuỗi string có phải là Palindrome hay không thì có nhiều cách giải, đây là ví dụ về kỹ thuật sử dụng 2 con trỏ:\n",
    "- Một con trỏ bên trái để chỉ vào kí tự đầu tiên, một con trỏ bên phải để chỉ vào kí tự cuối cùng\n",
    "- So sánh 2 kí tự này, nếu khác nhau thì trả về false\n",
    "- Nếu giống nhau thì con trỏ bên trái tăng thêm 1, con trỏ bên phải giảm đi 1\n",
    "- Lại tiếp tục so sánh như trên cho tới khi con trỏ bên trái đụng con trỏ bên phải"
   ]
  },
  {
   "cell_type": "code",
   "execution_count": 7,
   "id": "90478f40-a93a-4d48-ac69-7d7291e5d4fd",
   "metadata": {},
   "outputs": [],
   "source": [
    "def is_palindrome(s: str) -> bool:\n",
    "    left = 0\n",
    "    right = len(s) - 1\n",
    "    while left < right:\n",
    "        if s[left] != s[right]:\n",
    "            return False\n",
    "        left += 1\n",
    "        right -= 1\n",
    "    return True"
   ]
  },
  {
   "cell_type": "code",
   "execution_count": 8,
   "id": "fe2a80d7-1361-4632-b322-07bb35983a1a",
   "metadata": {},
   "outputs": [
    {
     "data": {
      "text/plain": [
       "True"
      ]
     },
     "execution_count": 8,
     "metadata": {},
     "output_type": "execute_result"
    }
   ],
   "source": [
    "is_palindrome(\"racecar\")"
   ]
  },
  {
   "cell_type": "code",
   "execution_count": 9,
   "id": "208fd273-7cf7-4dfc-96dc-7e9e5a43f021",
   "metadata": {},
   "outputs": [
    {
     "data": {
      "text/plain": [
       "True"
      ]
     },
     "execution_count": 9,
     "metadata": {},
     "output_type": "execute_result"
    }
   ],
   "source": [
    "is_palindrome(\"mom\")"
   ]
  },
  {
   "cell_type": "code",
   "execution_count": 10,
   "id": "4d1fffe4-20dd-440f-82a8-c731c1408dc3",
   "metadata": {},
   "outputs": [
    {
     "data": {
      "text/plain": [
       "False"
      ]
     },
     "execution_count": 10,
     "metadata": {},
     "output_type": "execute_result"
    }
   ],
   "source": [
    "is_palindrome(\"test\")"
   ]
  },
  {
   "cell_type": "markdown",
   "id": "0be0ebaa-fa21-4d7e-823d-4a5d2b32764e",
   "metadata": {},
   "source": [
    "Python có đoạn code siêu ngắn cho bài toán này:"
   ]
  },
  {
   "cell_type": "code",
   "execution_count": 13,
   "id": "95dded86-4dbf-49c9-88ee-6e6493d93b45",
   "metadata": {},
   "outputs": [],
   "source": [
    "def is_palindrome2(s: str) -> bool:\n",
    "    return s == s[::-1]"
   ]
  },
  {
   "cell_type": "code",
   "execution_count": 14,
   "id": "9fdf6ed9-3a83-4bc9-a8a9-1a2c8175b636",
   "metadata": {},
   "outputs": [
    {
     "data": {
      "text/plain": [
       "True"
      ]
     },
     "execution_count": 14,
     "metadata": {},
     "output_type": "execute_result"
    }
   ],
   "source": [
    "is_palindrome2(\"racecar\")"
   ]
  },
  {
   "cell_type": "code",
   "execution_count": 15,
   "id": "ca07b83c-33af-4943-a45a-47edc86a1597",
   "metadata": {},
   "outputs": [
    {
     "data": {
      "text/plain": [
       "False"
      ]
     },
     "execution_count": 15,
     "metadata": {},
     "output_type": "execute_result"
    }
   ],
   "source": [
    "is_palindrome2(\"test\")"
   ]
  },
  {
   "cell_type": "markdown",
   "id": "9c02772c-524a-41e7-b592-513d979e9d55",
   "metadata": {},
   "source": [
    "JS/TS code trên freecodecamp:"
   ]
  },
  {
   "cell_type": "code",
   "execution_count": 41,
   "id": "9f4d0a79-4892-4c74-81cf-19b0dda98a09",
   "metadata": {},
   "outputs": [
    {
     "data": {
      "application/javascript": [
       "function isPalindrome(s) {\n",
       "  let left = 0;\n",
       "  let right = s.length - 1;\n",
       "\n",
       "  while (left <= right) {\n",
       "    if (s[left++] !== s[right--]) {\n",
       "      return false;\n",
       "    }\n",
       "  }\n",
       "\n",
       "  return true;\n",
       "}\n",
       "console.log(isPalindrome(\"racecar\"));  // true\n",
       "console.log(isPalindrome(\"hello\"));    // false\n"
      ],
      "text/plain": [
       "<IPython.core.display.Javascript object>"
      ]
     },
     "metadata": {},
     "output_type": "display_data"
    }
   ],
   "source": [
    "%%javascript\n",
    "function isPalindrome(s) {\n",
    "  let left = 0;\n",
    "  let right = s.length - 1;\n",
    "\n",
    "  while (left <= right) {\n",
    "    if (s[left++] !== s[right--]) { // chỗ này code hơi dồn, có thể xem code Python ở trên\n",
    "      return false;\n",
    "    }\n",
    "  }\n",
    "\n",
    "  return true;\n",
    "}\n",
    "console.log(isPalindrome(\"racecar\"));  // true\n",
    "console.log(isPalindrome(\"hello\"));    // false"
   ]
  },
  {
   "cell_type": "markdown",
   "id": "7249dd4f-b79b-4ced-9afd-8bae63ba64bb",
   "metadata": {},
   "source": [
    "## Bài toán Squares of a sorted array"
   ]
  },
  {
   "cell_type": "markdown",
   "id": "d5f7df32-27e9-42fc-875b-5c1338061770",
   "metadata": {},
   "source": [
    "The description says:   \n",
    "Given an integer array nums sorted in non-decreasing order, return an array of the squares of each number sorted in non-decreasing order.   \n",
    "For example, if the input is \\[-4, -1, 0, 3, 10\\], the output should be \\[0, 1, 9, 16, 100\\]."
   ]
  },
  {
   "cell_type": "markdown",
   "id": "fa2cd293-03c8-4488-b68b-f082c9b0a9fe",
   "metadata": {},
   "source": [
    "- Đây là array đã được sort sẵn, non-decreasing order tạm dịch là tăng dần\n",
    "- Có cả số âm lẫn dương\n",
    "- Tạo ra array mới là bình phương của các số này nhưng cũng phải được sort tăng dần\n",
    "- Trick ở đây là:\n",
    "    - Array có cả số âm và dương\n",
    "    - Số âm nhỏ nhất có index nhỏ nhất, số dương lớn nhất có index lớn nhất\n",
    "    - Nhưng khi bình phương lên, số lớn nhất chỉ có thể là số âm nhỏ nhất hoặc số dương lớn nhất này\n",
    "    - Chúng ta so sánh 2 giá trị này mà thay đổi pointer:\n",
    "        - Nếu số âm này bình phương lên lớn nhất thì left pointer thêm 1\n",
    "        - Ngược lại thì giảm right pointer đi 1\n",
    "        - Rồi tiếp tục bình phương lên rồi so sáng\n",
    "        - Giá trị bình phương này push vào 1 array mới\n",
    "    - Sau khi xong thì chúng ta có 1 arr mới có giá trị lớn nhất tới bé nhất, rồi sau đó reverse arr này lại"
   ]
  },
  {
   "cell_type": "code",
   "execution_count": 3,
   "id": "05f20d34-1c9c-40fe-bfe7-9b2a3ff89018",
   "metadata": {},
   "outputs": [],
   "source": [
    "def sorted_squares(nums):\n",
    "    left = 0\n",
    "    right = len(nums) - 1\n",
    "\n",
    "    result = []\n",
    "\n",
    "    while left <= right:\n",
    "        if abs(nums[left]) > abs(nums[right]):\n",
    "            result.append(nums[left]**2)\n",
    "            left += 1\n",
    "        else:\n",
    "            result.append(nums[right]**2)\n",
    "            right -= 1\n",
    "        print(\"result:\", result)\n",
    "    result.reverse()\n",
    "    return result\n",
    "            "
   ]
  },
  {
   "cell_type": "code",
   "execution_count": 4,
   "id": "ef29cf29-8760-40bf-b8f4-e07945d4a936",
   "metadata": {},
   "outputs": [
    {
     "name": "stdout",
     "output_type": "stream",
     "text": [
      "result: [100]\n",
      "result: [100, 16]\n",
      "result: [100, 16, 9]\n",
      "result: [100, 16, 9, 1]\n",
      "result: [100, 16, 9, 1, 0]\n",
      "[0, 1, 9, 16, 100]\n"
     ]
    }
   ],
   "source": [
    "a = sorted_squares([-4, -1, 0, 3, 10])\n",
    "print(a)"
   ]
  },
  {
   "cell_type": "markdown",
   "id": "d3975bde-d2b9-4feb-9920-42d790a57aca",
   "metadata": {},
   "source": [
    "Vì sao phải push theo thứ tự từ lớn tới nhỏ rồi reverse và không push data vào đầu array?   "
   ]
  },
  {
   "cell_type": "markdown",
   "id": "24372279-12aa-4952-9ba4-a4a2ea2032e7",
   "metadata": {},
   "source": [
    "- append chỉ là O(1), và reverse là O(n)\n",
    "- reverse ko nằm trong vòng lặp nên toàn bộ sẽ tốn đại khá là 2 x O(n) vẫn là O(n)\n",
    "- nếu insert value mới vào đầu array thì sẽ tốn O(n) => tổng thể tốn O(n^2)"
   ]
  },
  {
   "cell_type": "code",
   "execution_count": null,
   "id": "7431febe-3026-4c92-803e-065df66a25a3",
   "metadata": {},
   "outputs": [],
   "source": []
  },
  {
   "cell_type": "code",
   "execution_count": null,
   "id": "e7683384-5c2a-46bb-944d-aac652a9b586",
   "metadata": {},
   "outputs": [],
   "source": []
  }
 ],
 "metadata": {
  "kernelspec": {
   "display_name": "Python 3 (ipykernel)",
   "language": "python",
   "name": "python3"
  },
  "language_info": {
   "codemirror_mode": {
    "name": "ipython",
    "version": 3
   },
   "file_extension": ".py",
   "mimetype": "text/x-python",
   "name": "python",
   "nbconvert_exporter": "python",
   "pygments_lexer": "ipython3",
   "version": "3.12.3"
  }
 },
 "nbformat": 4,
 "nbformat_minor": 5
}
