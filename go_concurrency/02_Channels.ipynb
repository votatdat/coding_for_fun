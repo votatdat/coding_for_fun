{
 "cells": [
  {
   "cell_type": "markdown",
   "id": "f4c78fdc-f3e5-4d37-8f5b-46aadb2e6d1a",
   "metadata": {},
   "source": [
    "Một câu kinh điển của Go's philosophy: **Don't communicate by sharing memory; share memory by communicating.**  \n",
    "Philosophy nên chắc là phức tạp, nhưng mình thì nói rút gọn là: **Hãy sử dụng Channel.**"
   ]
  },
  {
   "cell_type": "markdown",
   "id": "8128a312-49d8-4b57-9125-10174b1af959",
   "metadata": {},
   "source": [
    "## Channel là gì?"
   ]
  },
  {
   "cell_type": "markdown",
   "id": "40d62e84-7f07-49da-9c15-6f819fc4456b",
   "metadata": {},
   "source": [
    "Channel thì mình thấy nó giống như cái ống, một goroutine đặt một cái gì vào đó, và một goroutine khác lấy nó ra  \n",
    "Cái ống này có thể chứa 1 hoặc nhiều món đồ"
   ]
  },
  {
   "cell_type": "code",
   "execution_count": null,
   "id": "4f7375b9-3d04-47b2-8fd1-fb1664c9b074",
   "metadata": {},
   "outputs": [],
   "source": [
    "ch <- v    // SEND - Đặt v (món đồ) vào cái ống (ch - channel)\n",
    "v := <-ch  // RECEIVE - Lấy món đồ ra khỏi cái ống, và gán nó vào v (lấy món đồ ra khỏi ống)"
   ]
  },
  {
   "cell_type": "markdown",
   "id": "7475cc7d-e25d-4c90-a386-c9d50b8105b5",
   "metadata": {},
   "source": [
    "## Khởi tạo và sử dụng Channel"
   ]
  },
  {
   "cell_type": "markdown",
   "id": "a69b589f-8063-4951-8c3e-15f35e6a6133",
   "metadata": {},
   "source": [
    "#### Một ví dụ về Channel"
   ]
  },
  {
   "cell_type": "code",
   "execution_count": 4,
   "id": "1962c1e0-3d3d-4e2b-a724-ced7e93fd426",
   "metadata": {},
   "outputs": [
    {
     "name": "stdout",
     "output_type": "stream",
     "text": [
      "ping\n"
     ]
    }
   ],
   "source": [
    "package main\n",
    "\n",
    "import \"fmt\"\n",
    "\n",
    "func main() {\n",
    "    // Tạo một channel để chứa món đồ có kiểu string\n",
    "    messages := make(chan string)\n",
    "    \n",
    "    // Tạo một goroutine, gửi \"ping\" tới cái channel đó\n",
    "    go func() {\n",
    "        messages <- \"ping\"\n",
    "    }()\n",
    "    \n",
    "    // Ở main routine thì lấy ping ra khỏi channel và gán vào msg\n",
    "    msg := <-messages\n",
    "    fmt.Println(msg) // In ra \"ping\"\n",
    "}"
   ]
  },
  {
   "cell_type": "markdown",
   "id": "60879a13-ac6a-479f-a6f5-5a1d665c197e",
   "metadata": {},
   "source": [
    "#### Vài điểm chú ý:\n",
    "- Channel phải được khởi tạo trước khi sử dụng\n",
    "- Send và Receive bị block mặc định để đảm bảo đồng bộ dữ liệu giữa các goroutine"
   ]
  },
  {
   "cell_type": "markdown",
   "id": "09ae59d9-7ea2-48cc-8912-52b908c12302",
   "metadata": {},
   "source": [
    "Tiện thể thì hàm `make` có thể được sử dụng để tạo:\n",
    "- slice\n",
    "- map\n",
    "- channel"
   ]
  },
  {
   "cell_type": "code",
   "execution_count": 9,
   "id": "5ad11c49-b730-4fc3-97ab-fd76c0ca0d9b",
   "metadata": {},
   "outputs": [
    {
     "name": "stdout",
     "output_type": "stream",
     "text": [
      "[0 0 0 0 0] 5 10\n"
     ]
    }
   ],
   "source": [
    "func main() {\n",
    "    s := make([]int, 5, 10)\n",
    "    // len = 5, cap = 10, initialized with zeros\n",
    "    fmt.Println(s, len(s), cap(s)) // 5 10\n",
    "}"
   ]
  },
  {
   "cell_type": "code",
   "execution_count": 7,
   "id": "899f2676-f920-4432-9674-3de31a91586c",
   "metadata": {},
   "outputs": [
    {
     "name": "stdout",
     "output_type": "stream",
     "text": [
      "map[apples:5]\n"
     ]
    }
   ],
   "source": [
    "func main() {\n",
    "    m := make(map[string]int)\n",
    "    m[\"apples\"] = 5\n",
    "    fmt.Println(m) // map[apples:5]\n",
    "}"
   ]
  },
  {
   "cell_type": "code",
   "execution_count": 8,
   "id": "3ed5972b-8bd9-4cdb-ace6-b51c51acd3fc",
   "metadata": {},
   "outputs": [
    {
     "name": "stdout",
     "output_type": "stream",
     "text": [
      "hi there\n"
     ]
    }
   ],
   "source": [
    "func main() {\n",
    "    ch := make(chan string, 2) // buffered channel with capacity 2\n",
    "    ch <- \"hi\"\n",
    "    ch <- \"there\"\n",
    "    fmt.Println(<-ch, <-ch) // hi there\n",
    "}"
   ]
  },
  {
   "cell_type": "markdown",
   "id": "08498ae9-9b6e-4b44-8f1b-f690b0f636f1",
   "metadata": {},
   "source": [
    "## Hướng của Channel"
   ]
  },
  {
   "cell_type": "markdown",
   "id": "d25d4a25-7e46-4f2e-890f-e845cb4f2753",
   "metadata": {},
   "source": [
    "#### Channel thì sẽ có 2 hướng, gọi là send và receive:\n",
    "- Send là đặt món đồ vào cái ống\n",
    "- Receive là lấy món đồ ra khỏi cái ống\n",
    "- Từ vựng send/receive có thể dễ gây nhầm lẫn lúc đầu:\n",
    "    - Lấy channel làm trung tâm\n",
    "    - Send là gửi data tới cái channel đó\n",
    "    - Receive là nhận data từ cái channel đó"
   ]
  },
  {
   "cell_type": "code",
   "execution_count": 10,
   "id": "0fa3645b-f134-4bdc-a3ad-e41e0e049935",
   "metadata": {},
   "outputs": [],
   "source": [
    "// Send-only channel\n",
    "func send(ch chan<- string) {\n",
    "    ch <- \"Hello\"\n",
    "}\n",
    "\n",
    "// Receive-only channel\n",
    "func receive(ch <-chan string) {\n",
    "    msg := <-ch\n",
    "    fmt.Println(msg)\n",
    "}"
   ]
  },
  {
   "cell_type": "markdown",
   "id": "2cdd7e8f-4fb8-4333-8eff-ef7276f0ac8a",
   "metadata": {},
   "source": [
    "#### Với arg của func:\n",
    "- Để tránh tạo bug lúc làm, arg của func *thường* chỉ là send hoặc receive mà thôi\n",
    "- Trick để nhớ send/receive:\n",
    "    - Lấy channel làm trung tâm\n",
    "    - Mũi tên đi vào cái channel thì là đang gửi data tới channel đó, gọi là send: **chan<-**\n",
    "    - Mũi tên đi ra khỏi cái channel thì là đang lấy data ra khỏi channel đó, gọi là receive: **<-chan**"
   ]
  },
  {
   "cell_type": "markdown",
   "id": "6a6e231d-5ef5-4a28-b86b-29f660a042fe",
   "metadata": {},
   "source": [
    "## Buffered Channels"
   ]
  },
  {
   "cell_type": "markdown",
   "id": "a6c74486-ba8d-4b4a-a7b7-57cac9017c20",
   "metadata": {},
   "source": []
  },
  {
   "cell_type": "code",
   "execution_count": 11,
   "id": "9990c046-ce96-4cb8-af04-fe1196e94439",
   "metadata": {},
   "outputs": [
    {
     "name": "stdout",
     "output_type": "stream",
     "text": [
      "1\n",
      "2\n"
     ]
    }
   ],
   "source": [
    "func main() {\n",
    "    // Tạo một buffered channel với capacity là 2\n",
    "    ch := make(chan int, 2)\n",
    "    \n",
    "    // Có thể gửi 2 món đồ tới channel\n",
    "    ch <- 1\n",
    "    ch <- 2\n",
    "    \n",
    "    // ch <- 3\n",
    "    // Gửi tiếp như vầy sẽ bị blog\n",
    "    \n",
    "    // Receive values\n",
    "    fmt.Println(<-ch) // 1\n",
    "    fmt.Println(<-ch) // 2\n",
    "}"
   ]
  },
  {
   "cell_type": "markdown",
   "id": "7bcf5862-d35b-4b6a-a80c-22b33c51af1f",
   "metadata": {},
   "source": [
    "#### Buffered vs Unbuffered\n",
    "\n",
    "| Aspect          | Unbuffered            | Buffered              |\n",
    "|-----------------|-----------------------|-----------------------|\n",
    "| **Creation**    | `make(chan T)`        | `make(chan T, n)`     |\n",
    "| **Send blocks** | Until receiver ready  | When buffer full      |\n",
    "| **Receive blocks** | Until sender ready | When buffer empty     |\n",
    "| **Synchronization** | Guaranteed        | Looser coupling       |\n",
    "| **Use case**    | Synchronization       | Performance, decoupling |\n"
   ]
  },
  {
   "cell_type": "markdown",
   "id": "4f19740c-850a-483b-bf77-562ab3cddf88",
   "metadata": {},
   "source": [
    "## Rob Pike's Channel Patterns"
   ]
  },
  {
   "cell_type": "markdown",
   "id": "2624206b-1ad7-4804-b091-d5bfcbeb2208",
   "metadata": {},
   "source": [
    "Theo Rob Pike: **Một generator là một function mà trả về một channel**"
   ]
  },
  {
   "cell_type": "code",
   "execution_count": 14,
   "id": "d2dd8d16-cb34-4ee4-a9ae-152a2f497afe",
   "metadata": {},
   "outputs": [
    {
     "name": "stdout",
     "output_type": "stream",
     "text": [
      "You say: \"boring! 0\"\n",
      "You say: \"boring! 1\"\n",
      "You say: \"boring! 2\"\n",
      "You say: \"boring! 3\"\n",
      "You say: \"boring! 4\"\n",
      "You say: \"boring! 5\"\n",
      "You say: \"boring! 6\"\n",
      "You say: \"boring! 7\"\n",
      "You say: \"boring! 8\"\n",
      "You say: \"boring! 9\"\n",
      "You're boring; I'm leaving.\n"
     ]
    }
   ],
   "source": [
    "func boring(msg string) <-chan string {\n",
    "    c := make(chan string)\n",
    "    go func() {\n",
    "        for i := 0; ; i++ {\n",
    "            c <- fmt.Sprintf(\"%s %d\", msg, i)\n",
    "            time.Sleep(time.Duration(rand.Intn(1e3)) * time.Millisecond)\n",
    "        }\n",
    "    }()\n",
    "    return c\n",
    "}\n",
    "\n",
    "func main() {\n",
    "    n := 10\n",
    "    c := boring(\"boring!\")\n",
    "    for i := 0; i < n; i++ {\n",
    "        fmt.Printf(\"You say: %q\\n\", <-c)\n",
    "    }\n",
    "    fmt.Println(\"You're boring; I'm leaving.\")\n",
    "}"
   ]
  },
  {
   "cell_type": "markdown",
   "id": "600e48e9-d0be-4050-ad42-d2578fa9696f",
   "metadata": {},
   "source": [
    "#### Vài note ở ví dụ này:\n",
    "- Hàm boring có input là một string, và trả về 1 string receive channel\n",
    "- Hàm boring tạo 1 goroutine chạy vòng lặp vô hạn, send một string có format `fmt.Sprintf(\"%s %d\", msg, i)` tới channel c\n",
    "- c là một unbuffered channel, nên khi send một string ở trên vào c, phải chờ hàm main lấy ra, rồi mới send string mới tiếp được\n",
    "- Trong hàm boring, có giả lập một khoảng sleep từ 0-1000ms, mô phỏng thời gian xử lí của goroutine này\n",
    "- Ở hàm main - vòng lặp for, `i` có thể chạy tới một số `n` nào đó tùy ý, thì ở hàm boring sẽ send được sô các message với số lượng y hệt\n",
    "- Chuyển c thành buffered channel thì kết quả vẫn thế"
   ]
  },
  {
   "cell_type": "code",
   "execution_count": 18,
   "id": "0e8ca3ca-c23b-495c-a90a-e9e3645f1400",
   "metadata": {},
   "outputs": [
    {
     "name": "stdout",
     "output_type": "stream",
     "text": [
      "You say: \"boring! 0\"\n",
      "You say: \"boring! 1\"\n",
      "You say: \"boring! 2\"\n",
      "You say: \"boring! 3\"\n",
      "You say: \"boring! 4\"\n",
      "You say: \"boring! 5\"\n",
      "You say: \"boring! 6\"\n",
      "You say: \"boring! 7\"\n",
      "You say: \"boring! 8\"\n",
      "You say: \"boring! 9\"\n",
      "You're boring; I'm leaving.\n"
     ]
    }
   ],
   "source": [
    "func boring(msg string) <-chan string {\n",
    "    c := make(chan string, 4)\n",
    "    go func() {\n",
    "        for i := 0; ; i++ {\n",
    "            c <- fmt.Sprintf(\"%s %d\", msg, i)\n",
    "            time.Sleep(time.Duration(rand.Intn(1e3)) * time.Millisecond)\n",
    "        }\n",
    "    }()\n",
    "    return c\n",
    "}\n",
    "\n",
    "func main() {\n",
    "    n := 10\n",
    "    c := boring(\"boring!\")\n",
    "    for i := 0; i < n; i++ {\n",
    "        fmt.Printf(\"You say: %q\\n\", <-c)\n",
    "    }\n",
    "    fmt.Println(\"You're boring; I'm leaving.\")\n",
    "}"
   ]
  },
  {
   "cell_type": "markdown",
   "id": "8f88e35a-6902-470a-ac0d-6b33299fbeea",
   "metadata": {},
   "source": [
    "#### Một ví dụ khác:"
   ]
  },
  {
   "cell_type": "code",
   "execution_count": 20,
   "id": "b6815cbd-9e7a-4332-929d-00ecbef08dc7",
   "metadata": {},
   "outputs": [
    {
     "name": "stdout",
     "output_type": "stream",
     "text": [
      "Result 1: 15\n",
      "Result 2: 60\n",
      "Result 3: 0\n"
     ]
    }
   ],
   "source": [
    "type Request struct {\n",
    "    args        []int\n",
    "    resultChan  chan int\n",
    "}\n",
    "\n",
    "func sum(a []int) int {\n",
    "    s := 0\n",
    "    for _, v := range a {\n",
    "        s += v\n",
    "    }\n",
    "    return s\n",
    "}\n",
    "\n",
    "func server(requests chan *Request) {\n",
    "    for req := range requests {\n",
    "        go func(req *Request) {\n",
    "            req.resultChan <- sum(req.args)\n",
    "        }(req)\n",
    "    }\n",
    "}\n",
    "\n",
    "func main() {\n",
    "\t// Channel for incoming requests\n",
    "\trequests := make(chan *Request)\n",
    "\n",
    "\t// Start server in background\n",
    "\tgo server(requests)\n",
    "\n",
    "\t// Test case 1\n",
    "\treq1 := &Request{\n",
    "\t\targs:       []int{1, 2, 3, 4, 5},\n",
    "\t\tresultChan: make(chan int),\n",
    "\t}\n",
    "\trequests <- req1\n",
    "\tfmt.Println(\"Result 1:\", <-req1.resultChan) // Expected: 15\n",
    "\n",
    "\t// Test case 2\n",
    "\treq2 := &Request{\n",
    "\t\targs:       []int{10, 20, 30},\n",
    "\t\tresultChan: make(chan int),\n",
    "\t}\n",
    "\trequests <- req2\n",
    "\tfmt.Println(\"Result 2:\", <-req2.resultChan) // Expected: 60\n",
    "\n",
    "\t// Test case 3\n",
    "\treq3 := &Request{\n",
    "\t\targs:       []int{},\n",
    "\t\tresultChan: make(chan int),\n",
    "\t}\n",
    "\trequests <- req3\n",
    "\tfmt.Println(\"Result 3:\", <-req3.resultChan) // Expected: 0\n",
    "}"
   ]
  },
  {
   "cell_type": "markdown",
   "id": "2f8131f7-7080-4916-8c35-4e2b9e6a817c",
   "metadata": {},
   "source": [
    "#### Điều chú ý ở đây:\n",
    "- Hàm server có vòng lặp for...range `for req := range requests` là để nghe requests mãi mãi\n",
    "- Trong hàm main, khi `go server(requests)` được chạy, hàm server sẽ lắng nghe requests mãi mãi cho tới khi hàm main kết thúc\n",
    "- Hàm server lắng nghe 3 request riêng biệt req1, req2, req3, và in ra kết quả\n",
    "- Khi hàm main kết thúc thì goroutine mới kết thúc"
   ]
  },
  {
   "cell_type": "markdown",
   "id": "04733064-8ba9-4d2b-91e5-e8c0ebc942a7",
   "metadata": {},
   "source": [
    "## Đóng một Channel"
   ]
  },
  {
   "cell_type": "code",
   "execution_count": 25,
   "id": "2fc4f58c-de1a-4901-84b9-62957118bde8",
   "metadata": {},
   "outputs": [
    {
     "name": "stdout",
     "output_type": "stream",
     "text": [
      "sent job 1\n",
      "sent job 2\n",
      "sent job 3\n",
      "sent all jobs\n",
      "received job 1\n",
      "received job 2\n",
      "received job 3\n",
      "received all jobs\n"
     ]
    }
   ],
   "source": [
    "func main() {\n",
    "    jobs := make(chan int, 5)\n",
    "    done := make(chan bool)\n",
    "    \n",
    "    go func() {\n",
    "        for {\n",
    "            j, more := <-jobs\n",
    "            if !more {\n",
    "                fmt.Println(\"received all jobs\")\n",
    "                done <- true\n",
    "                return\n",
    "            }\n",
    "            fmt.Println(\"received job\", j)\n",
    "        }\n",
    "    }()\n",
    "    \n",
    "    for j := 1; j <= 3; j++ {\n",
    "        jobs <- j\n",
    "        fmt.Println(\"sent job\", j)\n",
    "    }\n",
    "    close(jobs)\n",
    "    fmt.Println(\"sent all jobs\")\n",
    "    \n",
    "    <-done\n",
    "}"
   ]
  },
  {
   "cell_type": "markdown",
   "id": "4adf5e8f-8cad-4fbf-a3c2-08e42d32092a",
   "metadata": {},
   "source": [
    "#### Vài điểm ở ví dụ trên:\n",
    "- Ban đầu, chúng ta tạo 2 channel:\n",
    "    - jobs để xử lí công việc\n",
    "    - done để báo xử lí xong\n",
    "- Khi lấy data ra khỏi channel, thực ra có thể kiểm tra channel đã close chưa ` j, more := <-jobs`:\n",
    "    - j là lấy data ra khỏi channel jobs\n",
    "    - còn more là để check xem channel đã close chưa\n",
    "- `close(jobs)` là để đóng channel jobs\n",
    "- Khi channel đã close, more là false, gửi true đến done, lấy value ra khỏi done để kết thúc hàm main\n",
    "- `<-done` ở đây để giữ hàm main, comment lại và thử sẽ thấy kết quả như ở dưới"
   ]
  },
  {
   "cell_type": "code",
   "execution_count": 26,
   "id": "94666f69-67ca-4449-ad85-2ab73a406938",
   "metadata": {},
   "outputs": [
    {
     "name": "stdout",
     "output_type": "stream",
     "text": [
      "sent job 1\n",
      "sent job 2\n",
      "sent job 3\n",
      "sent all jobs\n"
     ]
    }
   ],
   "source": [
    "func main() {\n",
    "    jobs := make(chan int, 5)\n",
    "    done := make(chan bool)\n",
    "    \n",
    "    go func() {\n",
    "        for {\n",
    "            j, more := <-jobs\n",
    "            if !more {\n",
    "                fmt.Println(\"received all jobs\")\n",
    "                done <- true\n",
    "                return\n",
    "            }\n",
    "            fmt.Println(\"received job\", j)\n",
    "        }\n",
    "    }()\n",
    "    \n",
    "    for j := 1; j <= 3; j++ {\n",
    "        jobs <- j\n",
    "        fmt.Println(\"sent job\", j)\n",
    "    }\n",
    "    close(jobs)\n",
    "    fmt.Println(\"sent all jobs\")\n",
    "    \n",
    "    // <-done\n",
    "}"
   ]
  },
  {
   "cell_type": "markdown",
   "id": "91b88bef-6682-4023-a70a-153e33768d54",
   "metadata": {},
   "source": [
    "**Không có receive nào được in ra. Vì sao????**   \n",
    "Vì hàm main không bị block nữa mà kết thúc luôn"
   ]
  },
  {
   "cell_type": "markdown",
   "id": "7971e5b2-3591-42f0-9ad7-6c48edc78c37",
   "metadata": {},
   "source": [
    "`<-done` có nghĩa là:  \n",
    "- Chờ cho tới khi có data vào done channel và lấy nó ra (chờ sender gửi data vào channel để receive)\n",
    "- Nếu chưa có data từ sender, main goroutine bị block ở đây\n",
    "- Hàm main ko thể tiếp túc nếu chưa có `done <- true` ở 1 chỗ nào đó"
   ]
  },
  {
   "cell_type": "markdown",
   "id": "d3270f48-ec75-4575-ad1c-789c537fb29e",
   "metadata": {},
   "source": [
    "**Thường thì người ta sử dụng WaitGroup:**"
   ]
  },
  {
   "cell_type": "code",
   "execution_count": 30,
   "id": "96a0a0e9-2e4c-4230-b53b-725a76cefd15",
   "metadata": {},
   "outputs": [
    {
     "name": "stdout",
     "output_type": "stream",
     "text": [
      "sent job 1\n",
      "sent job 2\n",
      "sent job 3\n",
      "sent all jobs\n",
      "received job 1\n",
      "received job 2\n",
      "received job 3\n",
      "received all jobs\n"
     ]
    }
   ],
   "source": [
    "func main() {\n",
    "    jobs := make(chan int, 5)\n",
    "    var wg sync.WaitGroup\n",
    "\n",
    "    // Worker goroutine\n",
    "    wg.Add(1)\n",
    "    go func() {\n",
    "        defer wg.Done() // mark this goroutine as finished when function ends\n",
    "        for j := range jobs {\n",
    "            fmt.Println(\"received job\", j)\n",
    "        }\n",
    "        fmt.Println(\"received all jobs\")\n",
    "    }()\n",
    "\n",
    "    // Send jobs\n",
    "    for j := 1; j <= 3; j++ {\n",
    "        jobs <- j\n",
    "        fmt.Println(\"sent job\", j)\n",
    "    }\n",
    "    close(jobs)\n",
    "    fmt.Println(\"sent all jobs\")\n",
    "\n",
    "    // Wait for worker to finish\n",
    "    wg.Wait()\n",
    "}\n"
   ]
  },
  {
   "cell_type": "markdown",
   "id": "d2742c0e-58af-44a9-90df-30daddc0b75d",
   "metadata": {},
   "source": [
    "## Range Over Channels"
   ]
  },
  {
   "cell_type": "markdown",
   "id": "1f9c1b30-5654-4be7-97d4-347a59cb3ec5",
   "metadata": {},
   "source": [
    "Như đã giới thiệu sơ ở trên, có thể dùng `for...range` để nhận value cho tới khi đóng channel, cho dù close trước vòng lặp"
   ]
  },
  {
   "cell_type": "code",
   "execution_count": 32,
   "id": "02e21da3-db05-4e49-8f99-bdaa50a4c1cd",
   "metadata": {},
   "outputs": [
    {
     "name": "stdout",
     "output_type": "stream",
     "text": [
      "one\n",
      "two\n"
     ]
    }
   ],
   "source": [
    "func main() {\n",
    "    queue := make(chan string, 2)\n",
    "    queue <- \"one\"\n",
    "    queue <- \"two\"\n",
    "    close(queue)\n",
    "    \n",
    "    for elem := range queue {\n",
    "        fmt.Println(elem)\n",
    "    }\n",
    "}"
   ]
  },
  {
   "cell_type": "markdown",
   "id": "91ee93ba-f812-414f-8714-5719bd7bf7c6",
   "metadata": {},
   "source": [
    "## Common Pitfalls - vài cạm bẫy phổ biến"
   ]
  },
  {
   "cell_type": "markdown",
   "id": "8f08e0a2-23bb-4faa-8908-a48dfa00aec8",
   "metadata": {},
   "source": [
    "### 1. Deadlock"
   ]
  },
  {
   "cell_type": "code",
   "execution_count": 33,
   "id": "22e83c70-8eb1-4517-aa05-b2b125b2084b",
   "metadata": {},
   "outputs": [
    {
     "name": "stderr",
     "output_type": "stream",
     "text": [
      "fatal error: all goroutines are asleep - deadlock!\n",
      "\n",
      "goroutine 1 [chan send]:\n",
      "main.main()\n",
      "\t \u001b[7m[[ Cell [33] Line 4 ]]\u001b[0m /tmp/gonb_e1c925eb/main.go:55 +0x36\n",
      "exit status 2\n"
     ]
    }
   ],
   "source": [
    "// Deadlock - all goroutines blocked\n",
    "func main() {\n",
    "    ch := make(chan int)\n",
    "    ch <- 42  // Blocks forever, no receiver\n",
    "    fmt.Println(<-ch)\n",
    "}"
   ]
  },
  {
   "cell_type": "markdown",
   "id": "65c74b07-aac3-46f3-856d-625fc01f6ad6",
   "metadata": {},
   "source": [
    "#### Vài chú ý ở đoạn code trên:\n",
    "- Thoạt nhìn thì thấy có cả send lẫn receive cho channel này\n",
    "- Nhưng ch là 1 unbuffered channel, nên mọi thứ sẽ bị block cho đến khi sender lẫn receiver sẵn sàng\n",
    "- Khi send (`ch <- 42`) thì main goroutine sẽ bị block cho đến khi 1 goroutine khác receive\n",
    "- Tương tự như giải thích về `done` ở trên, receive (`<-ch`) cũng sẽ bị block cho đến khi 1 goroutine khác send (code ko chạy tới được dòng này)\n",
    "- Do đó, tại dòng ch <- 42, main goroutine đã bị block vĩnh viễn"
   ]
  },
  {
   "cell_type": "markdown",
   "id": "5c298205-a834-4278-a4ff-4e25572a8cc6",
   "metadata": {},
   "source": [
    "#### Option 1: tạo thêm goroutine trong main  \n",
    "Điều này ok vì goroutine là bình đẳng, 1 goroutine trong main goroutine cũng chạy đồng thời (concurrent) với nhau"
   ]
  },
  {
   "cell_type": "code",
   "execution_count": 50,
   "id": "51e556f0-e62d-46ac-bf6d-e26dacc31274",
   "metadata": {},
   "outputs": [
    {
     "name": "stdout",
     "output_type": "stream",
     "text": [
      "42\n"
     ]
    }
   ],
   "source": [
    "func main() {\n",
    "    ch := make(chan int)\n",
    "    go func() {\n",
    "        ch <- 42 // sender runs in its own goroutine\n",
    "    }()\n",
    "    fmt.Println(<-ch) // receiver\n",
    "}"
   ]
  },
  {
   "cell_type": "markdown",
   "id": "3a215889-70cb-41fe-bc56-651795a6eb60",
   "metadata": {},
   "source": [
    "#### Option 2: dùng buffered channel  \n",
    "Do là buffered channel nên đoạn code sẽ không bị block  \n",
    "Đây là điểm khác nhau giữa unbuffered channel, và buffered channel có capacity là 1  \n",
    "- Đối với unbuffered channel:\n",
    "    - send bị block cho đến khi receiver sẵn sàng\n",
    "    - receive bị block cho đến khi sender sẵn sàng\n",
    "- Đối với buffered channel:\n",
    "    - send bị block khi buffer đầy\n",
    "    - receive bị block khi buffer rỗng"
   ]
  },
  {
   "cell_type": "code",
   "execution_count": 39,
   "id": "4990293c-2785-4584-9c8e-c3401b1612e9",
   "metadata": {},
   "outputs": [
    {
     "name": "stdout",
     "output_type": "stream",
     "text": [
      "42\n"
     ]
    }
   ],
   "source": [
    "func main() {\n",
    "    ch := make(chan int, 1) // buffer size 1\n",
    "\n",
    "    ch <- 42                // succeeds immediately, no receiver yet\n",
    "    fmt.Println(<-ch)       // later receive\n",
    "}"
   ]
  },
  {
   "cell_type": "markdown",
   "id": "311d6a7d-0ff0-4133-ac7a-7c727acec447",
   "metadata": {},
   "source": [
    "### 2. Goroutine Leak  \n",
    "Có receive mà không có send"
   ]
  },
  {
   "cell_type": "code",
   "execution_count": 43,
   "id": "36c36155-201c-44f2-b539-c69fcf263318",
   "metadata": {},
   "outputs": [],
   "source": [
    "// Leak - goroutine runs forever\n",
    "func leak() {\n",
    "    ch := make(chan int)\n",
    "    go func() {\n",
    "        val := <-ch  // Blocks forever if ch never receives\n",
    "        fmt.Println(val)\n",
    "    }()\n",
    "    // Function returns, goroutine still running\n",
    "}"
   ]
  },
  {
   "cell_type": "markdown",
   "id": "38e7d6cc-a0a3-4d4d-b494-1042888ab824",
   "metadata": {},
   "source": [
    "#### Option 1: thêm sender"
   ]
  },
  {
   "cell_type": "code",
   "execution_count": 44,
   "id": "8d63f258-dc58-45f2-a712-8d5e08e26cd1",
   "metadata": {},
   "outputs": [],
   "source": [
    "func notLeak() {\n",
    "    ch := make(chan int)\n",
    "\n",
    "    go func() {\n",
    "        val := <-ch\n",
    "        fmt.Println(val)\n",
    "    }()\n",
    "\n",
    "    ch <- 42 // sender ensures goroutine unblocks\n",
    "}"
   ]
  },
  {
   "cell_type": "markdown",
   "id": "62ee4fe1-2c76-4275-a346-01bf77c09ccd",
   "metadata": {},
   "source": [
    "#### Option 2: nhớ close channel"
   ]
  },
  {
   "cell_type": "code",
   "execution_count": 45,
   "id": "e6e91043-5a08-4d6e-9b98-35871b710f4e",
   "metadata": {},
   "outputs": [],
   "source": [
    "func notLeak() {\n",
    "    ch := make(chan int)\n",
    "\n",
    "    go func() {\n",
    "        val, ok := <-ch\n",
    "        if !ok {\n",
    "            fmt.Println(\"channel closed, exiting goroutine\")\n",
    "            return\n",
    "        }\n",
    "        fmt.Println(val)\n",
    "    }()\n",
    "\n",
    "    close(ch)\n",
    "}"
   ]
  },
  {
   "cell_type": "markdown",
   "id": "ee9e6f36-dcba-4a01-8fd2-b9d790dc1105",
   "metadata": {},
   "source": [
    "#### Option 3: thêm context"
   ]
  },
  {
   "cell_type": "code",
   "execution_count": 46,
   "id": "a7d436d2-10cb-4364-9e4d-cb0f133d3ae3",
   "metadata": {},
   "outputs": [],
   "source": [
    "func notLeak() {\n",
    "    ctx, cancel := context.WithCancel(context.Background())\n",
    "    defer cancel()\n",
    "\n",
    "    ch := make(chan int)\n",
    "\n",
    "    go func() {\n",
    "        select {\n",
    "        case val := <-ch:\n",
    "            fmt.Println(val)\n",
    "        case <-ctx.Done():\n",
    "            fmt.Println(\"canceled\")\n",
    "            return\n",
    "        }\n",
    "    }()\n",
    "\n",
    "    // when not sending, cancel will prevent the leak\n",
    "}"
   ]
  },
  {
   "cell_type": "markdown",
   "id": "e26f6288-d069-4d2b-ba81-4be8ffb24327",
   "metadata": {},
   "source": [
    "### 3. Race on Channel Variable"
   ]
  },
  {
   "cell_type": "code",
   "execution_count": 47,
   "id": "e1772af1-4a79-476d-b8b9-9a44d261d428",
   "metadata": {},
   "outputs": [],
   "source": [
    "// Race condition\n",
    "var ch chan int\n",
    "\n",
    "func main() {\n",
    "    go func() {\n",
    "        ch = make(chan int)  // Race!\n",
    "    }()\n",
    "    go func() {\n",
    "        ch <- 42  // Race!\n",
    "    }()\n",
    "}"
   ]
  },
  {
   "cell_type": "markdown",
   "id": "4c59ea19-6dc0-48d1-a030-15fa6d4b5227",
   "metadata": {},
   "source": [
    "## Best practices"
   ]
  },
  {
   "cell_type": "markdown",
   "id": "f75d7792-33d0-4fb9-b5cc-08563e6aafd3",
   "metadata": {},
   "source": [
    "### 1. Ownership  \n",
    "- goroutine nào tạo channel thì nên close channel ở goroutine đó\n",
    "- Nên truyền channel như 1 parameter để làm rõ ownership"
   ]
  },
  {
   "cell_type": "markdown",
   "id": "a0f62b8a-f057-4f82-943d-644233e8278c",
   "metadata": {},
   "source": [
    "### 2. Directional Channels  \n",
    "Nên truyền rõ ràng hướng của channel (send hay receive)"
   ]
  },
  {
   "cell_type": "code",
   "execution_count": 48,
   "id": "98c3a344-2d50-4db5-a059-f330f2c9a662",
   "metadata": {},
   "outputs": [],
   "source": [
    "// ✅ Clear intent\n",
    "func worker(jobs <-chan int, results chan<- int) {\n",
    "    for j := range jobs {\n",
    "        results <- j * 2\n",
    "    }\n",
    "}"
   ]
  },
  {
   "cell_type": "markdown",
   "id": "6a2622b7-86eb-4372-8f77-bd23c80ec9c8",
   "metadata": {},
   "source": [
    "### 3. Select for Non-blocking\n",
    "Một kĩ thuật dùng select, nếu không có send gì thì nhảy vào default, đoạn code sẽ không bị block"
   ]
  },
  {
   "cell_type": "code",
   "execution_count": null,
   "id": "b616c6c5-17a2-4948-9368-64a0dd1cbd44",
   "metadata": {},
   "outputs": [],
   "source": [
    "// ✅ Non-blocking send\n",
    "select {\n",
    "case ch <- value:\n",
    "    // Sent successfully\n",
    "default:\n",
    "    // Channel was full\n",
    "}"
   ]
  },
  {
   "cell_type": "markdown",
   "id": "395dcaf6-bbfd-4ce2-9a34-4360312e4200",
   "metadata": {},
   "source": []
  }
 ],
 "metadata": {
  "kernelspec": {
   "display_name": "Go (gonb)",
   "language": "go",
   "name": "gonb"
  },
  "language_info": {
   "codemirror_mode": "",
   "file_extension": ".go",
   "mimetype": "text/x-go",
   "name": "go",
   "nbconvert_exporter": "",
   "pygments_lexer": "",
   "version": "go1.24.6"
  }
 },
 "nbformat": 4,
 "nbformat_minor": 5
}
