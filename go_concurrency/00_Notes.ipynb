{
 "cells": [
  {
   "cell_type": "markdown",
   "id": "d986a0e4-f208-4677-85f9-e45d58d278da",
   "metadata": {},
   "source": [
    "#### Coding interview question:   \n",
    "Write a Go function to merge multiple input channels into one output channel.   \n",
    "How do you ensure no data loss and proper closure?   \n",
    "Fan-in patterns like this are a staple of distributed systems and concurrent code!    \n",
    "Handling multiple streams, guaranteeing no value loss, and clean closure is tougher than it looks."
   ]
  },
  {
   "cell_type": "code",
   "execution_count": 2,
   "id": "041023e5-6c87-41a5-be80-b0f27a21ef95",
   "metadata": {},
   "outputs": [
    {
     "name": "stdout",
     "output_type": "stream",
     "text": [
      "1\n",
      "21\n",
      "31\n",
      "41\n",
      "2\n",
      "3\n",
      "22\n",
      "32\n",
      "42\n",
      "43\n",
      "4\n",
      "23\n",
      "33\n",
      "44\n",
      "45\n",
      "5\n",
      "24\n",
      "34\n",
      "35\n",
      "46\n",
      "6\n",
      "25\n",
      "36\n",
      "26\n"
     ]
    }
   ],
   "source": [
    "func generate[T any](nums ...T) <-chan T {\n",
    "\tout := make(chan T)\n",
    "\tgo func() {\n",
    "\t\tfor _, n := range nums {\n",
    "\t\t\tout <- n\n",
    "\t\t}\n",
    "\t\tclose(out)\n",
    "\t}()\n",
    "\treturn out\n",
    "}\n",
    "\n",
    "func merge[T any](chs ...<-chan T) <-chan T {\n",
    "\tout := make(chan T)\n",
    "\tvar wg sync.WaitGroup\n",
    "\twg.Add(len(chs))\n",
    "\tfor _, ch := range chs {\n",
    "\t\tgo func(c <-chan T) {\n",
    "\t\t\tfor v := range c {\n",
    "\t\t\t\tout <- v\n",
    "\t\t\t}\n",
    "\t\t\twg.Done()\n",
    "\t\t}(ch)\n",
    "\t}\n",
    "\tgo func() {\n",
    "\t\twg.Wait()\n",
    "\t\tclose(out)\n",
    "\t}()\n",
    "\treturn out\n",
    "}\n",
    "\n",
    "func main() {\n",
    "\tch1 := generate(1, 2, 3, 4, 5, 6)\n",
    "\tch2 := generate(21, 22, 23, 24, 25, 26)\n",
    "\tch3 := generate(31, 32, 33, 34, 35, 36)\n",
    "\tch4 := generate(41, 42, 43, 44, 45, 46)\n",
    "\tfor data := range merge(ch1, ch2, ch3, ch4) {\n",
    "\t\tfmt.Println(data)\n",
    "\t}\n",
    "}"
   ]
  },
  {
   "cell_type": "code",
   "execution_count": null,
   "id": "6d2b285d-987e-4234-813e-99d0487d62c5",
   "metadata": {},
   "outputs": [],
   "source": []
  },
  {
   "cell_type": "code",
   "execution_count": null,
   "id": "41c1a340-b53a-4b97-93c7-ef2aada0c96a",
   "metadata": {},
   "outputs": [],
   "source": []
  },
  {
   "cell_type": "code",
   "execution_count": null,
   "id": "4c0057f8-5c3f-4a46-b4d8-b3aa117b9c3b",
   "metadata": {},
   "outputs": [],
   "source": []
  },
  {
   "cell_type": "code",
   "execution_count": null,
   "id": "6e2e4cbc-c7c8-43bf-89c5-93749e955c07",
   "metadata": {},
   "outputs": [],
   "source": []
  },
  {
   "cell_type": "code",
   "execution_count": null,
   "id": "b81b8b29-7ba7-410a-bb43-e47eb192015d",
   "metadata": {},
   "outputs": [],
   "source": []
  },
  {
   "cell_type": "code",
   "execution_count": null,
   "id": "a3447522-6c72-4884-ae70-e36cfc041555",
   "metadata": {},
   "outputs": [],
   "source": []
  }
 ],
 "metadata": {
  "kernelspec": {
   "display_name": "Go (gonb)",
   "language": "go",
   "name": "gonb"
  },
  "language_info": {
   "codemirror_mode": "",
   "file_extension": ".go",
   "mimetype": "text/x-go",
   "name": "go",
   "nbconvert_exporter": "",
   "pygments_lexer": "",
   "version": "go1.24.6"
  }
 },
 "nbformat": 4,
 "nbformat_minor": 5
}
