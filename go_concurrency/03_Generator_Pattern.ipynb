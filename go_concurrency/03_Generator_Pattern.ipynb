{
 "cells": [
  {
   "cell_type": "markdown",
   "id": "20721c69-0350-4396-971d-5fcbd71c1ad8",
   "metadata": {},
   "source": [
    "## Generator là gì?"
   ]
  },
  {
   "cell_type": "markdown",
   "id": "a8c972ab-ccdb-4a7b-9ad1-6f283f048d91",
   "metadata": {},
   "source": [
    "Như đã nói qua ở phần trước, generator đơn giản là một function trả về một channel, mục tiêu là để tách biệt:\n",
    "- Values, data được tạo như thế nào\n",
    "- Và các giá trị này được consume ở đâu\n",
    "\n",
    "Trong function, goroutine sẽ tạo data và đẩy vào channel.  \n",
    "Consumer chỗ khác chỉ đơn giản là tiêu thụ data ở đây mà không cần quan tâm nó được tạo như thế nào.  \n",
    "Template chung là như ở dưới"
   ]
  },
  {
   "cell_type": "code",
   "execution_count": null,
   "id": "b9299d57-9206-4acc-9fd3-78e6f3fc3d99",
   "metadata": {},
   "outputs": [],
   "source": [
    "// Generator function signature\n",
    "func generator() <-chan Type {\n",
    "    ch := make(chan Type)\n",
    "    go func() {\n",
    "        // Produce values\n",
    "        // Send to ch\n",
    "    }()\n",
    "    return ch\n",
    "}"
   ]
  },
  {
   "cell_type": "markdown",
   "id": "c1f85420-aa8c-48d9-a63c-f7487038498b",
   "metadata": {},
   "source": [
    "#### Ví dụ:"
   ]
  },
  {
   "cell_type": "code",
   "execution_count": 3,
   "id": "518c5cdd-131c-4e2d-a9f9-820ad445b92e",
   "metadata": {},
   "outputs": [
    {
     "name": "stdout",
     "output_type": "stream",
     "text": [
      "1\n",
      "2\n",
      "3\n",
      "4\n",
      "5\n"
     ]
    }
   ],
   "source": [
    "// Generator: trả về một channel mà tạo ra các số từ 1 tới n\n",
    "func count(n int) <-chan int {\n",
    "    out := make(chan int)\n",
    "\n",
    "    go func() {\n",
    "        for i := 1; i <= n; i++ {\n",
    "            out <- i\n",
    "        }\n",
    "        close(out)\n",
    "    }()\n",
    "\n",
    "    return out\n",
    "}\n",
    "\n",
    "func main() {\n",
    "    nums := count(5)\n",
    "\n",
    "    // dùng for...range để loop channel\n",
    "    for v := range nums {\n",
    "        fmt.Println(v)\n",
    "    }\n",
    "}"
   ]
  },
  {
   "cell_type": "markdown",
   "id": "e710e3d3-48c9-42ac-a47a-00e16f2acca7",
   "metadata": {},
   "source": [
    "## Rob Pike's Classic Example"
   ]
  },
  {
   "cell_type": "markdown",
   "id": "043f4a1b-444f-4e9f-a8e0-0376a2d1b425",
   "metadata": {},
   "source": [
    "Classic generator của Rob Pike, tương tự ví dụ ở trên, điểm khác:\n",
    "- Ví dụ ở trên có close để đóng channel\n",
    "- Ví dụ của Rob Pike ko có ý định đóng channel khi xong, mà dùng time.Sleep cho chạy hoài tới khi main kết thúc\n",
    "- Đóng một channel chỉ là optional"
   ]
  },
  {
   "cell_type": "code",
   "execution_count": 4,
   "id": "bd095a2d-1223-44bd-9028-d3816640f44b",
   "metadata": {},
   "outputs": [
    {
     "name": "stdout",
     "output_type": "stream",
     "text": [
      "Joe 0\n",
      "Ann 0\n",
      "Joe 1\n",
      "Ann 1\n",
      "Joe 2\n",
      "Ann 2\n",
      "Joe 3\n",
      "Ann 3\n",
      "Joe 4\n",
      "Ann 4\n",
      "Joe 5\n",
      "Ann 5\n",
      "Joe 6\n",
      "Ann 6\n",
      "Joe 7\n",
      "Ann 7\n",
      "Joe 8\n",
      "Ann 8\n",
      "Joe 9\n",
      "Ann 9\n",
      "You're both boring; I'm leaving.\n"
     ]
    }
   ],
   "source": [
    "func boring(msg string) <-chan string {\n",
    "    c := make(chan string)\n",
    "    go func() {\n",
    "        for i := 0; ; i++ {\n",
    "            c <- fmt.Sprintf(\"%s %d\", msg, i)\n",
    "            time.Sleep(time.Duration(rand.Intn(1e3)) * time.Millisecond)\n",
    "        }\n",
    "    }()\n",
    "    return c\n",
    "}\n",
    "\n",
    "func main() {\n",
    "    joe := boring(\"Joe\")\n",
    "    ann := boring(\"Ann\")\n",
    "    \n",
    "    for i := 0; i < 10; i++ {\n",
    "        fmt.Println(<-joe)\n",
    "        fmt.Println(<-ann)\n",
    "    }\n",
    "    fmt.Println(\"You're both boring; I'm leaving.\")\n",
    "}"
   ]
  },
  {
   "cell_type": "markdown",
   "id": "b4ba4502-4cee-4898-974f-4d9ce22e4098",
   "metadata": {
    "jp-MarkdownHeadingCollapsed": true
   },
   "source": [
    "## Tại sao dùng Generator?"
   ]
  },
  {
   "cell_type": "markdown",
   "id": "40b84367-0656-4d44-841f-70af5b089d0c",
   "metadata": {},
   "source": [
    "### 1. Encapsulation - tính đóng gói\n",
    "Caller/Consumer không cần quan tâm tới quản lý goroutine thế nào"
   ]
  },
  {
   "cell_type": "code",
   "execution_count": null,
   "id": "077c5a8a-43fa-4003-a603-37d6af8dafe4",
   "metadata": {},
   "outputs": [],
   "source": [
    "// Without generator - manual goroutine management\n",
    "ch := make(chan int)\n",
    "go func() {\n",
    "    for i := 0; i < 10; i++ {\n",
    "        ch <- i\n",
    "    }\n",
    "    close(ch)\n",
    "}()\n",
    "\n",
    "// With generator - clean interface\n",
    "numbers := generateNumbers(10)"
   ]
  },
  {
   "cell_type": "markdown",
   "id": "54ef4cdb-052a-4559-a18e-574bd45f894d",
   "metadata": {},
   "source": [
    "### 2. Composability\n",
    "Các generators có thể chained với nhau"
   ]
  },
  {
   "cell_type": "code",
   "execution_count": null,
   "id": "c47dd34c-f0df-4979-9d4f-67a261be05b2",
   "metadata": {},
   "outputs": [],
   "source": [
    "func double(in <-chan int) <-chan int {\n",
    "    out := make(chan int)\n",
    "    go func() {\n",
    "        for n := range in {\n",
    "            out <- n * 2\n",
    "        }\n",
    "        close(out)\n",
    "    }()\n",
    "    return out\n",
    "}\n",
    "\n",
    "// Compose generators\n",
    "numbers := generateNumbers(10)\n",
    "doubled := double(numbers)"
   ]
  },
  {
   "cell_type": "markdown",
   "id": "b6aa0335-3f2b-48d3-aba3-ca97453e2016",
   "metadata": {},
   "source": [
    "### 3. Separation of Concerns\n",
    "Phân chia logic giữa producer và consumer"
   ]
  },
  {
   "cell_type": "markdown",
   "id": "35b6eb0d-a4ea-4b9c-b268-7c9ba7a89f02",
   "metadata": {},
   "source": [
    "## Common Generator Patterns"
   ]
  },
  {
   "cell_type": "markdown",
   "id": "8de965dc-76e9-4a51-999d-0d083d912104",
   "metadata": {},
   "source": [
    "### 1. Finite Generator\n",
    "Này giống ví dụ đầu tiên, tạo ra một hữu hạn dãy số"
   ]
  },
  {
   "cell_type": "code",
   "execution_count": 8,
   "id": "127e8af0-016d-4951-a225-6709e93da24d",
   "metadata": {},
   "outputs": [
    {
     "name": "stdout",
     "output_type": "stream",
     "text": [
      "0\n",
      "1\n",
      "2\n",
      "3\n",
      "4\n"
     ]
    }
   ],
   "source": [
    "func counter(max int) <-chan int {\n",
    "    ch := make(chan int)\n",
    "    go func() {\n",
    "        for i := 0; i < max; i++ {\n",
    "            ch <- i\n",
    "        }\n",
    "        close(ch)\n",
    "    }()\n",
    "    return ch\n",
    "}\n",
    "\n",
    "func main() {\n",
    "    for n := range counter(5) {\n",
    "        fmt.Println(n) // 0, 1, 2, 3, 4\n",
    "    }\n",
    "}"
   ]
  },
  {
   "cell_type": "markdown",
   "id": "7f70ced5-bf39-4d00-9609-7955079cdc75",
   "metadata": {},
   "source": [
    "### 2. Infinite Generator\n",
    "Tạo ra vô hạn số, ví dụ của Rob Pike ở trên"
   ]
  },
  {
   "cell_type": "code",
   "execution_count": 10,
   "id": "442a4b13-482a-4a16-93bf-e992bf24f20a",
   "metadata": {},
   "outputs": [
    {
     "name": "stdout",
     "output_type": "stream",
     "text": [
      "0\n",
      "1\n",
      "1\n",
      "2\n",
      "3\n",
      "5\n",
      "8\n",
      "13\n",
      "21\n",
      "34\n"
     ]
    }
   ],
   "source": [
    "func fibonacci() <-chan int {\n",
    "    ch := make(chan int)\n",
    "    go func() {\n",
    "        a, b := 0, 1\n",
    "        for {\n",
    "            ch <- a\n",
    "            a, b = b, a+b\n",
    "        }\n",
    "    }()\n",
    "    return ch\n",
    "}\n",
    "\n",
    "func main() {\n",
    "    fib := fibonacci()\n",
    "    for i := 0; i < 10; i++ {\n",
    "        fmt.Println(<-fib)\n",
    "    }\n",
    "}"
   ]
  },
  {
   "cell_type": "markdown",
   "id": "0ba395cd-5f15-4d59-8b5f-4ae44ccbf37b",
   "metadata": {},
   "source": [
    "### 3. Generator with State"
   ]
  },
  {
   "cell_type": "code",
   "execution_count": 12,
   "id": "00f8c089-09e6-47b2-bb87-f9dd661d5e14",
   "metadata": {},
   "outputs": [],
   "source": [
    "func randomGenerator(seed int64) <-chan int {\n",
    "    ch := make(chan int)\n",
    "    go func() {\n",
    "        r := rand.New(rand.NewSource(seed))\n",
    "        for {\n",
    "            ch <- r.Intn(100)\n",
    "        }\n",
    "    }()\n",
    "    return ch\n",
    "}"
   ]
  },
  {
   "cell_type": "markdown",
   "id": "c337a3bc-9948-44ee-91ef-1ea054dde863",
   "metadata": {},
   "source": [
    "Đây là ví dụ về tạo ra số ngẫu nhiên, nhưng giải thuật để tạo ra số ngẫu nhiên cần phải giữ state mỗi lần tạo ra số mới, nghĩa là mỗi lần gọi tạo ra 1 số random thì state của hàm này là không đổi"
   ]
  },
  {
   "cell_type": "markdown",
   "id": "5cfce5b4-b1be-488d-9f69-f7806116a9d1",
   "metadata": {},
   "source": [
    "### 4. Generator with Cleanup"
   ]
  },
  {
   "cell_type": "code",
   "execution_count": 13,
   "id": "bd13e2be-78e8-4c86-a9af-d66e9079e837",
   "metadata": {},
   "outputs": [
    {
     "name": "stdout",
     "output_type": "stream",
     "text": [
      "0\n",
      "1\n",
      "2\n",
      "3\n",
      "4\n"
     ]
    }
   ],
   "source": [
    "func generate(done <-chan bool) <-chan int {\n",
    "    ch := make(chan int)\n",
    "    go func() {\n",
    "        defer close(ch)\n",
    "        for i := 0; ; i++ {\n",
    "            select {\n",
    "            case ch <- i:\n",
    "                // Successfully sent\n",
    "            case <-done:\n",
    "                return\n",
    "            }\n",
    "        }\n",
    "    }()\n",
    "    return ch\n",
    "}\n",
    "\n",
    "func main() {\n",
    "    done := make(chan bool)\n",
    "    numbers := generate(done)\n",
    "    \n",
    "    // Consume some values\n",
    "    for i := 0; i < 5; i++ {\n",
    "        fmt.Println(<-numbers)\n",
    "    }\n",
    "    \n",
    "    // Stop the generator\n",
    "    close(done)\n",
    "}"
   ]
  },
  {
   "cell_type": "markdown",
   "id": "188e2649-81eb-47e9-b9ef-9ff01661df26",
   "metadata": {},
   "source": [
    "Đây là một ví dụ kinh điển về channel done có kiểu boolean để kết thúc một func. Nhưng kiểu boolean vẫn tốn 1 bit, có trick sử dụng empty struct cho việc này:"
   ]
  },
  {
   "cell_type": "code",
   "execution_count": null,
   "id": "8f479439-a20d-460e-ab8c-ea1b91394982",
   "metadata": {},
   "outputs": [],
   "source": [
    "func generate(done <-chan struct{}) <-chan int {\n",
    "    ch := make(chan int)\n",
    "    go func() {\n",
    "        defer close(ch)\n",
    "        for i := 0; ; i++ {\n",
    "            select {\n",
    "            case ch <- i:\n",
    "            case <-done:\n",
    "                return\n",
    "            }\n",
    "        }\n",
    "    }()\n",
    "    return ch\n",
    "}\n",
    "\n",
    "func main() {\n",
    "    done := make(chan struct{}) \n",
    "    numbers := generate(done)\n",
    "\n",
    "    // Consume some values\n",
    "    for i := 0; i < 5; i++ {\n",
    "        fmt.Println(<-numbers)\n",
    "    }\n",
    "\n",
    "    close(done)\n",
    "}"
   ]
  },
  {
   "cell_type": "markdown",
   "id": "3ec81923-1a06-49bf-8801-f57cfc4de6d2",
   "metadata": {},
   "source": [
    "### `close(done)` vs `done <- struct{}{}`"
   ]
  },
  {
   "cell_type": "code",
   "execution_count": null,
   "id": "838e6106-f0c4-4b96-ab20-803039177a65",
   "metadata": {},
   "outputs": [],
   "source": [
    "go func() {\n",
    "    <-done // will unblock as soon as channel is closed\n",
    "    fmt.Println(\"Stopped\")\n",
    "}()\n",
    "\n",
    "close(done) // all listeners stop"
   ]
  },
  {
   "cell_type": "code",
   "execution_count": null,
   "id": "b9f78c3a-6e16-4f1d-a15c-e0feeca6e88e",
   "metadata": {},
   "outputs": [],
   "source": [
    "go func() {\n",
    "    <-done\n",
    "    fmt.Println(\"Got the signal\")\n",
    "}()\n",
    "\n",
    "done <- struct{}{} // only one goroutine receives this"
   ]
  },
  {
   "cell_type": "markdown",
   "id": "810e37f4-df56-4a87-a806-4a6cff39ae22",
   "metadata": {},
   "source": [
    "- `close(done)`: báo toàn bộ goroutine stop (đây cũng là cách `context.Context` hoạt động\n",
    "- `done <- struct{}{}`: để đánh thức 1 goroutine, có thể gửi nhiều signal như job queue   \n",
    "Xem ví dụ bên dưới để thấy rõ hơn"
   ]
  },
  {
   "cell_type": "code",
   "execution_count": 14,
   "id": "42a5e5a2-5fb4-499e-9571-07c36d1101ec",
   "metadata": {},
   "outputs": [
    {
     "name": "stdout",
     "output_type": "stream",
     "text": [
      "Worker 3 working...\n",
      "Worker 1 working...\n",
      "Worker 2 working...\n",
      "Worker 2 working...\n",
      "Worker 3 working...\n",
      "Worker 1 working...\n",
      "Worker 1 working...\n",
      "Worker 2 working...\n",
      "Worker 3 working...\n",
      "Worker 3 working...\n",
      "Worker 2 working...\n",
      "Worker 1 working...\n",
      ">>> Closing done channel (broadcast)\n",
      "Worker 1 stopping\n",
      "Worker 3 stopping\n",
      "Worker 2 stopping\n"
     ]
    }
   ],
   "source": [
    "func worker(id int, done <-chan struct{}) {\n",
    "    for {\n",
    "        select {\n",
    "        case <-done:\n",
    "            fmt.Printf(\"Worker %d stopping\\n\", id)\n",
    "            return\n",
    "        default:\n",
    "            fmt.Printf(\"Worker %d working...\\n\", id)\n",
    "            time.Sleep(300 * time.Millisecond)\n",
    "        }\n",
    "    }\n",
    "}\n",
    "\n",
    "func main() {\n",
    "    done := make(chan struct{})\n",
    "\n",
    "    for i := 1; i <= 3; i++ {\n",
    "        go worker(i, done)\n",
    "    }\n",
    "\n",
    "    time.Sleep(time.Second)\n",
    "    fmt.Println(\">>> Closing done channel (broadcast)\")\n",
    "    close(done) // all workers get the signal\n",
    "\n",
    "    time.Sleep(time.Second)\n",
    "}"
   ]
  },
  {
   "cell_type": "code",
   "execution_count": 15,
   "id": "7b5449ae-e08e-44e4-b112-7f5067c707fc",
   "metadata": {},
   "outputs": [
    {
     "name": "stdout",
     "output_type": "stream",
     "text": [
      "Worker 3 working...\n",
      "Worker 1 working...\n",
      "Worker 2 working...\n",
      "Worker 2 working...\n",
      "Worker 3 working...\n",
      "Worker 1 working...\n",
      "Worker 3 working...\n",
      "Worker 1 working...\n",
      "Worker 2 working...\n",
      "Worker 2 working...\n",
      "Worker 1 working...\n",
      "Worker 3 working...\n",
      ">>> Sending one struct{}{} (single signal)\n",
      "Worker 2 stopping\n",
      "Worker 3 working...\n",
      "Worker 1 working...\n",
      "Worker 1 working...\n",
      "Worker 3 working...\n",
      "Worker 3 working...\n",
      "Worker 1 working...\n",
      "Worker 1 working...\n",
      "Worker 3 working...\n"
     ]
    }
   ],
   "source": [
    "package main\n",
    "\n",
    "import (\n",
    "    \"fmt\"\n",
    "    \"time\"\n",
    ")\n",
    "\n",
    "func worker(id int, done <-chan struct{}) {\n",
    "    for {\n",
    "        select {\n",
    "        case <-done:\n",
    "            fmt.Printf(\"Worker %d stopping\\n\", id)\n",
    "            return\n",
    "        default:\n",
    "            fmt.Printf(\"Worker %d working...\\n\", id)\n",
    "            time.Sleep(300 * time.Millisecond)\n",
    "        }\n",
    "    }\n",
    "}\n",
    "\n",
    "func main() {\n",
    "    done := make(chan struct{})\n",
    "\n",
    "    for i := 1; i <= 3; i++ {\n",
    "        go worker(i, done)\n",
    "    }\n",
    "\n",
    "    time.Sleep(time.Second)\n",
    "    fmt.Println(\">>> Sending one struct{}{} (single signal)\")\n",
    "    done <- struct{}{} // only ONE worker gets this\n",
    "\n",
    "    time.Sleep(time.Second)\n",
    "}"
   ]
  },
  {
   "cell_type": "markdown",
   "id": "b8f6b2e5-209a-414f-bd8f-a0e90a2d56a8",
   "metadata": {},
   "source": [
    "## Advanced Generator Techniques (pending...)"
   ]
  },
  {
   "cell_type": "code",
   "execution_count": null,
   "id": "9f1c9d27-b5b0-4f09-bd12-5b7f42a79ef4",
   "metadata": {},
   "outputs": [],
   "source": []
  },
  {
   "cell_type": "code",
   "execution_count": null,
   "id": "37705c32-2ec8-4765-9c2e-4cca4c278480",
   "metadata": {},
   "outputs": [],
   "source": []
  },
  {
   "cell_type": "code",
   "execution_count": null,
   "id": "c2d38a33-f36e-43bf-bf34-b331e94c9818",
   "metadata": {},
   "outputs": [],
   "source": []
  },
  {
   "cell_type": "code",
   "execution_count": null,
   "id": "c4a21ddc-7726-4753-9ce4-fe8d538fcf0d",
   "metadata": {},
   "outputs": [],
   "source": []
  },
  {
   "cell_type": "markdown",
   "id": "50502707-2623-447f-a5e2-59d7942d1cb9",
   "metadata": {},
   "source": [
    "## Best Practices"
   ]
  },
  {
   "cell_type": "markdown",
   "id": "7fc4cc8a-4e08-4c3d-970f-a7ebbf8b3f68",
   "metadata": {},
   "source": [
    "### 1. Return Read-Only Channels"
   ]
  },
  {
   "cell_type": "code",
   "execution_count": null,
   "id": "412a8c22-f03e-4812-a35a-e5c9d9ee0c54",
   "metadata": {},
   "outputs": [],
   "source": [
    "// ✅ Prevents accidental sends by consumer\n",
    "func generator() <-chan int {\n",
    "    // ...\n",
    "}"
   ]
  },
  {
   "cell_type": "markdown",
   "id": "59740636-733c-4ce9-acb6-55798d5d1861",
   "metadata": {},
   "source": [
    "### 2. Close Channels When Done"
   ]
  },
  {
   "cell_type": "code",
   "execution_count": null,
   "id": "224c3fa7-99c9-43f1-8bd8-83b43cdccc6f",
   "metadata": {},
   "outputs": [],
   "source": [
    "// ✅ Allows range loops\n",
    "func finite() <-chan int {\n",
    "    ch := make(chan int)\n",
    "    go func() {\n",
    "        defer close(ch)\n",
    "        for i := 0; i < 10; i++ {\n",
    "            ch <- i\n",
    "        }\n",
    "    }()\n",
    "    return ch\n",
    "}"
   ]
  },
  {
   "cell_type": "markdown",
   "id": "1ca8432f-6801-46a8-8e0b-1723b6e8f5d0",
   "metadata": {},
   "source": [
    "### 3. Handle Cancellation"
   ]
  },
  {
   "cell_type": "code",
   "execution_count": null,
   "id": "2b813354-3db0-4b25-a6ea-39312d149bf4",
   "metadata": {},
   "outputs": [],
   "source": [
    "// ✅ Graceful shutdown\n",
    "func cancellable(ctx context.Context) <-chan int {\n",
    "    ch := make(chan int)\n",
    "    go func() {\n",
    "        defer close(ch)\n",
    "        for i := 0; ; i++ {\n",
    "            select {\n",
    "            case ch <- i:\n",
    "            case <-ctx.Done():\n",
    "                return\n",
    "            }\n",
    "        }\n",
    "    }()\n",
    "    return ch\n",
    "}"
   ]
  },
  {
   "cell_type": "markdown",
   "id": "abe3f969-27ce-4522-ab2e-58669668a55a",
   "metadata": {},
   "source": [
    "### 4. Document Generator Behavior"
   ]
  },
  {
   "cell_type": "code",
   "execution_count": null,
   "id": "b86afde9-40c8-49f2-867a-198b0ba5295d",
   "metadata": {},
   "outputs": [],
   "source": [
    "// generatePrimes returns a channel that produces prime numbers\n",
    "// until the context is cancelled. The channel is closed when done.\n",
    "func generatePrimes(ctx context.Context) <-chan int"
   ]
  },
  {
   "cell_type": "markdown",
   "id": "8543c8ef-8911-4d37-a10e-f0b6e84316cf",
   "metadata": {},
   "source": [
    "## Common Pitfalls"
   ]
  },
  {
   "cell_type": "code",
   "execution_count": null,
   "id": "0ff17750-6d42-4a5b-a0db-26ceda1a84c9",
   "metadata": {},
   "outputs": [],
   "source": []
  },
  {
   "cell_type": "code",
   "execution_count": null,
   "id": "2430b91f-4318-41f6-a8aa-2be5ef237079",
   "metadata": {},
   "outputs": [],
   "source": []
  },
  {
   "cell_type": "code",
   "execution_count": null,
   "id": "983025b9-9d67-4cd9-a795-fa7e1108e197",
   "metadata": {},
   "outputs": [],
   "source": []
  },
  {
   "cell_type": "code",
   "execution_count": null,
   "id": "9496c346-749a-41b9-9c64-ba8f1841b6fd",
   "metadata": {},
   "outputs": [],
   "source": []
  },
  {
   "cell_type": "code",
   "execution_count": null,
   "id": "54d29cc5-5e8e-41a0-883b-d8c48d8f69a9",
   "metadata": {},
   "outputs": [],
   "source": []
  },
  {
   "cell_type": "code",
   "execution_count": null,
   "id": "75e2fd3b-eecf-459e-ada6-285fa432562b",
   "metadata": {},
   "outputs": [],
   "source": []
  },
  {
   "cell_type": "code",
   "execution_count": null,
   "id": "d64dca8d-8641-459e-a8ed-fe1e0585957e",
   "metadata": {},
   "outputs": [],
   "source": []
  },
  {
   "cell_type": "markdown",
   "id": "6512bc1e-df0c-4f26-a9ff-194011ec5c2c",
   "metadata": {},
   "source": [
    "## Performance Tips"
   ]
  },
  {
   "cell_type": "markdown",
   "id": "ada44348-84bd-4879-8c68-b101296b06fc",
   "metadata": {},
   "source": [
    "#### From Rob Pike's guidance and Go best practices:\n",
    "1. Small buffers (1-10) often sufficient\n",
    "2. Benchmark buffer sizes for your use case\n",
    "3. Consider batching for high-frequency generators\n",
    "4. Use sync.Pool for temporary objects in generators"
   ]
  },
  {
   "cell_type": "code",
   "execution_count": null,
   "id": "dce7cd95-bb51-4027-95a1-6d4144cc6bcc",
   "metadata": {},
   "outputs": [],
   "source": []
  },
  {
   "cell_type": "code",
   "execution_count": null,
   "id": "51ef12ac-16a4-4607-911b-a7452f6f0955",
   "metadata": {},
   "outputs": [],
   "source": []
  },
  {
   "cell_type": "markdown",
   "id": "4c06bf24-130c-4a41-a5d1-cdc8011ae098",
   "metadata": {},
   "source": [
    "## Real-World Examples"
   ]
  },
  {
   "cell_type": "code",
   "execution_count": null,
   "id": "56a3bed4-e36e-4750-be7f-02bb6e326b41",
   "metadata": {},
   "outputs": [],
   "source": []
  },
  {
   "cell_type": "code",
   "execution_count": null,
   "id": "587ba22d-2719-4782-8104-baaf16c17170",
   "metadata": {},
   "outputs": [],
   "source": []
  },
  {
   "cell_type": "code",
   "execution_count": null,
   "id": "51a41dd2-3677-48c7-966c-83d56ca36b9d",
   "metadata": {},
   "outputs": [],
   "source": []
  },
  {
   "cell_type": "code",
   "execution_count": null,
   "id": "ddb29f5b-da0b-4ddd-98f1-f3938cf3c2ec",
   "metadata": {},
   "outputs": [],
   "source": []
  },
  {
   "cell_type": "code",
   "execution_count": null,
   "id": "ffae6341-4db4-4ec2-b843-238cd294c1b0",
   "metadata": {},
   "outputs": [],
   "source": []
  },
  {
   "cell_type": "code",
   "execution_count": null,
   "id": "5375b5a9-7ce6-4eac-bfef-c698bfd3bbe8",
   "metadata": {},
   "outputs": [],
   "source": []
  },
  {
   "cell_type": "code",
   "execution_count": null,
   "id": "0b09017e-86b6-4291-aca0-706c5f684b34",
   "metadata": {},
   "outputs": [],
   "source": []
  },
  {
   "cell_type": "code",
   "execution_count": null,
   "id": "dcb20a98-572b-4f5b-a271-9a66c929b925",
   "metadata": {},
   "outputs": [],
   "source": []
  },
  {
   "cell_type": "code",
   "execution_count": null,
   "id": "191bb7e4-153e-42b2-9019-883b08a800a3",
   "metadata": {},
   "outputs": [],
   "source": []
  },
  {
   "cell_type": "code",
   "execution_count": null,
   "id": "da00031c-694f-4883-aaf6-179604c4252c",
   "metadata": {},
   "outputs": [],
   "source": []
  },
  {
   "cell_type": "code",
   "execution_count": null,
   "id": "542f1e1c-868b-4b0a-8240-f0b400bc3d67",
   "metadata": {},
   "outputs": [],
   "source": []
  },
  {
   "cell_type": "code",
   "execution_count": null,
   "id": "a69fb41f-2812-435f-b9ed-0f7f5248a2d9",
   "metadata": {},
   "outputs": [],
   "source": []
  },
  {
   "cell_type": "code",
   "execution_count": null,
   "id": "6f414594-e72f-456e-9b7e-9e6f6ca3c874",
   "metadata": {},
   "outputs": [],
   "source": []
  },
  {
   "cell_type": "code",
   "execution_count": null,
   "id": "34a986b9-75ba-4644-ba1e-e88a18a81f68",
   "metadata": {},
   "outputs": [],
   "source": []
  },
  {
   "cell_type": "code",
   "execution_count": null,
   "id": "1d0ca188-2c55-4f5b-9492-bbc2a0884c36",
   "metadata": {},
   "outputs": [],
   "source": []
  },
  {
   "cell_type": "code",
   "execution_count": null,
   "id": "5059d897-bf74-4d66-8524-369b0491e72f",
   "metadata": {},
   "outputs": [],
   "source": []
  },
  {
   "cell_type": "code",
   "execution_count": null,
   "id": "caff9d7a-bdb4-4632-bed4-c5b24c7127d5",
   "metadata": {},
   "outputs": [],
   "source": []
  },
  {
   "cell_type": "code",
   "execution_count": null,
   "id": "c7cc0458-cbec-4c9c-afa5-b2df2036354f",
   "metadata": {},
   "outputs": [],
   "source": []
  },
  {
   "cell_type": "code",
   "execution_count": null,
   "id": "cdda5aac-e64e-4e2c-847e-76a107b1d1e7",
   "metadata": {},
   "outputs": [],
   "source": []
  },
  {
   "cell_type": "code",
   "execution_count": null,
   "id": "6a0f29d0-b361-45f0-be76-973cb0f1f68c",
   "metadata": {},
   "outputs": [],
   "source": []
  },
  {
   "cell_type": "code",
   "execution_count": null,
   "id": "643e1131-8982-4b0d-9bb5-c0bf5fe4eac4",
   "metadata": {},
   "outputs": [],
   "source": []
  },
  {
   "cell_type": "code",
   "execution_count": null,
   "id": "6c6a5da9-7b30-4926-adcc-425298d0d075",
   "metadata": {},
   "outputs": [],
   "source": []
  },
  {
   "cell_type": "code",
   "execution_count": null,
   "id": "a7fe8153-1d1b-4ceb-bc6b-787694e2f356",
   "metadata": {},
   "outputs": [],
   "source": []
  }
 ],
 "metadata": {
  "kernelspec": {
   "display_name": "Go (gonb)",
   "language": "go",
   "name": "gonb"
  },
  "language_info": {
   "codemirror_mode": "",
   "file_extension": ".go",
   "mimetype": "text/x-go",
   "name": "go",
   "nbconvert_exporter": "",
   "pygments_lexer": "",
   "version": "go1.24.6"
  }
 },
 "nbformat": 4,
 "nbformat_minor": 5
}
