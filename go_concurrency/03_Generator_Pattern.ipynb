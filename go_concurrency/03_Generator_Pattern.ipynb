{
 "cells": [
  {
   "cell_type": "markdown",
   "id": "20721c69-0350-4396-971d-5fcbd71c1ad8",
   "metadata": {},
   "source": [
    "## Generator là gì?"
   ]
  },
  {
   "cell_type": "markdown",
   "id": "a8c972ab-ccdb-4a7b-9ad1-6f283f048d91",
   "metadata": {},
   "source": [
    "Như đã nói qua ở phần trước, generator đơn giản là một function trả về một channel, mục tiêu là để tách biệt:\n",
    "- Values, data được tạo như thế nào\n",
    "- Và các giá trị này được consume ở đâu\n",
    "\n",
    "Trong function, goroutine sẽ tạo data và đẩy vào channel.  \n",
    "Consumer chỗ khác chỉ đơn giản là tiêu thụ data ở đây mà không cần quan tâm nó được tạo như thế nào.  \n",
    "Template chung là như ở dưới"
   ]
  },
  {
   "cell_type": "code",
   "execution_count": null,
   "id": "b9299d57-9206-4acc-9fd3-78e6f3fc3d99",
   "metadata": {},
   "outputs": [],
   "source": [
    "// Generator function signature\n",
    "func generator() <-chan Type {\n",
    "    ch := make(chan Type)\n",
    "    go func() {\n",
    "        // Produce values\n",
    "        // Send to ch\n",
    "    }()\n",
    "    return ch\n",
    "}"
   ]
  },
  {
   "cell_type": "markdown",
   "id": "c1f85420-aa8c-48d9-a63c-f7487038498b",
   "metadata": {},
   "source": [
    "#### Ví dụ:"
   ]
  },
  {
   "cell_type": "code",
   "execution_count": 3,
   "id": "518c5cdd-131c-4e2d-a9f9-820ad445b92e",
   "metadata": {},
   "outputs": [
    {
     "name": "stdout",
     "output_type": "stream",
     "text": [
      "1\n",
      "2\n",
      "3\n",
      "4\n",
      "5\n"
     ]
    }
   ],
   "source": [
    "// Generator: trả về một channel mà tạo ra các số từ 1 tới n\n",
    "func count(n int) <-chan int {\n",
    "    out := make(chan int)\n",
    "\n",
    "    go func() {\n",
    "        for i := 1; i <= n; i++ {\n",
    "            out <- i\n",
    "        }\n",
    "        close(out)\n",
    "    }()\n",
    "\n",
    "    return out\n",
    "}\n",
    "\n",
    "func main() {\n",
    "    nums := count(5)\n",
    "\n",
    "    // dùng for...range để loop channel\n",
    "    for v := range nums {\n",
    "        fmt.Println(v)\n",
    "    }\n",
    "}"
   ]
  },
  {
   "cell_type": "markdown",
   "id": "e710e3d3-48c9-42ac-a47a-00e16f2acca7",
   "metadata": {},
   "source": [
    "## Rob Pike's Classic Example"
   ]
  },
  {
   "cell_type": "markdown",
   "id": "043f4a1b-444f-4e9f-a8e0-0376a2d1b425",
   "metadata": {},
   "source": [
    "Classic generator của Rob Pike, tương tự ví dụ ở trên, điểm khác:\n",
    "- Ví dụ ở trên có close để đóng channel\n",
    "- Ví dụ của Rob Pike ko có ý định đóng channel khi xong, mà dùng time.Sleep cho chạy hoài tới khi main kết thúc\n",
    "- Đóng một channel chỉ là optional"
   ]
  },
  {
   "cell_type": "code",
   "execution_count": 4,
   "id": "bd095a2d-1223-44bd-9028-d3816640f44b",
   "metadata": {},
   "outputs": [
    {
     "name": "stdout",
     "output_type": "stream",
     "text": [
      "Joe 0\n",
      "Ann 0\n",
      "Joe 1\n",
      "Ann 1\n",
      "Joe 2\n",
      "Ann 2\n",
      "Joe 3\n",
      "Ann 3\n",
      "Joe 4\n",
      "Ann 4\n",
      "Joe 5\n",
      "Ann 5\n",
      "Joe 6\n",
      "Ann 6\n",
      "Joe 7\n",
      "Ann 7\n",
      "Joe 8\n",
      "Ann 8\n",
      "Joe 9\n",
      "Ann 9\n",
      "You're both boring; I'm leaving.\n"
     ]
    }
   ],
   "source": [
    "func boring(msg string) <-chan string {\n",
    "    c := make(chan string)\n",
    "    go func() {\n",
    "        for i := 0; ; i++ {\n",
    "            c <- fmt.Sprintf(\"%s %d\", msg, i)\n",
    "            time.Sleep(time.Duration(rand.Intn(1e3)) * time.Millisecond)\n",
    "        }\n",
    "    }()\n",
    "    return c\n",
    "}\n",
    "\n",
    "func main() {\n",
    "    joe := boring(\"Joe\")\n",
    "    ann := boring(\"Ann\")\n",
    "    \n",
    "    for i := 0; i < 10; i++ {\n",
    "        fmt.Println(<-joe)\n",
    "        fmt.Println(<-ann)\n",
    "    }\n",
    "    fmt.Println(\"You're both boring; I'm leaving.\")\n",
    "}"
   ]
  },
  {
   "cell_type": "markdown",
   "id": "b4ba4502-4cee-4898-974f-4d9ce22e4098",
   "metadata": {
    "jp-MarkdownHeadingCollapsed": true
   },
   "source": [
    "## Tại sao dùng Generator?"
   ]
  },
  {
   "cell_type": "markdown",
   "id": "40b84367-0656-4d44-841f-70af5b089d0c",
   "metadata": {},
   "source": [
    "### 1. Encapsulation - tính đóng gói\n",
    "Caller/Consumer không cần quan tâm tới quản lý goroutine thế nào"
   ]
  },
  {
   "cell_type": "code",
   "execution_count": null,
   "id": "077c5a8a-43fa-4003-a603-37d6af8dafe4",
   "metadata": {},
   "outputs": [],
   "source": [
    "// Without generator - manual goroutine management\n",
    "ch := make(chan int)\n",
    "go func() {\n",
    "    for i := 0; i < 10; i++ {\n",
    "        ch <- i\n",
    "    }\n",
    "    close(ch)\n",
    "}()\n",
    "\n",
    "// With generator - clean interface\n",
    "numbers := generateNumbers(10)"
   ]
  },
  {
   "cell_type": "markdown",
   "id": "54ef4cdb-052a-4559-a18e-574bd45f894d",
   "metadata": {},
   "source": [
    "### 2. Composability\n",
    "Các generators có thể chained với nhau"
   ]
  },
  {
   "cell_type": "code",
   "execution_count": null,
   "id": "c47dd34c-f0df-4979-9d4f-67a261be05b2",
   "metadata": {},
   "outputs": [],
   "source": [
    "func double(in <-chan int) <-chan int {\n",
    "    out := make(chan int)\n",
    "    go func() {\n",
    "        for n := range in {\n",
    "            out <- n * 2\n",
    "        }\n",
    "        close(out)\n",
    "    }()\n",
    "    return out\n",
    "}\n",
    "\n",
    "// Compose generators\n",
    "numbers := generateNumbers(10)\n",
    "doubled := double(numbers)"
   ]
  },
  {
   "cell_type": "markdown",
   "id": "b6aa0335-3f2b-48d3-aba3-ca97453e2016",
   "metadata": {},
   "source": [
    "### 3. Separation of Concerns\n",
    "Phân chia logic giữa producer và consumer"
   ]
  },
  {
   "cell_type": "markdown",
   "id": "35b6eb0d-a4ea-4b9c-b268-7c9ba7a89f02",
   "metadata": {},
   "source": [
    "## Common Generator Patterns"
   ]
  },
  {
   "cell_type": "markdown",
   "id": "8de965dc-76e9-4a51-999d-0d083d912104",
   "metadata": {},
   "source": [
    "### 1. Finite Generator\n",
    "Này giống ví dụ đầu tiên, tạo ra một hữu hạn dãy số"
   ]
  },
  {
   "cell_type": "code",
   "execution_count": 8,
   "id": "127e8af0-016d-4951-a225-6709e93da24d",
   "metadata": {},
   "outputs": [
    {
     "name": "stdout",
     "output_type": "stream",
     "text": [
      "0\n",
      "1\n",
      "2\n",
      "3\n",
      "4\n"
     ]
    }
   ],
   "source": [
    "func counter(max int) <-chan int {\n",
    "    ch := make(chan int)\n",
    "    go func() {\n",
    "        for i := 0; i < max; i++ {\n",
    "            ch <- i\n",
    "        }\n",
    "        close(ch)\n",
    "    }()\n",
    "    return ch\n",
    "}\n",
    "\n",
    "func main() {\n",
    "    for n := range counter(5) {\n",
    "        fmt.Println(n) // 0, 1, 2, 3, 4\n",
    "    }\n",
    "}"
   ]
  },
  {
   "cell_type": "markdown",
   "id": "7f70ced5-bf39-4d00-9609-7955079cdc75",
   "metadata": {},
   "source": [
    "### 2. Infinite Generator\n",
    "Tạo ra vô hạn số, ví dụ của Rob Pike ở trên"
   ]
  },
  {
   "cell_type": "code",
   "execution_count": 10,
   "id": "442a4b13-482a-4a16-93bf-e992bf24f20a",
   "metadata": {},
   "outputs": [
    {
     "name": "stdout",
     "output_type": "stream",
     "text": [
      "0\n",
      "1\n",
      "1\n",
      "2\n",
      "3\n",
      "5\n",
      "8\n",
      "13\n",
      "21\n",
      "34\n"
     ]
    }
   ],
   "source": [
    "func fibonacci() <-chan int {\n",
    "    ch := make(chan int)\n",
    "    go func() {\n",
    "        a, b := 0, 1\n",
    "        for {\n",
    "            ch <- a\n",
    "            a, b = b, a+b\n",
    "        }\n",
    "    }()\n",
    "    return ch\n",
    "}\n",
    "\n",
    "func main() {\n",
    "    fib := fibonacci()\n",
    "    for i := 0; i < 10; i++ {\n",
    "        fmt.Println(<-fib)\n",
    "    }\n",
    "}"
   ]
  },
  {
   "cell_type": "markdown",
   "id": "0ba395cd-5f15-4d59-8b5f-4ae44ccbf37b",
   "metadata": {},
   "source": [
    "### 3. Generator with State"
   ]
  },
  {
   "cell_type": "code",
   "execution_count": 12,
   "id": "00f8c089-09e6-47b2-bb87-f9dd661d5e14",
   "metadata": {},
   "outputs": [],
   "source": [
    "func randomGenerator(seed int64) <-chan int {\n",
    "    ch := make(chan int)\n",
    "    go func() {\n",
    "        r := rand.New(rand.NewSource(seed))\n",
    "        for {\n",
    "            ch <- r.Intn(100)\n",
    "        }\n",
    "    }()\n",
    "    return ch\n",
    "}"
   ]
  },
  {
   "cell_type": "markdown",
   "id": "c337a3bc-9948-44ee-91ef-1ea054dde863",
   "metadata": {},
   "source": [
    "Đây là ví dụ về tạo ra số ngẫu nhiên, nhưng giải thuật để tạo ra số ngẫu nhiên cần phải giữ state mỗi lần tạo ra số mới, nghĩa là mỗi lần gọi tạo ra 1 số random thì state của hàm này là không đổi"
   ]
  },
  {
   "cell_type": "markdown",
   "id": "5cfce5b4-b1be-488d-9f69-f7806116a9d1",
   "metadata": {},
   "source": [
    "### 4. Generator with Cleanup"
   ]
  },
  {
   "cell_type": "code",
   "execution_count": 13,
   "id": "bd13e2be-78e8-4c86-a9af-d66e9079e837",
   "metadata": {},
   "outputs": [
    {
     "name": "stdout",
     "output_type": "stream",
     "text": [
      "0\n",
      "1\n",
      "2\n",
      "3\n",
      "4\n"
     ]
    }
   ],
   "source": [
    "func generate(done <-chan bool) <-chan int {\n",
    "    ch := make(chan int)\n",
    "    go func() {\n",
    "        defer close(ch)\n",
    "        for i := 0; ; i++ {\n",
    "            select {\n",
    "            case ch <- i:\n",
    "                // Successfully sent\n",
    "            case <-done:\n",
    "                return\n",
    "            }\n",
    "        }\n",
    "    }()\n",
    "    return ch\n",
    "}\n",
    "\n",
    "func main() {\n",
    "    done := make(chan bool)\n",
    "    numbers := generate(done)\n",
    "    \n",
    "    // Consume some values\n",
    "    for i := 0; i < 5; i++ {\n",
    "        fmt.Println(<-numbers)\n",
    "    }\n",
    "    \n",
    "    // Stop the generator\n",
    "    close(done)\n",
    "}"
   ]
  },
  {
   "cell_type": "markdown",
   "id": "188e2649-81eb-47e9-b9ef-9ff01661df26",
   "metadata": {},
   "source": [
    "Đây là một ví dụ kinh điển về channel done có kiểu boolean để kết thúc một func. Nhưng kiểu boolean vẫn tốn 1 bit, có trick sử dụng empty struct cho việc này:"
   ]
  },
  {
   "cell_type": "code",
   "execution_count": null,
   "id": "8f479439-a20d-460e-ab8c-ea1b91394982",
   "metadata": {},
   "outputs": [],
   "source": [
    "func generate(done <-chan struct{}) <-chan int {\n",
    "    ch := make(chan int)\n",
    "    go func() {\n",
    "        defer close(ch)\n",
    "        for i := 0; ; i++ {\n",
    "            select {\n",
    "            case ch <- i:\n",
    "            case <-done:\n",
    "                return\n",
    "            }\n",
    "        }\n",
    "    }()\n",
    "    return ch\n",
    "}\n",
    "\n",
    "func main() {\n",
    "    done := make(chan struct{}) \n",
    "    numbers := generate(done)\n",
    "\n",
    "    // Consume some values\n",
    "    for i := 0; i < 5; i++ {\n",
    "        fmt.Println(<-numbers)\n",
    "    }\n",
    "\n",
    "    close(done)\n",
    "}"
   ]
  },
  {
   "cell_type": "markdown",
   "id": "3ec81923-1a06-49bf-8801-f57cfc4de6d2",
   "metadata": {},
   "source": [
    "### `close(done)` vs `done <- struct{}{}`"
   ]
  },
  {
   "cell_type": "code",
   "execution_count": null,
   "id": "838e6106-f0c4-4b96-ab20-803039177a65",
   "metadata": {},
   "outputs": [],
   "source": [
    "go func() {\n",
    "    <-done // will unblock as soon as channel is closed\n",
    "    fmt.Println(\"Stopped\")\n",
    "}()\n",
    "\n",
    "close(done) // all listeners stop"
   ]
  },
  {
   "cell_type": "code",
   "execution_count": null,
   "id": "b9f78c3a-6e16-4f1d-a15c-e0feeca6e88e",
   "metadata": {},
   "outputs": [],
   "source": [
    "go func() {\n",
    "    <-done\n",
    "    fmt.Println(\"Got the signal\")\n",
    "}()\n",
    "\n",
    "done <- struct{}{} // only one goroutine receives this"
   ]
  },
  {
   "cell_type": "markdown",
   "id": "810e37f4-df56-4a87-a806-4a6cff39ae22",
   "metadata": {},
   "source": [
    "- `close(done)`: báo toàn bộ goroutine stop (đây cũng là cách `context.Context` hoạt động\n",
    "- `done <- struct{}{}`: để đánh thức 1 goroutine, có thể gửi nhiều signal như job queue   \n",
    "Xem ví dụ bên dưới để thấy rõ hơn"
   ]
  },
  {
   "cell_type": "code",
   "execution_count": 14,
   "id": "42a5e5a2-5fb4-499e-9571-07c36d1101ec",
   "metadata": {},
   "outputs": [
    {
     "name": "stdout",
     "output_type": "stream",
     "text": [
      "Worker 3 working...\n",
      "Worker 1 working...\n",
      "Worker 2 working...\n",
      "Worker 2 working...\n",
      "Worker 3 working...\n",
      "Worker 1 working...\n",
      "Worker 1 working...\n",
      "Worker 2 working...\n",
      "Worker 3 working...\n",
      "Worker 3 working...\n",
      "Worker 2 working...\n",
      "Worker 1 working...\n",
      ">>> Closing done channel (broadcast)\n",
      "Worker 1 stopping\n",
      "Worker 3 stopping\n",
      "Worker 2 stopping\n"
     ]
    }
   ],
   "source": [
    "func worker(id int, done <-chan struct{}) {\n",
    "    for {\n",
    "        select {\n",
    "        case <-done:\n",
    "            fmt.Printf(\"Worker %d stopping\\n\", id)\n",
    "            return\n",
    "        default:\n",
    "            fmt.Printf(\"Worker %d working...\\n\", id)\n",
    "            time.Sleep(300 * time.Millisecond)\n",
    "        }\n",
    "    }\n",
    "}\n",
    "\n",
    "func main() {\n",
    "    done := make(chan struct{})\n",
    "\n",
    "    for i := 1; i <= 3; i++ {\n",
    "        go worker(i, done)\n",
    "    }\n",
    "\n",
    "    time.Sleep(time.Second)\n",
    "    fmt.Println(\">>> Closing done channel (broadcast)\")\n",
    "    close(done) // all workers get the signal\n",
    "\n",
    "    time.Sleep(time.Second)\n",
    "}"
   ]
  },
  {
   "cell_type": "code",
   "execution_count": 15,
   "id": "7b5449ae-e08e-44e4-b112-7f5067c707fc",
   "metadata": {},
   "outputs": [
    {
     "name": "stdout",
     "output_type": "stream",
     "text": [
      "Worker 3 working...\n",
      "Worker 1 working...\n",
      "Worker 2 working...\n",
      "Worker 2 working...\n",
      "Worker 3 working...\n",
      "Worker 1 working...\n",
      "Worker 3 working...\n",
      "Worker 1 working...\n",
      "Worker 2 working...\n",
      "Worker 2 working...\n",
      "Worker 1 working...\n",
      "Worker 3 working...\n",
      ">>> Sending one struct{}{} (single signal)\n",
      "Worker 2 stopping\n",
      "Worker 3 working...\n",
      "Worker 1 working...\n",
      "Worker 1 working...\n",
      "Worker 3 working...\n",
      "Worker 3 working...\n",
      "Worker 1 working...\n",
      "Worker 1 working...\n",
      "Worker 3 working...\n"
     ]
    }
   ],
   "source": [
    "package main\n",
    "\n",
    "import (\n",
    "    \"fmt\"\n",
    "    \"time\"\n",
    ")\n",
    "\n",
    "func worker(id int, done <-chan struct{}) {\n",
    "    for {\n",
    "        select {\n",
    "        case <-done:\n",
    "            fmt.Printf(\"Worker %d stopping\\n\", id)\n",
    "            return\n",
    "        default:\n",
    "            fmt.Printf(\"Worker %d working...\\n\", id)\n",
    "            time.Sleep(300 * time.Millisecond)\n",
    "        }\n",
    "    }\n",
    "}\n",
    "\n",
    "func main() {\n",
    "    done := make(chan struct{})\n",
    "\n",
    "    for i := 1; i <= 3; i++ {\n",
    "        go worker(i, done)\n",
    "    }\n",
    "\n",
    "    time.Sleep(time.Second)\n",
    "    fmt.Println(\">>> Sending one struct{}{} (single signal)\")\n",
    "    done <- struct{}{} // only ONE worker gets this\n",
    "\n",
    "    time.Sleep(time.Second)\n",
    "}"
   ]
  },
  {
   "cell_type": "markdown",
   "id": "b8f6b2e5-209a-414f-bd8f-a0e90a2d56a8",
   "metadata": {},
   "source": [
    "## Advanced Generator Techniques (pending...)"
   ]
  },
  {
   "cell_type": "markdown",
   "id": "83263650-e3fe-4549-b27b-3ff110cd151d",
   "metadata": {},
   "source": [
    "### 1. Multiplexing Generators\n",
    "Multiplexing generator nghĩa là gom nhiều generator lại thành một stream"
   ]
  },
  {
   "cell_type": "code",
   "execution_count": 7,
   "id": "37705c32-2ec8-4765-9c2e-4cca4c278480",
   "metadata": {},
   "outputs": [
    {
     "name": "stdout",
     "output_type": "stream",
     "text": [
      "Joe 0\n",
      "Ann 0\n",
      "Joe 1\n",
      "Ann 1\n",
      "Ann 2\n",
      "Joe 2\n",
      "Ann 3\n",
      "Joe 3\n",
      "Joe 4\n",
      "Joe 5\n",
      "You're boring; I'm leaving.\n"
     ]
    }
   ],
   "source": [
    "func boring(msg string) <-chan string {\n",
    "    c := make(chan string)\n",
    "    go func() {\n",
    "        for i := 0; ; i++ {\n",
    "            c <- fmt.Sprintf(\"%s %d\", msg, i)\n",
    "            time.Sleep(time.Duration(rand.Intn(1e3)) * time.Millisecond)\n",
    "        }\n",
    "    }()\n",
    "    return c\n",
    "}\n",
    "\n",
    "func fanIn(input1, input2 <-chan string) <-chan string {\n",
    "    c := make(chan string)\n",
    "    go func() {\n",
    "        for {\n",
    "            select {\n",
    "            case s := <-input1:\n",
    "                c <- s\n",
    "            case s := <- input2:\n",
    "                c <- s\n",
    "            }\n",
    "        }\n",
    "    }()\n",
    "\n",
    "    return c\n",
    "}\n",
    "\n",
    "func main() {\n",
    "    c := fanIn(boring(\"Joe\"), boring(\"Ann\"))\n",
    "\n",
    "    for i := 0; i < 10; i++ {\n",
    "        fmt.Println(<-c)\n",
    "    }\n",
    "\n",
    "    fmt.Println(\"You're boring; I'm leaving.\")\n",
    "}"
   ]
  },
  {
   "cell_type": "markdown",
   "id": "4cdaea30-a9f4-4518-af2f-a94b2b73453c",
   "metadata": {},
   "source": [
    "#### Vài chú ý:\n",
    "- boring sẽ return 1 channel với thời gian sleep randon từ 0-1000ms\n",
    "- chạy đoạn code trên nhiều lần sẽ thấy fanIn sẽ in ra kết quả từ 2 func boring\n",
    "- nhưng trong 10 lần in, kết quả sẽ random, không phải mỗi boring đều in ra 5 kết quả"
   ]
  },
  {
   "cell_type": "markdown",
   "id": "7668d0c2-f640-4212-9bb1-2ebe76a5001b",
   "metadata": {},
   "source": [
    "### 2. Generator Pipeline\n",
    "Chain generator, một generator là input của một generator khác."
   ]
  },
  {
   "cell_type": "code",
   "execution_count": 9,
   "id": "2f4f81d9-9cea-4c1a-a337-c45b44eed5f8",
   "metadata": {},
   "outputs": [
    {
     "name": "stdout",
     "output_type": "stream",
     "text": [
      "4\n",
      "9\n",
      "16\n"
     ]
    }
   ],
   "source": [
    "func gen(nums ...int) <-chan int {\n",
    "    out := make(chan int)\n",
    "    go func() {\n",
    "        for _, n := range nums {\n",
    "            out <- n\n",
    "        }\n",
    "        close(out)\n",
    "    }()\n",
    "    return out\n",
    "}\n",
    "\n",
    "func sq(in <-chan int) <-chan int {\n",
    "    out := make(chan int)\n",
    "    go func() {\n",
    "        for n := range in {\n",
    "            out <- n * n\n",
    "        }\n",
    "        close(out)\n",
    "    }()\n",
    "    return out\n",
    "}\n",
    "\n",
    "func main() {\n",
    "    for n := range sq(gen(2, 3, 4)) {\n",
    "        fmt.Println(n) // 4, 9, 16\n",
    "    }\n",
    "}"
   ]
  },
  {
   "cell_type": "markdown",
   "id": "0ab53975-f57e-41e0-92fa-89a2b8227d80",
   "metadata": {},
   "source": [
    "### 3. Rate-Limited Generator"
   ]
  },
  {
   "cell_type": "code",
   "execution_count": 13,
   "id": "c2d38a33-f36e-43bf-bf34-b331e94c9818",
   "metadata": {},
   "outputs": [
    {
     "name": "stdout",
     "output_type": "stream",
     "text": [
      "Tick at 2025-09-09 06:46:15.20524945 +0000 UTC m=+0.500618341\n",
      "Tick at 2025-09-09 06:46:15.704844592 +0000 UTC m=+1.000213487\n",
      "Tick at 2025-09-09 06:46:16.205532185 +0000 UTC m=+1.500901037\n",
      "Tick at 2025-09-09 06:46:16.705088009 +0000 UTC m=+2.000456903\n",
      "Tick at 2025-09-09 06:46:17.204835292 +0000 UTC m=+2.500204179\n",
      "Done\n"
     ]
    }
   ],
   "source": [
    "func ticker(d time.Duration) <-chan time.Time {\n",
    "    ch := make(chan time.Time)\n",
    "    go func() {\n",
    "        t := time.NewTicker(d)\n",
    "        defer t.Stop()\n",
    "        for {\n",
    "            select {\n",
    "            case tick := <-t.C:\n",
    "                ch <- tick\n",
    "            }\n",
    "        }\n",
    "    }()\n",
    "    return ch\n",
    "}\n",
    "\n",
    "func main() {\n",
    "    // Get a ticker that ticks every 500ms\n",
    "    ch := ticker(500 * time.Millisecond)\n",
    "\n",
    "    // Print 5 ticks\n",
    "    for i := 0; i < 5; i++ {\n",
    "        fmt.Println(\"Tick at\", <-ch)\n",
    "    }\n",
    "\n",
    "    fmt.Println(\"Done\")\n",
    "}"
   ]
  },
  {
   "cell_type": "markdown",
   "id": "0189d2ca-e9ce-4134-9e01-e8af31146520",
   "metadata": {},
   "source": [
    "Đây là ví dụ về wrapper cho time.NewTicker, mình cũng ko thấy hữu dụng lắm.   \n",
    "Sử dụng trực tiếp time.NewTicker như ở dưới thấy cũng ok.   \n",
    "Nếu sau này mình thấy cái wrappter ở trên hữu dụng thì mình upte thêm sau."
   ]
  },
  {
   "cell_type": "code",
   "execution_count": 14,
   "id": "a2045c7a-bfdc-42a4-9291-dfc08d44535b",
   "metadata": {},
   "outputs": [
    {
     "name": "stdout",
     "output_type": "stream",
     "text": [
      "Tick at 2025-09-09 06:46:19.759150198 +0000 UTC m=+0.500539865\n",
      "Tick at 2025-09-09 06:46:20.259528036 +0000 UTC m=+1.000917682\n",
      "Tick at 2025-09-09 06:46:20.759198471 +0000 UTC m=+1.500588084\n",
      "Tick at 2025-09-09 06:46:21.259584614 +0000 UTC m=+2.000974300\n",
      "Tick at 2025-09-09 06:46:21.759352039 +0000 UTC m=+2.500741693\n"
     ]
    }
   ],
   "source": [
    "func main() {\n",
    "    t := time.NewTicker(500 * time.Millisecond)\n",
    "    defer t.Stop()\n",
    "\n",
    "    for i := 0; i < 5; i++ {\n",
    "        fmt.Println(\"Tick at\", <-t.C)\n",
    "    }\n",
    "}"
   ]
  },
  {
   "cell_type": "markdown",
   "id": "50502707-2623-447f-a5e2-59d7942d1cb9",
   "metadata": {},
   "source": [
    "## Best Practices"
   ]
  },
  {
   "cell_type": "markdown",
   "id": "7fc4cc8a-4e08-4c3d-970f-a7ebbf8b3f68",
   "metadata": {},
   "source": [
    "### 1. Return Read-Only Channels"
   ]
  },
  {
   "cell_type": "code",
   "execution_count": null,
   "id": "412a8c22-f03e-4812-a35a-e5c9d9ee0c54",
   "metadata": {},
   "outputs": [],
   "source": [
    "// ✅ Prevents accidental sends by consumer\n",
    "func generator() <-chan int {\n",
    "    // ...\n",
    "}"
   ]
  },
  {
   "cell_type": "markdown",
   "id": "59740636-733c-4ce9-acb6-55798d5d1861",
   "metadata": {},
   "source": [
    "### 2. Close Channels When Done"
   ]
  },
  {
   "cell_type": "code",
   "execution_count": null,
   "id": "224c3fa7-99c9-43f1-8bd8-83b43cdccc6f",
   "metadata": {},
   "outputs": [],
   "source": [
    "// ✅ Allows range loops\n",
    "func finite() <-chan int {\n",
    "    ch := make(chan int)\n",
    "    go func() {\n",
    "        defer close(ch) // nhớ close \n",
    "        for i := 0; i < 10; i++ {\n",
    "            ch <- i\n",
    "        }\n",
    "    }()\n",
    "    return ch\n",
    "}"
   ]
  },
  {
   "cell_type": "markdown",
   "id": "1ca8432f-6801-46a8-8e0b-1723b6e8f5d0",
   "metadata": {},
   "source": [
    "### 3. Handle Cancellation"
   ]
  },
  {
   "cell_type": "code",
   "execution_count": null,
   "id": "2b813354-3db0-4b25-a6ea-39312d149bf4",
   "metadata": {},
   "outputs": [],
   "source": [
    "// ✅ Graceful shutdown\n",
    "func cancellable(ctx context.Context) <-chan int {\n",
    "    ch := make(chan int)\n",
    "    go func() {\n",
    "        defer close(ch)\n",
    "        for i := 0; ; i++ {\n",
    "            select {\n",
    "            case ch <- i:\n",
    "            case <-ctx.Done(): // handle Done với ctx\n",
    "                return\n",
    "            }\n",
    "        }\n",
    "    }()\n",
    "    return ch\n",
    "}"
   ]
  },
  {
   "cell_type": "markdown",
   "id": "abe3f969-27ce-4522-ab2e-58669668a55a",
   "metadata": {},
   "source": [
    "### 4. Document Generator Behavior"
   ]
  },
  {
   "cell_type": "code",
   "execution_count": null,
   "id": "b86afde9-40c8-49f2-867a-198b0ba5295d",
   "metadata": {},
   "outputs": [],
   "source": [
    "// generatePrimes returns a channel that produces prime numbers\n",
    "// until the context is cancelled. The channel is closed when done.\n",
    "func generatePrimes(ctx context.Context) <-chan int"
   ]
  },
  {
   "cell_type": "markdown",
   "id": "6512bc1e-df0c-4f26-a9ff-194011ec5c2c",
   "metadata": {},
   "source": [
    "## Performance Tips"
   ]
  },
  {
   "cell_type": "markdown",
   "id": "ada44348-84bd-4879-8c68-b101296b06fc",
   "metadata": {},
   "source": [
    "#### From Rob Pike's guidance and Go best practices:\n",
    "1. Small buffers (1-10) often sufficient\n",
    "2. Benchmark buffer sizes for your use case\n",
    "3. Consider batching for high-frequency generators\n",
    "4. Use sync.Pool for temporary objects in generators"
   ]
  },
  {
   "cell_type": "markdown",
   "id": "5f8dcaac-034e-4c88-96d4-df0f30b2da25",
   "metadata": {},
   "source": [
    "#### Một ví dụ về benchmarrk buffer sizes"
   ]
  },
  {
   "cell_type": "code",
   "execution_count": 21,
   "id": "dce7cd95-bb51-4027-95a1-6d4144cc6bcc",
   "metadata": {},
   "outputs": [
    {
     "name": "stderr",
     "output_type": "stream",
     "text": [
      "Cell contents written to \"buffer_bench_test.go\".\n"
     ]
    }
   ],
   "source": [
    "%%writefile buffer_bench_test.go\n",
    "package main\n",
    "\n",
    "import \"testing\"\n",
    "\n",
    "func benchBuf(b *testing.B, buf int) {\n",
    "    for n := 0; n < b.N; n++ {\n",
    "        ch := make(chan int, buf)\n",
    "        done := make(chan struct{})\n",
    "\n",
    "        go func() {\n",
    "            for i := 0; i < 1000; i++ {\n",
    "                <-ch\n",
    "            }\n",
    "            close(done)\n",
    "        }()\n",
    "\n",
    "        for i := 0; i < 1000; i++ {\n",
    "            ch <- i\n",
    "        }\n",
    "        <-done\n",
    "    }\n",
    "}\n",
    "\n",
    "func BenchmarkBuf1(b *testing.B)  { benchBuf(b, 1) }\n",
    "func BenchmarkBuf4(b *testing.B)  { benchBuf(b, 4) }\n",
    "func BenchmarkBuf16(b *testing.B) { benchBuf(b, 16) }"
   ]
  },
  {
   "cell_type": "code",
   "execution_count": 22,
   "id": "51ef12ac-16a4-4607-911b-a7452f6f0955",
   "metadata": {},
   "outputs": [
    {
     "name": "stdout",
     "output_type": "stream",
     "text": [
      "goos: linux\n",
      "goarch: amd64\n",
      "pkg: go_concurrency\n",
      "cpu: Intel(R) Core(TM) Ultra 5 125U\n",
      "BenchmarkBuf1-14     \t   11882\t     99391 ns/op\n",
      "BenchmarkBuf4-14     \t   17203\t     69558 ns/op\n",
      "BenchmarkBuf16-14    \t   25717\t     45556 ns/op\n",
      "PASS\n",
      "ok  \tgo_concurrency\t5.723s\n"
     ]
    }
   ],
   "source": [
    "!go test -bench=. -benchtime=1s"
   ]
  },
  {
   "cell_type": "code",
   "execution_count": null,
   "id": "6a0f29d0-b361-45f0-be76-973cb0f1f68c",
   "metadata": {},
   "outputs": [],
   "source": []
  },
  {
   "cell_type": "code",
   "execution_count": null,
   "id": "643e1131-8982-4b0d-9bb5-c0bf5fe4eac4",
   "metadata": {},
   "outputs": [],
   "source": []
  },
  {
   "cell_type": "code",
   "execution_count": null,
   "id": "6c6a5da9-7b30-4926-adcc-425298d0d075",
   "metadata": {},
   "outputs": [],
   "source": []
  },
  {
   "cell_type": "code",
   "execution_count": null,
   "id": "a7fe8153-1d1b-4ceb-bc6b-787694e2f356",
   "metadata": {},
   "outputs": [],
   "source": []
  }
 ],
 "metadata": {
  "kernelspec": {
   "display_name": "Go (gonb)",
   "language": "go",
   "name": "gonb"
  },
  "language_info": {
   "codemirror_mode": "",
   "file_extension": ".go",
   "mimetype": "text/x-go",
   "name": "go",
   "nbconvert_exporter": "",
   "pygments_lexer": "",
   "version": "go1.24.6"
  }
 },
 "nbformat": 4,
 "nbformat_minor": 5
}
