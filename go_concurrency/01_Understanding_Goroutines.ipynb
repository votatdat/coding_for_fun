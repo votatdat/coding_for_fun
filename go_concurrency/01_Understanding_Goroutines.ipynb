{
 "cells": [
  {
   "cell_type": "markdown",
   "id": "e09eef41-a4ae-4fa8-abd0-f7fa28ee9762",
   "metadata": {},
   "source": [
    "## Goroutine là gì?"
   ]
  },
  {
   "cell_type": "markdown",
   "id": "c7d9c410-db32-45c0-a465-23b532e5e2f2",
   "metadata": {},
   "source": [
    "// Update sau :))  \n",
    "Key Characteristics:\n",
    "- Lightweight: Only 2KB of stack space initially\n",
    "- Growable: Stack grows and shrinks as needed\n",
    "- Multiplexed: Many goroutines run on few OS threads\n",
    "- Cheap: Creating millions is feasible"
   ]
  },
  {
   "cell_type": "markdown",
   "id": "636fabeb-58e8-4bf8-b964-a8f3c88dd347",
   "metadata": {},
   "source": [
    "## The \"Boring\" Function Example"
   ]
  },
  {
   "cell_type": "markdown",
   "id": "832512d0-aac6-423d-a63f-0a943920697f",
   "metadata": {},
   "source": [
    "Đây là ví dụ nổi tiếng của Rob Pike, gọi là Boring function, nó in ra boring mỗi 1s"
   ]
  },
  {
   "cell_type": "code",
   "execution_count": 1,
   "id": "c83bd598-3e55-4b13-9714-efec4be7e22f",
   "metadata": {
    "scrolled": true
   },
   "outputs": [
    {
     "name": "stdout",
     "output_type": "stream",
     "text": [
      "boring! 0\n",
      "boring! 1\n",
      "boring! 2\n",
      "boring! 3\n",
      "boring! 4\n",
      "boring! 5\n",
      "boring! 6\n",
      "boring! 7\n",
      "boring! 8\n",
      "boring! 9\n",
      "boring! 10\n",
      "boring! 11\n",
      "boring! 12\n",
      "boring! 13\n",
      "boring! 14\n",
      "boring! 15\n",
      "boring! 16\n",
      "boring! 17\n",
      "boring! 18\n",
      "boring! 19\n",
      "boring! 20\n",
      "boring! 21\n",
      "boring! 22\n",
      "boring! 23\n",
      "boring! 24\n",
      "boring! 25\n",
      "boring! 26\n",
      "boring! 27\n",
      "boring! 28\n"
     ]
    },
    {
     "name": "stderr",
     "output_type": "stream",
     "text": [
      "signal: interrupt\n"
     ]
    }
   ],
   "source": [
    "package main\n",
    "\n",
    "import (\n",
    "    \"fmt\"\n",
    "    \"time\"\n",
    ")\n",
    "\n",
    "func boring(msg string) {\n",
    "    for i := 0; ; i++ {\n",
    "        fmt.Printf(\"%s %d\\n\", msg, i)\n",
    "        time.Sleep(time.Second)\n",
    "    }\n",
    "}\n",
    "\n",
    "func main() {\n",
    "    boring(\"boring!\")\n",
    "}"
   ]
  },
  {
   "cell_type": "markdown",
   "id": "41958b2c-6307-44a7-a98f-c0f06ffe39ba",
   "metadata": {},
   "source": [
    "Nếu chạy thử hàm này sẽ in ra boring! 0, boring! 1, boring! 2, boring! 3... tới vô tận"
   ]
  },
  {
   "cell_type": "markdown",
   "id": "e82b9e36-b55b-4b66-aef9-811528a97b6f",
   "metadata": {},
   "source": [
    "## Adding the Magic: The go Statement"
   ]
  },
  {
   "cell_type": "markdown",
   "id": "530f5eda-36c0-4c9b-98ef-7bb12c032814",
   "metadata": {},
   "source": [
    "Chỉ cần thêm từ khóa `go` trước 1 function, sẽ biết func thành goroutine"
   ]
  },
  {
   "cell_type": "code",
   "execution_count": 10,
   "id": "e4cf9df6-727d-4cf2-b0e8-a33949565753",
   "metadata": {},
   "outputs": [
    {
     "name": "stdout",
     "output_type": "stream",
     "text": [
      "I'm listening.\n",
      "boring! 0\n",
      "boring! 1\n",
      "boring! 2\n",
      "You're boring; I'm leaving.\n"
     ]
    }
   ],
   "source": [
    "func boring(msg string) {\n",
    "    for i := 0; ; i++ {\n",
    "        fmt.Printf(\"%s %d\\n\", msg, i)\n",
    "        time.Sleep(time.Second)\n",
    "    }\n",
    "}\n",
    "\n",
    "func main() {\n",
    "    go boring(\"boring!\")\n",
    "    fmt.Println(\"I'm listening.\")\n",
    "    time.Sleep(2 * time.Second)\n",
    "    fmt.Println(\"You're boring; I'm leaving.\")\n",
    "}"
   ]
  },
  {
   "cell_type": "markdown",
   "id": "287d5bad-867d-4de3-9aa5-f641f04d7656",
   "metadata": {},
   "source": [
    "#### Điểm lưu ý đầu tiên: \n",
    "- Hàm main cũng là một goroutine, nó sẽ chạy đầu tiên\n",
    "- Khi hàm main kết thúc, nó sẽ dừng (terminate) `toàn bộ` các goroutine đang chạy"
   ]
  },
  {
   "cell_type": "markdown",
   "id": "4441a416-2c8c-4942-bf86-fac28bdae034",
   "metadata": {},
   "source": [
    "#### Điểm lưu ý tiếp theo:\n",
    "- Sau khi hàm main chạy, nó sẽ in ra I'm listening\n",
    "- Sau đó main và boring chạy dồng thời (concurrently)\n",
    "- Hàm main ko làm gì, sleep trong 2s, hàm boring cũng chạy song song, in ra được boring! 0, 1, 2\n",
    "- Sau 2s, hàm main in ra You're boring; I'm leaving. và kết thúc, hàm boring cũng kết thúc tức thì, không in thêm ra được gì nữa"
   ]
  },
  {
   "cell_type": "markdown",
   "id": "524d271d-f0ef-4241-adde-b2c374ac20c7",
   "metadata": {},
   "source": [
    "#### Về Race condition\n",
    "- Đôi khi chúng ta sẽ thấy func chỉ in ra tới boring! 1, nhưng đôi khi thấy func in ra tới boring! 2\n",
    "- Goroutine phải được scheduled, nên cần thời gian chứ không phải liền tức thì\n",
    "- Goroutine của hàm boring sẽ ngủ đông 1s rồi được gọi dậy, của hàm main thì 2s\n",
    "- Giả sử tại thời điểm 0s:\n",
    "    - main được khởi tạo in ra I'm listening.\n",
    "    - boring được khởi tạo ngay sau và in ra boring! 0\n",
    "- Sau 1s thì boring được gọi dậy in ra boring! 1, main vẫn ngủ đông\n",
    "- Sau 2s thì boring lẫn main được gọi dậy\n",
    "    - Lúc này thì main lẫn boring là bình đẳng, schedule gọi func nào dậy trước sẽ thực hiện func đó trước\n",
    "    - Nếu boring trước, sẽ in ra boring! 2, sau đó main được gọi dậy in ra You're boring; I'm leaving. và toàn bộ goroutine kết thúc\n",
    "    - Nếu main trước thì main được gọi dậy in ra You're boring; I'm leaving. và toàn bộ goroutine kết thúc, boring sẽ không in ra được boring! 2"
   ]
  },
  {
   "cell_type": "markdown",
   "id": "0484299c-c3c9-4fec-987a-78e6723a467d",
   "metadata": {},
   "source": [
    "## Important Concepts"
   ]
  },
  {
   "cell_type": "markdown",
   "id": "f0ea3dc3-3e59-4b18-8638-eb7640e743d1",
   "metadata": {},
   "source": [
    "#### Goroutine Lifecycle  \n",
    "1. Created - goroutine is spawned  \n",
    "2. Running - actively executing  \n",
    "3. Sleeping - time.Sleep() or waiting  \n",
    "4. Terminated - function returns  "
   ]
  },
  {
   "cell_type": "markdown",
   "id": "a70c0e48-fe07-4a3a-a1a3-1efb8fd6e71e",
   "metadata": {},
   "source": [
    "## Common Mistakes"
   ]
  },
  {
   "cell_type": "markdown",
   "id": "739a653a-7295-4ea3-b640-a74a5ee21fc5",
   "metadata": {},
   "source": [
    "### 1. Forgetting to Wait"
   ]
  },
  {
   "cell_type": "code",
   "execution_count": 11,
   "id": "d40d0f05-46ad-468d-80f0-71413ff349ee",
   "metadata": {},
   "outputs": [],
   "source": [
    "// Wrong - program exits immediately\n",
    "func main() {\n",
    "    go boring(\"boring!\")\n",
    "    // No wait - program terminates\n",
    "}"
   ]
  },
  {
   "cell_type": "markdown",
   "id": "7320afcf-98b1-452f-a0fc-ca4ccdbf3b03",
   "metadata": {},
   "source": [
    "Nếu không có gì ngừng hàm main lại, thì hàm main sẽ chạy và kết thúc (terminate) ngay lập tức, boring cũng bị dừng ngay tức khắc mà không in ra được gì  \n",
    "Có kĩ thuật gọi là sync.WaitGroup, chắc là ông tác giả sẽ trình bày sau :)))  "
   ]
  },
  {
   "cell_type": "markdown",
   "id": "af976d29-735a-4262-bffd-a1f54282053d",
   "metadata": {},
   "source": [
    "### 2. Not Understanding Concurrency"
   ]
  },
  {
   "cell_type": "code",
   "execution_count": null,
   "id": "b7b4aaf3-6865-4856-9280-238d3bfdf625",
   "metadata": {},
   "outputs": [],
   "source": [
    "// This doesn't make them run \"in order\"\n",
    "go func1()\n",
    "go func2()\n",
    "// They run concurrently, not sequentially!"
   ]
  },
  {
   "cell_type": "markdown",
   "id": "879643f5-f70e-4224-8930-1fbec4f42397",
   "metadata": {},
   "source": [
    "Nhớ để ý func1 và func2 chạy đồng thời, ko theo tuần tự là được, ví dụ như ở dưới, có lúc in boring1 trước, có lúc in boring2 trước.  \n",
    "Chạy đoạn code bên dưới nhiều lần để cảm nhận concurrency."
   ]
  },
  {
   "cell_type": "code",
   "execution_count": 18,
   "id": "96afd685-013f-439c-80e6-42e096cbf21e",
   "metadata": {},
   "outputs": [
    {
     "name": "stdout",
     "output_type": "stream",
     "text": [
      "I'm listening.\n",
      "boring 2! 0\n",
      "boring 1! 0\n",
      "\n",
      "\n",
      "boring 2! 1\n",
      "boring 1! 1\n",
      "\n",
      "boring 2! 2\n",
      "\n",
      "boring 1! 2\n",
      "\n",
      "\n",
      "boring 2! 3\n",
      "boring 1! 3\n",
      "\n",
      "boring 1! 4\n",
      "\n",
      "boring 2! 4\n",
      "You're boring; I'm leaving.\n"
     ]
    }
   ],
   "source": [
    "func boring(msg string) {\n",
    "    for i := 0; ; i++ {\n",
    "        fmt.Printf(\"%s %d\\n\", msg, i)\n",
    "        time.Sleep(time.Second)\n",
    "        fmt.Println()\n",
    "    }\n",
    "}\n",
    "\n",
    "func main() {\n",
    "    go boring(\"boring 1!\")\n",
    "    go boring(\"boring 2!\")\n",
    "    fmt.Println(\"I'm listening.\")\n",
    "    time.Sleep(5 * time.Second)\n",
    "    fmt.Println(\"You're boring; I'm leaving.\")\n",
    "}"
   ]
  },
  {
   "cell_type": "code",
   "execution_count": null,
   "id": "edd7d679-5c37-469d-b8c8-8d272f921147",
   "metadata": {},
   "outputs": [],
   "source": []
  }
 ],
 "metadata": {
  "kernelspec": {
   "display_name": "Go (gonb)",
   "language": "go",
   "name": "gonb"
  },
  "language_info": {
   "codemirror_mode": "",
   "file_extension": ".go",
   "mimetype": "text/x-go",
   "name": "go",
   "nbconvert_exporter": "",
   "pygments_lexer": "",
   "version": "go1.24.6"
  }
 },
 "nbformat": 4,
 "nbformat_minor": 5
}
