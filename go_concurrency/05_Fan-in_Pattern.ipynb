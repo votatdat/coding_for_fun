{
 "cells": [
  {
   "cell_type": "markdown",
   "id": "80faccc6-4fe7-4f91-b80d-c6bc83efcb76",
   "metadata": {},
   "source": [
    "## Understanding Fan-in"
   ]
  },
  {
   "cell_type": "markdown",
   "id": "358a739b-dc8b-4624-b101-64b7b13a5e73",
   "metadata": {},
   "source": [
    "```mermaid\n",
    "graph LR\n",
    "    A[Input 1] --> C(Fan-in)\n",
    "    B[Input 2] --> C\n",
    "    C --> D[Output]\n"
   ]
  },
  {
   "cell_type": "markdown",
   "id": "f21d2326-e2db-4bd5-a154-d0397aea1ea5",
   "metadata": {},
   "source": [
    "Fan-in pattern giống kiểu như là mình gôm nhiều channels lại thành 1 channel, mục tiêu là để handle nhiều channels cùng lúc."
   ]
  },
  {
   "cell_type": "markdown",
   "id": "098f32c4-1ee4-4cb6-97fd-36c1a887bf4a",
   "metadata": {},
   "source": [
    "## Ví dụ kinh điển của Rob Pike\n",
    "Ví dụ này đã được giới thiệu ở phần 4, Select Basics"
   ]
  },
  {
   "cell_type": "code",
   "execution_count": 4,
   "id": "a817af86-563c-4c51-993b-d14a671d01ab",
   "metadata": {},
   "outputs": [
    {
     "name": "stdout",
     "output_type": "stream",
     "text": [
      "Joe 0\n",
      "Ann 0\n",
      "Ann 1\n",
      "Ann 2\n",
      "Joe 1\n",
      "Joe 2\n",
      "Ann 3\n",
      "Joe 3\n",
      "Ann 4\n",
      "Joe 4\n",
      "You're both boring; I'm leaving.\n"
     ]
    }
   ],
   "source": [
    "func boring(msg string) <-chan string {\n",
    "    c := make(chan string)\n",
    "    go func() {\n",
    "        for i := 0; ; i++ {\n",
    "            c <- fmt.Sprintf(\"%s %d\", msg, i)\n",
    "            time.Sleep(time.Duration(rand.Intn(1e3)) * time.Millisecond)\n",
    "        }\n",
    "    }()\n",
    "    return c\n",
    "}\n",
    "\n",
    "func fanIn(input1, input2 <-chan string) <-chan string {\n",
    "    c := make(chan string)\n",
    "    go func() {\n",
    "        for {\n",
    "            select {\n",
    "            case s := <-input1:\n",
    "                c <- s\n",
    "            case s := <-input2:\n",
    "                c <- s\n",
    "            }\n",
    "        }\n",
    "    }()\n",
    "    return c\n",
    "}\n",
    "\n",
    "func main() {\n",
    "    c := fanIn(boring(\"Joe\"), boring(\"Ann\"))\n",
    "    for i := 0; i < 10; i++ {\n",
    "        fmt.Println(<-c)\n",
    "    }\n",
    "    fmt.Println(\"You're both boring; I'm leaving.\")\n",
    "}"
   ]
  },
  {
   "cell_type": "markdown",
   "id": "d437767c-c50a-4f9a-987d-e17a6c06605b",
   "metadata": {},
   "source": [
    "## Why Fan-in?"
   ]
  },
  {
   "cell_type": "markdown",
   "id": "de41e42e-b96b-4b79-8be8-068905410cc8",
   "metadata": {},
   "source": [
    "### 1. Gom nhiều sources lại với nhau"
   ]
  },
  {
   "cell_type": "code",
   "execution_count": null,
   "id": "f0e239f3-abe6-4f14-a519-2470e54ed92c",
   "metadata": {},
   "outputs": [],
   "source": [
    "func fetchFromServers(servers ...string) <-chan Response {\n",
    "    c := make(chan Response)\n",
    "    \n",
    "    // Launch a goroutine for each server\n",
    "    for _, server := range servers {\n",
    "        go func(s string) {\n",
    "            resp := fetch(s)\n",
    "            c <- resp\n",
    "        }(server)\n",
    "    }\n",
    "    \n",
    "    return c\n",
    "}"
   ]
  },
  {
   "cell_type": "markdown",
   "id": "f7dbb7d8-302a-469f-94a5-6963e4220034",
   "metadata": {},
   "source": [
    "### 2. Làm code bên Consumer đơn giản hơn"
   ]
  },
  {
   "cell_type": "code",
   "execution_count": null,
   "id": "1fc94af7-52f9-4f43-b172-d6258b5bb31e",
   "metadata": {},
   "outputs": [],
   "source": [
    "// Without fan-in - complex\n",
    "for {\n",
    "    select {\n",
    "    case msg1 := <-ch1:\n",
    "        process(msg1)\n",
    "    case msg2 := <-ch2:\n",
    "        process(msg2)\n",
    "    case msg3 := <-ch3:\n",
    "        process(msg3)\n",
    "    }\n",
    "}\n",
    "\n",
    "// With fan-in - simple\n",
    "merged := fanIn(ch1, ch2, ch3)\n",
    "for msg := range merged {\n",
    "    process(msg)\n",
    "}"
   ]
  },
  {
   "cell_type": "markdown",
   "id": "4f6c3860-3602-4444-9678-6ce24b5a340f",
   "metadata": {},
   "source": [
    "## Fan-in Variations"
   ]
  },
  {
   "cell_type": "markdown",
   "id": "cf96a5e9-16be-48c5-ba1e-3ada639e6e11",
   "metadata": {},
   "source": [
    "### 1. Two-Channel Fan-in\n",
    "Đây là dạng đơn giản nhất, chỉ gom 2 channels lại với nhau"
   ]
  },
  {
   "cell_type": "code",
   "execution_count": 7,
   "id": "f61454ac-d5cf-4db0-b60b-f3a3845f2a2d",
   "metadata": {},
   "outputs": [],
   "source": [
    "func fanIn2(input1, input2 <-chan string) <-chan string {\n",
    "    c := make(chan string)\n",
    "    go func() {\n",
    "        for {\n",
    "            select {\n",
    "            case msg := <-input1:\n",
    "                c <- msg\n",
    "            case msg := <-input2:\n",
    "                c <- msg\n",
    "            }\n",
    "        }\n",
    "    }()\n",
    "    return c\n",
    "}"
   ]
  },
  {
   "cell_type": "markdown",
   "id": "f50fac15-d886-4ca7-ba6c-cb77f20568cd",
   "metadata": {},
   "source": [
    "### 2. Variadic Fan-in\n",
    "Gom nhiều channels lại với nhau dùng variadic của Go"
   ]
  },
  {
   "cell_type": "code",
   "execution_count": null,
   "id": "5882e6b8-8918-4263-acaf-719add3241bd",
   "metadata": {},
   "outputs": [],
   "source": [
    "func fanIn(inputs ...<-chan string) <-chan string {\n",
    "    c := make(chan string)\n",
    "    \n",
    "    // Start a goroutine for each input channel\n",
    "    for _, input := range inputs {\n",
    "        go func(in <-chan string) {\n",
    "            for msg := range in {\n",
    "                c <- msg\n",
    "            }\n",
    "        }(input)\n",
    "    }\n",
    "    \n",
    "    return c\n",
    "}"
   ]
  },
  {
   "cell_type": "markdown",
   "id": "f2d54e55-39dd-4c78-be29-58f25dead719",
   "metadata": {},
   "source": [
    "### 3. Sequenced Fan-in"
   ]
  },
  {
   "cell_type": "code",
   "execution_count": 10,
   "id": "e9ca9b7e-4a32-47fb-ba96-746d612a99fc",
   "metadata": {},
   "outputs": [
    {
     "name": "stdout",
     "output_type": "stream",
     "text": [
      "Joe 0\n",
      "Ann 0\n",
      "Joe 1\n",
      "Ann 1\n",
      "Ann 2\n",
      "Joe 2\n",
      "You're both boring; I'm leaving.\n"
     ]
    }
   ],
   "source": [
    "type Message struct {\n",
    "    str  string\n",
    "    wait chan bool\n",
    "}\n",
    "\n",
    "func fanInSequenced(input1, input2 <-chan Message) <-chan Message {\n",
    "    c := make(chan Message)\n",
    "    go func() {\n",
    "        for {\n",
    "            select {\n",
    "            case msg1 := <-input1:\n",
    "                c <- msg1\n",
    "            case msg2 := <-input2:\n",
    "                c <- msg2\n",
    "            }\n",
    "        }\n",
    "    }()\n",
    "    return c\n",
    "}\n",
    "\n",
    "func boring(msg string) <-chan Message {\n",
    "    waitForIt := make(chan bool)\n",
    "    c := make(chan Message)\n",
    "    go func() {\n",
    "        for i := 0; ; i++ {\n",
    "            c <- Message{\n",
    "                str:  fmt.Sprintf(\"%s %d\", msg, i),\n",
    "                wait: waitForIt,\n",
    "            }\n",
    "            time.Sleep(time.Duration(rand.Intn(1e3)) * time.Millisecond)\n",
    "            <-waitForIt // waits for permission before sending next\n",
    "        }\n",
    "    }()\n",
    "    return c\n",
    "}\n",
    "\n",
    "func main() {\n",
    "    c := fanInSequenced(boring(\"Joe\"), boring(\"Ann\"))\n",
    "\n",
    "    for i := 0; i <= 5; i++ {\n",
    "        msg := <-c              // get next message from either producer\n",
    "        fmt.Println(msg.str)    // consume it\n",
    "        msg.wait <- true        // signal producer to send next\n",
    "    }\n",
    "    fmt.Println(\"You're both boring; I'm leaving.\")\n",
    "}"
   ]
  },
  {
   "cell_type": "markdown",
   "id": "5f321c72-4627-4dca-bd63-b085b4092a9d",
   "metadata": {},
   "source": [
    "### Các điểm cần note:"
   ]
  },
  {
   "cell_type": "markdown",
   "id": "45591e71-3165-4b92-9ee1-ae8c362e3fe2",
   "metadata": {},
   "source": [
    "#### Message struct"
   ]
  },
  {
   "cell_type": "code",
   "execution_count": null,
   "id": "ed6c9e9c-ffa5-4300-86a5-2a245414fabc",
   "metadata": {},
   "outputs": [],
   "source": [
    "type Message struct {\n",
    "    str  string\n",
    "    wait chan bool\n",
    "}"
   ]
  },
  {
   "cell_type": "markdown",
   "id": "486e8a1d-a0de-4730-91c0-950bdbf41651",
   "metadata": {},
   "source": [
    "- `str`: đây là payload\n",
    "- `wait`: là 1 tín hiệu trả về cho producer "
   ]
  },
  {
   "cell_type": "markdown",
   "id": "aabe27a0-cf6c-4af2-a1a8-0f420ec3c210",
   "metadata": {},
   "source": [
    "#### boring(msg string)"
   ]
  },
  {
   "cell_type": "code",
   "execution_count": null,
   "id": "f919a87d-435f-4dff-89dc-74f5f0f6a313",
   "metadata": {},
   "outputs": [],
   "source": [
    "func boring(msg string) <-chan Message {\n",
    "    waitForIt := make(chan bool)\n",
    "    c := make(chan Message)\n",
    "    go func() {\n",
    "        for i := 0; ; i++ {\n",
    "            c <- Message{\n",
    "                str:  fmt.Sprintf(\"%s %d\", msg, i),\n",
    "                wait: waitForIt,\n",
    "            }\n",
    "            time.Sleep(time.Duration(rand.Intn(1e3)) * time.Millisecond)\n",
    "            <-waitForIt\n",
    "        }\n",
    "    }()\n",
    "    return c\n",
    "}"
   ]
  },
  {
   "cell_type": "markdown",
   "id": "82181d68-4fd8-4f95-8338-89a60bddc732",
   "metadata": {},
   "source": [
    "- Mỗi producer goroutine sẽ tạo ra các message kiểu như \"Joe 0\", 'Joe 1\"....\n",
    "- Sau mỗi message được gửi tới channel c, thì nó sẽ bị block bởi `<-waitForIt`, chờ đợi ack của consumer\n",
    "- Điều này sẽ không làm quá tải cho consumer, vì gorouting không thể gửi value kế kiêp khi mà consumer chưa cho phép"
   ]
  },
  {
   "cell_type": "markdown",
   "id": "12e130dc-5116-45b0-a4fe-a86c463d3ab5",
   "metadata": {},
   "source": [
    "#### fanInSequenced"
   ]
  },
  {
   "cell_type": "markdown",
   "id": "85ba9325-89cc-4b56-9b06-8835b7d3ec5d",
   "metadata": {},
   "source": [
    "- Merge 2 channel lại thành 1"
   ]
  },
  {
   "cell_type": "markdown",
   "id": "ef498936-6873-4187-b821-4d160d4895b3",
   "metadata": {},
   "source": [
    "#### Khi nào sử dụng patter này?"
   ]
  },
  {
   "cell_type": "markdown",
   "id": "ba025eeb-9a63-4972-995d-a7e77c377d64",
   "metadata": {},
   "source": [
    "- Khi producer generate data nhanh quá, làm đầy buffer quá nhanh mà consumer tiêu thụ không kịp\n",
    "- Producer phải tạm dừng cho đến khi consumer hoàn thành\n",
    "- Comnsumer tiêu thụ đều nhau từ 2 producer"
   ]
  },
  {
   "cell_type": "markdown",
   "id": "514e22d5-a0c9-4b56-9854-413482fe0d7b",
   "metadata": {},
   "source": [
    "### 4. Fan-in with Done Channel"
   ]
  },
  {
   "cell_type": "code",
   "execution_count": 17,
   "id": "03cd1439-c7d6-4100-a470-72ceb4cceebb",
   "metadata": {},
   "outputs": [
    {
     "name": "stdout",
     "output_type": "stream",
     "text": [
      "Got: 0\n",
      "Got: 100\n",
      "Finished.\n"
     ]
    }
   ],
   "source": [
    "func fanInWithDone(done <-chan struct{}, inputs ...<-chan int) <-chan int {\n",
    "    c := make(chan int)\n",
    "    var wg sync.WaitGroup\n",
    "    \n",
    "    // Multiplexer function\n",
    "    multiplex := func(input <-chan int) {\n",
    "        defer wg.Done()\n",
    "        for {\n",
    "            select {\n",
    "            case v := <-input:\n",
    "                select {\n",
    "                case c <- v:\n",
    "                case <-done:\n",
    "                    return\n",
    "                }\n",
    "            case <-done:\n",
    "                return\n",
    "            }\n",
    "        }\n",
    "    }\n",
    "    \n",
    "    // Launch multiplexer for each input\n",
    "    wg.Add(len(inputs))\n",
    "    for _, input := range inputs {\n",
    "        go multiplex(input)\n",
    "    }\n",
    "    \n",
    "    // Close output when all multiplexers finish\n",
    "    go func() {\n",
    "        wg.Wait()\n",
    "        close(c)\n",
    "    }()\n",
    "    \n",
    "    return c\n",
    "}\n",
    "\n",
    "func main() {\n",
    "    done := make(chan struct{})\n",
    "\n",
    "    // Simulate two input streams\n",
    "    input1 := make(chan int)\n",
    "    input2 := make(chan int)\n",
    "\n",
    "    go func() {\n",
    "        for i := 0; i < 3; i++ {\n",
    "            input1 <- i\n",
    "            time.Sleep(1000 * time.Millisecond)\n",
    "        }\n",
    "        close(input1)\n",
    "    }()\n",
    "\n",
    "    go func() {\n",
    "        for i := 100; i < 103; i++ {\n",
    "            input2 <- i\n",
    "            time.Sleep(1500 * time.Millisecond)\n",
    "        }\n",
    "        close(input2)\n",
    "    }()\n",
    "\n",
    "    out := fanInWithDone(done, input1, input2)\n",
    "\n",
    "    for v := range out {\n",
    "        fmt.Println(\"Got:\", v)\n",
    "        if v == 100 { // simulate cancellation mid-stream\n",
    "            close(done)\n",
    "        }\n",
    "    }\n",
    "\n",
    "    fmt.Println(\"Finished.\")\n",
    "}"
   ]
  },
  {
   "cell_type": "markdown",
   "id": "ba032a71-a395-446a-8939-5135efe4f77e",
   "metadata": {},
   "source": [
    "### Các điểm cần note"
   ]
  },
  {
   "cell_type": "markdown",
   "id": "3c9181ca-caee-4700-89a3-d12d13eeccbe",
   "metadata": {},
   "source": [
    "#### 1. `done <-chan struct{}`"
   ]
  },
  {
   "cell_type": "markdown",
   "id": "546fd665-bda3-4571-a7da-94747c586602",
   "metadata": {},
   "source": [
    "- Đây là 1 signal channel, đóng hoặc gửi `done` để đóng toàn bộ goroutine\n",
    "- Đảm bảo dừng toàn bộ goroutine kể cả vài input channel đang active hoặc bị block"
   ]
  },
  {
   "cell_type": "markdown",
   "id": "4ba16742-fdf4-4699-9dc2-a004ada27f47",
   "metadata": {},
   "source": [
    "#### 2. `multiplex` function"
   ]
  },
  {
   "cell_type": "code",
   "execution_count": null,
   "id": "2be2b5db-c551-4e02-b311-8841484a0f29",
   "metadata": {},
   "outputs": [],
   "source": [
    "multiplex := func(input <-chan int) {\n",
    "    defer wg.Done()\n",
    "    for {\n",
    "        select {\n",
    "        case v := <-input:\n",
    "            select {\n",
    "            case c <- v:\n",
    "            case <-done:\n",
    "                return\n",
    "            }\n",
    "        case <-done:\n",
    "            return\n",
    "        }\n",
    "    }\n",
    "}"
   ]
  },
  {
   "cell_type": "markdown",
   "id": "181f76ce-454d-4885-a8b6-f1c41785573a",
   "metadata": {},
   "source": [
    "- Đọc dư liệu từ input channel\n",
    "- Forward giá trị đó vào c channel\n",
    "- Nếu có done thì exit\n",
    "- Select bên trong đảm bảo không block sending tới channel c"
   ]
  },
  {
   "cell_type": "markdown",
   "id": "6c561d93-f46d-4618-9a2d-65d91bdddd11",
   "metadata": {},
   "source": [
    "#### 3. Gọi multiplexers"
   ]
  },
  {
   "cell_type": "code",
   "execution_count": null,
   "id": "ca18994e-3fcd-4e0a-b013-883ae3812400",
   "metadata": {},
   "outputs": [],
   "source": [
    "wg.Add(len(inputs))\n",
    "for _, input := range inputs {\n",
    "    go multiplex(input)\n",
    "}"
   ]
  },
  {
   "cell_type": "markdown",
   "id": "e17edabb-6195-4a7f-b0a7-8e71e5c8edd4",
   "metadata": {},
   "source": [
    "- Tạo 1 goroutine với mỗi input\n",
    "- `wg.Add` để track có bao nhiêu goroutine"
   ]
  },
  {
   "cell_type": "markdown",
   "id": "daf36461-e1fd-453f-8b3e-fba3778d1a18",
   "metadata": {},
   "source": [
    "#### 4. Đóng output"
   ]
  },
  {
   "cell_type": "code",
   "execution_count": null,
   "id": "830d9239-6dc3-4021-9fdb-df1ed43e548c",
   "metadata": {},
   "outputs": [],
   "source": [
    "go func() {\n",
    "    wg.Wait()\n",
    "    close(c)\n",
    "}()"
   ]
  },
  {
   "cell_type": "markdown",
   "id": "db5c86b5-1c02-4b76-bef6-b656dbf0dc27",
   "metadata": {},
   "source": [
    "- Chờ toàn bộ multiplexer thoat trước khi đóng channel c\n",
    "- Ngăn chặn việc gửi data tới 1 channel đã được đóng"
   ]
  },
  {
   "cell_type": "markdown",
   "id": "e0febd17-06a1-46be-b3d6-fd548a976e79",
   "metadata": {},
   "source": [
    "## Advanced Fan-in Patterns"
   ]
  },
  {
   "cell_type": "markdown",
   "id": "75840646-83f3-4f3a-854a-00f2ad1ceb64",
   "metadata": {},
   "source": [
    "### 1. Weighted Fan-in\n",
    "Một vài channels sẽ có priority cao hơn:\n",
    "- `msg` sẽ lấy data từ high trước\n",
    "- Nếu không có thì thử với cả 2"
   ]
  },
  {
   "cell_type": "code",
   "execution_count": null,
   "id": "7796a272-3430-4772-a824-cf67f4859c3b",
   "metadata": {},
   "outputs": [],
   "source": [
    "func weightedFanIn(high, low <-chan string) <-chan string {\n",
    "    c := make(chan string)\n",
    "    go func() {\n",
    "        for {\n",
    "            // Try high priority first\n",
    "            select {\n",
    "            case msg := <-high:\n",
    "                c <- msg\n",
    "            default:\n",
    "                // High priority empty, try both\n",
    "                select {\n",
    "                case msg := <-high:\n",
    "                    c <- msg\n",
    "                case msg := <-low:\n",
    "                    c <- msg\n",
    "                }\n",
    "            }\n",
    "        }\n",
    "    }()\n",
    "    return c\n",
    "}"
   ]
  },
  {
   "cell_type": "markdown",
   "id": "b961beb2-d9c9-4707-b2a8-3b54acbb164d",
   "metadata": {},
   "source": [
    "### 2. Buffered Fan-in"
   ]
  },
  {
   "cell_type": "code",
   "execution_count": null,
   "id": "4e095f8c-047e-416f-b28f-d77c5a23589b",
   "metadata": {},
   "outputs": [],
   "source": [
    "func bufferedFanIn(inputs ...<-chan int) <-chan int {\n",
    "    out := make(chan int, len(inputs)*10) // Buffer size based on inputs\n",
    "    \n",
    "    var wg sync.WaitGroup\n",
    "    wg.Add(len(inputs))\n",
    "    \n",
    "    for _, input := range inputs {\n",
    "        go func(in <-chan int) {\n",
    "            for val := range in {\n",
    "                out <- val\n",
    "            }\n",
    "            wg.Done()\n",
    "        }(input)\n",
    "    }\n",
    "    \n",
    "    go func() {\n",
    "        wg.Wait()\n",
    "        close(out)\n",
    "    }()\n",
    "    \n",
    "    return out\n",
    "}"
   ]
  },
  {
   "cell_type": "markdown",
   "id": "479fa4f7-5062-4043-be8c-02031e8d194c",
   "metadata": {},
   "source": [
    "## Real-World Applications"
   ]
  },
  {
   "cell_type": "markdown",
   "id": "cbc2805d-fa35-440d-9b96-b5fd840a6801",
   "metadata": {},
   "source": [
    "### 1. Log Aggregation"
   ]
  },
  {
   "cell_type": "code",
   "execution_count": null,
   "id": "df2d99bb-1671-4ee7-beaa-e61738d82734",
   "metadata": {},
   "outputs": [],
   "source": [
    "func aggregateLogs(services ...string) <-chan LogEntry {\n",
    "    inputs := make([]<-chan LogEntry, len(services))\n",
    "    \n",
    "    for i, service := range services {\n",
    "        inputs[i] = streamLogs(service)\n",
    "    }\n",
    "    \n",
    "    return fanIn(inputs...)\n",
    "}"
   ]
  },
  {
   "cell_type": "markdown",
   "id": "e1f1cf7a-6cb4-412c-8062-efdb6f8456e8",
   "metadata": {},
   "source": [
    "### 2. Multi-Source Data Collection"
   ]
  },
  {
   "cell_type": "code",
   "execution_count": null,
   "id": "2c0fc0ce-f76d-48a0-b53b-bb1d467b8ada",
   "metadata": {},
   "outputs": [],
   "source": [
    "func collectMetrics(sources ...*DataSource) <-chan Metric {\n",
    "    channels := make([]<-chan Metric, len(sources))\n",
    "    \n",
    "    for i, source := range sources {\n",
    "        channels[i] = source.Stream()\n",
    "    }\n",
    "    \n",
    "    return fanIn(channels...)\n",
    "}"
   ]
  },
  {
   "cell_type": "markdown",
   "id": "fc7a46f0-9094-469a-b3a2-429ed46e6878",
   "metadata": {},
   "source": [
    "### 3. Task Result Collection"
   ]
  },
  {
   "cell_type": "code",
   "execution_count": null,
   "id": "fdb890fd-c974-44f0-9d98-cc2a170792d2",
   "metadata": {},
   "outputs": [],
   "source": [
    "func executeParallel(tasks ...Task) <-chan Result {\n",
    "    results := make([]<-chan Result, len(tasks))\n",
    "    \n",
    "    for i, task := range tasks {\n",
    "        results[i] = runTask(task)\n",
    "    }\n",
    "    \n",
    "    return fanIn(results...)\n",
    "}"
   ]
  },
  {
   "cell_type": "markdown",
   "id": "b4bbfdcc-9af8-4604-8fdf-6865d2b27af2",
   "metadata": {},
   "source": [
    "Cả 3 ví dụ cho 3 tình huống khác nhau nhưng điểm chung là tạo một slice chứa cách channel, rồi xong dùng fanIn pattern để xử lí."
   ]
  },
  {
   "cell_type": "markdown",
   "id": "9fef1c02-60ab-4dca-9146-4351bca864c1",
   "metadata": {},
   "source": [
    "## Performance Considerations"
   ]
  },
  {
   "cell_type": "markdown",
   "id": "1cd7db8e-fc4f-400e-9b33-ac3c5e07c5dc",
   "metadata": {},
   "source": [
    "### 1. Số lượng Goroutine"
   ]
  },
  {
   "cell_type": "markdown",
   "id": "9cd52d23-2ad5-4873-bfeb-5b3665ed9e54",
   "metadata": {},
   "source": [
    "**One goroutine per input (variadic version)**  \n",
    "- Good for: Few long-lived channels  \n",
    "- Cost: N goroutines for N inputs  "
   ]
  },
  {
   "cell_type": "markdown",
   "id": "700644f4-bfb2-4c4d-a649-77c222d21044",
   "metadata": {},
   "source": [
    "**Single select loop**  \n",
    "- Good for: Many short-lived channels\n",
    "- Cost: 1 goroutine, but limited to compile-time known channels"
   ]
  },
  {
   "cell_type": "markdown",
   "id": "970fd776-5530-453f-9deb-a8c280ac57ad",
   "metadata": {},
   "source": [
    " "
   ]
  },
  {
   "cell_type": "markdown",
   "id": "52992ae9-2be7-4d2f-a541-f1c61ea36d0c",
   "metadata": {},
   "source": [
    "### 2. Buffer Sizing"
   ]
  },
  {
   "cell_type": "code",
   "execution_count": null,
   "id": "af428f65-1e00-4196-950a-846862358d18",
   "metadata": {},
   "outputs": [],
   "source": [
    "// Unbuffered - maximum synchronization\n",
    "out := make(chan T)\n",
    "\n",
    "// Small buffer - reduce contention\n",
    "out := make(chan T, 10)\n",
    "\n",
    "// Large buffer - trade memory for throughput\n",
    "out := make(chan T, 1000)"
   ]
  },
  {
   "cell_type": "markdown",
   "id": "9a446902-d36d-49ef-8fe7-a1850501ef88",
   "metadata": {},
   "source": [
    "### 3. Select vs Goroutines"
   ]
  },
  {
   "cell_type": "code",
   "execution_count": null,
   "id": "e92cb600-46bb-4fdf-842e-7c2aebd85a48",
   "metadata": {},
   "outputs": [],
   "source": [
    "// Select - lower overhead, fixed inputs\n",
    "select {\n",
    "case v := <-ch1:\n",
    "case v := <-ch2:\n",
    "}\n",
    "\n",
    "// Goroutines - flexible, higher overhead\n",
    "for _, ch := range channels {\n",
    "    go forward(ch, out)\n",
    "}"
   ]
  },
  {
   "cell_type": "markdown",
   "id": "ff89c926-7748-4dc9-9ba2-d14a35ff7775",
   "metadata": {},
   "source": [
    "## Common Pitfalls"
   ]
  },
  {
   "cell_type": "markdown",
   "id": "e0e8351b-f3c3-43e1-bc38-51bd16068463",
   "metadata": {},
   "source": [
    "### 1. Goroutine Leak"
   ]
  },
  {
   "cell_type": "code",
   "execution_count": 4,
   "id": "bf42b0b9-6bd3-4d00-aeb5-54b7b9f73d5d",
   "metadata": {},
   "outputs": [],
   "source": [
    "// Leaks goroutines if output not consumed\n",
    "func leakyFanIn(inputs ...<-chan int) <-chan int {\n",
    "    out := make(chan int)\n",
    "    for _, in := range inputs {\n",
    "        go func(ch <-chan int) {\n",
    "            for v := range ch {\n",
    "                out <- v  // Blocks if no receiver!\n",
    "            }\n",
    "        }(in)\n",
    "    }\n",
    "    return out\n",
    "}"
   ]
  },
  {
   "cell_type": "code",
   "execution_count": null,
   "id": "e57a2ef0-ac5d-44e5-9570-681da3bfd95d",
   "metadata": {},
   "outputs": [],
   "source": []
  },
  {
   "cell_type": "markdown",
   "id": "44ed59ec-65ce-4743-9da8-8fa78f7ff07d",
   "metadata": {},
   "source": [
    "### 2. Premature Channel Closing"
   ]
  },
  {
   "cell_type": "code",
   "execution_count": 5,
   "id": "8b7d09fd-f7fc-4cee-8c39-5566dd6e1df3",
   "metadata": {},
   "outputs": [],
   "source": [
    "// Closes too early\n",
    "func badFanIn(inputs ...<-chan int) <-chan int {\n",
    "    out := make(chan int)\n",
    "    for _, in := range inputs {\n",
    "        go func(ch <-chan int) {\n",
    "            for v := range ch {\n",
    "                out <- v\n",
    "            }\n",
    "            close(out)  // Wrong! Multiple goroutines close same channel\n",
    "        }(in)\n",
    "    }\n",
    "    return out\n",
    "}"
   ]
  },
  {
   "cell_type": "code",
   "execution_count": null,
   "id": "7e95dfac-68c6-4f62-9082-3a01c8c8ca8b",
   "metadata": {},
   "outputs": [],
   "source": []
  },
  {
   "cell_type": "markdown",
   "id": "a49671c8-79b2-4f67-9d33-6db6b65a1c79",
   "metadata": {},
   "source": [
    "### 3. Missing Cancellation"
   ]
  },
  {
   "cell_type": "code",
   "execution_count": 6,
   "id": "bb7667f6-792a-4d41-b591-2e7485239865",
   "metadata": {},
   "outputs": [],
   "source": [
    "// ✅ Proper cancellation\n",
    "func fanInCancellable(ctx context.Context, inputs ...<-chan int) <-chan int {\n",
    "    out := make(chan int)\n",
    "    var wg sync.WaitGroup\n",
    "    \n",
    "    for _, in := range inputs {\n",
    "        wg.Add(1)\n",
    "        go func(ch <-chan int) {\n",
    "            defer wg.Done()\n",
    "            for {\n",
    "                select {\n",
    "                case v, ok := <-ch:\n",
    "                    if !ok {\n",
    "                        return\n",
    "                    }\n",
    "                    select {\n",
    "                    case out <- v:\n",
    "                    case <-ctx.Done():\n",
    "                        return\n",
    "                    }\n",
    "                case <-ctx.Done():\n",
    "                    return\n",
    "                }\n",
    "            }\n",
    "        }(in)\n",
    "    }\n",
    "    \n",
    "    go func() {\n",
    "        wg.Wait()\n",
    "        close(out)\n",
    "    }()\n",
    "    \n",
    "    return out\n",
    "}"
   ]
  },
  {
   "cell_type": "code",
   "execution_count": null,
   "id": "cbee96ba-fced-4598-900d-f8d09092c6df",
   "metadata": {},
   "outputs": [],
   "source": []
  },
  {
   "cell_type": "markdown",
   "id": "6d71ab2e-e0d2-4d1f-af95-8c1164677566",
   "metadata": {},
   "source": [
    "## Best Practices"
   ]
  },
  {
   "cell_type": "markdown",
   "id": "0a497285-8bc8-49c9-a732-250865af4ee2",
   "metadata": {},
   "source": [
    "### 1. Always handle cleanup - Use WaitGroup or done channels"
   ]
  },
  {
   "cell_type": "markdown",
   "id": "a236985f-1245-4019-bdfb-00640a89a08a",
   "metadata": {},
   "source": [
    "### 2. Consider cancellation - Support context for shutdown"
   ]
  },
  {
   "cell_type": "markdown",
   "id": "da010871-41de-4880-a7fd-a4d8eefaec76",
   "metadata": {},
   "source": [
    "### 3. Document ordering - Make it clear if order is preserved"
   ]
  },
  {
   "cell_type": "markdown",
   "id": "faf5df59-c65c-43fb-8c64-0a62cb6832b6",
   "metadata": {},
   "source": [
    "### 4. Test edge cases - Empty inputs, closed channels, etc."
   ]
  },
  {
   "cell_type": "markdown",
   "id": "c72443c7-2e08-40cc-a134-2e153f5b9260",
   "metadata": {},
   "source": [
    "### 5. Monitor goroutines - Ensure no leaks in production"
   ]
  },
  {
   "cell_type": "code",
   "execution_count": null,
   "id": "ca7121cd-78df-4fa4-a61c-b570a86916bc",
   "metadata": {},
   "outputs": [],
   "source": []
  }
 ],
 "metadata": {
  "kernelspec": {
   "display_name": "Go (gonb)",
   "language": "go",
   "name": "gonb"
  },
  "language_info": {
   "codemirror_mode": "",
   "file_extension": ".go",
   "mimetype": "text/x-go",
   "name": "go",
   "nbconvert_exporter": "",
   "pygments_lexer": "",
   "version": "go1.24.6"
  }
 },
 "nbformat": 4,
 "nbformat_minor": 5
}
