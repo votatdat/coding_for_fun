{
 "cells": [
  {
   "cell_type": "markdown",
   "id": "80faccc6-4fe7-4f91-b80d-c6bc83efcb76",
   "metadata": {},
   "source": [
    "## Understanding Fan-in"
   ]
  },
  {
   "cell_type": "markdown",
   "id": "358a739b-dc8b-4624-b101-64b7b13a5e73",
   "metadata": {},
   "source": [
    "```mermaid\n",
    "graph LR\n",
    "    A[Input 1] --> C(Fan-in)\n",
    "    B[Input 2] --> C\n",
    "    C --> D[Output]\n"
   ]
  },
  {
   "cell_type": "markdown",
   "id": "f21d2326-e2db-4bd5-a154-d0397aea1ea5",
   "metadata": {},
   "source": [
    "Fan-in pattern giống kiểu như là mình gôm nhiều channels lại thành 1 channel, mục tiêu là để handle nhiều channels cùng lúc."
   ]
  },
  {
   "cell_type": "markdown",
   "id": "098f32c4-1ee4-4cb6-97fd-36c1a887bf4a",
   "metadata": {},
   "source": [
    "## Ví dụ kinh điển của Rob Pike\n",
    "Ví dụ này đã được giới thiệu ở phần 4, Select Basics"
   ]
  },
  {
   "cell_type": "code",
   "execution_count": 4,
   "id": "a817af86-563c-4c51-993b-d14a671d01ab",
   "metadata": {},
   "outputs": [
    {
     "name": "stdout",
     "output_type": "stream",
     "text": [
      "Joe 0\n",
      "Ann 0\n",
      "Ann 1\n",
      "Ann 2\n",
      "Joe 1\n",
      "Joe 2\n",
      "Ann 3\n",
      "Joe 3\n",
      "Ann 4\n",
      "Joe 4\n",
      "You're both boring; I'm leaving.\n"
     ]
    }
   ],
   "source": [
    "func boring(msg string) <-chan string {\n",
    "    c := make(chan string)\n",
    "    go func() {\n",
    "        for i := 0; ; i++ {\n",
    "            c <- fmt.Sprintf(\"%s %d\", msg, i)\n",
    "            time.Sleep(time.Duration(rand.Intn(1e3)) * time.Millisecond)\n",
    "        }\n",
    "    }()\n",
    "    return c\n",
    "}\n",
    "\n",
    "func fanIn(input1, input2 <-chan string) <-chan string {\n",
    "    c := make(chan string)\n",
    "    go func() {\n",
    "        for {\n",
    "            select {\n",
    "            case s := <-input1:\n",
    "                c <- s\n",
    "            case s := <-input2:\n",
    "                c <- s\n",
    "            }\n",
    "        }\n",
    "    }()\n",
    "    return c\n",
    "}\n",
    "\n",
    "func main() {\n",
    "    c := fanIn(boring(\"Joe\"), boring(\"Ann\"))\n",
    "    for i := 0; i < 10; i++ {\n",
    "        fmt.Println(<-c)\n",
    "    }\n",
    "    fmt.Println(\"You're both boring; I'm leaving.\")\n",
    "}"
   ]
  },
  {
   "cell_type": "markdown",
   "id": "d437767c-c50a-4f9a-987d-e17a6c06605b",
   "metadata": {},
   "source": [
    "## Why Fan-in?"
   ]
  },
  {
   "cell_type": "markdown",
   "id": "de41e42e-b96b-4b79-8be8-068905410cc8",
   "metadata": {},
   "source": [
    "### 1. Merge Independent Sources"
   ]
  },
  {
   "cell_type": "code",
   "execution_count": null,
   "id": "f0e239f3-abe6-4f14-a519-2470e54ed92c",
   "metadata": {},
   "outputs": [],
   "source": [
    "func fetchFromServers(servers ...string) <-chan Response {\n",
    "    c := make(chan Response)\n",
    "    \n",
    "    // Launch a goroutine for each server\n",
    "    for _, server := range servers {\n",
    "        go func(s string) {\n",
    "            resp := fetch(s)\n",
    "            c <- resp\n",
    "        }(server)\n",
    "    }\n",
    "    \n",
    "    return c\n",
    "}"
   ]
  },
  {
   "cell_type": "markdown",
   "id": "f7dbb7d8-302a-469f-94a5-6963e4220034",
   "metadata": {},
   "source": [
    "### 2. Simplify Consumer Code"
   ]
  },
  {
   "cell_type": "code",
   "execution_count": null,
   "id": "1fc94af7-52f9-4f43-b172-d6258b5bb31e",
   "metadata": {},
   "outputs": [],
   "source": [
    "// Without fan-in - complex\n",
    "for {\n",
    "    select {\n",
    "    case msg1 := <-ch1:\n",
    "        process(msg1)\n",
    "    case msg2 := <-ch2:\n",
    "        process(msg2)\n",
    "    case msg3 := <-ch3:\n",
    "        process(msg3)\n",
    "    }\n",
    "}\n",
    "\n",
    "// With fan-in - simple\n",
    "merged := fanIn(ch1, ch2, ch3)\n",
    "for msg := range merged {\n",
    "    process(msg)\n",
    "}"
   ]
  },
  {
   "cell_type": "markdown",
   "id": "4f6c3860-3602-4444-9678-6ce24b5a340f",
   "metadata": {},
   "source": [
    "## Fan-in Variations"
   ]
  },
  {
   "cell_type": "markdown",
   "id": "cf96a5e9-16be-48c5-ba1e-3ada639e6e11",
   "metadata": {},
   "source": [
    "### 1. Two-Channel Fan-in\n",
    "Đây là dạng đơn giản nhất, chỉ gom 2 channels lại với nhau"
   ]
  },
  {
   "cell_type": "code",
   "execution_count": 7,
   "id": "f61454ac-d5cf-4db0-b60b-f3a3845f2a2d",
   "metadata": {},
   "outputs": [],
   "source": [
    "func fanIn2(input1, input2 <-chan string) <-chan string {\n",
    "    c := make(chan string)\n",
    "    go func() {\n",
    "        for {\n",
    "            select {\n",
    "            case msg := <-input1:\n",
    "                c <- msg\n",
    "            case msg := <-input2:\n",
    "                c <- msg\n",
    "            }\n",
    "        }\n",
    "    }()\n",
    "    return c\n",
    "}"
   ]
  },
  {
   "cell_type": "markdown",
   "id": "f50fac15-d886-4ca7-ba6c-cb77f20568cd",
   "metadata": {},
   "source": [
    "### 2. Variadic Fan-in\n",
    "Gom nhiều channels lại với nhau dùng variadic của Go"
   ]
  },
  {
   "cell_type": "code",
   "execution_count": null,
   "id": "5882e6b8-8918-4263-acaf-719add3241bd",
   "metadata": {},
   "outputs": [],
   "source": [
    "func fanIn(inputs ...<-chan string) <-chan string {\n",
    "    c := make(chan string)\n",
    "    \n",
    "    // Start a goroutine for each input channel\n",
    "    for _, input := range inputs {\n",
    "        go func(in <-chan string) {\n",
    "            for msg := range in {\n",
    "                c <- msg\n",
    "            }\n",
    "        }(input)\n",
    "    }\n",
    "    \n",
    "    return c\n",
    "}"
   ]
  },
  {
   "cell_type": "markdown",
   "id": "f2d54e55-39dd-4c78-be29-58f25dead719",
   "metadata": {},
   "source": [
    "### 3. Sequenced Fan-in"
   ]
  },
  {
   "cell_type": "code",
   "execution_count": 10,
   "id": "e9ca9b7e-4a32-47fb-ba96-746d612a99fc",
   "metadata": {},
   "outputs": [
    {
     "name": "stdout",
     "output_type": "stream",
     "text": [
      "Joe 0\n",
      "Ann 0\n",
      "Joe 1\n",
      "Ann 1\n",
      "Ann 2\n",
      "Joe 2\n",
      "You're both boring; I'm leaving.\n"
     ]
    }
   ],
   "source": [
    "type Message struct {\n",
    "    str  string\n",
    "    wait chan bool\n",
    "}\n",
    "\n",
    "func fanInSequenced(input1, input2 <-chan Message) <-chan Message {\n",
    "    c := make(chan Message)\n",
    "    go func() {\n",
    "        for {\n",
    "            select {\n",
    "            case msg1 := <-input1:\n",
    "                c <- msg1\n",
    "            case msg2 := <-input2:\n",
    "                c <- msg2\n",
    "            }\n",
    "        }\n",
    "    }()\n",
    "    return c\n",
    "}\n",
    "\n",
    "func boring(msg string) <-chan Message {\n",
    "    waitForIt := make(chan bool)\n",
    "    c := make(chan Message)\n",
    "    go func() {\n",
    "        for i := 0; ; i++ {\n",
    "            c <- Message{\n",
    "                str:  fmt.Sprintf(\"%s %d\", msg, i),\n",
    "                wait: waitForIt,\n",
    "            }\n",
    "            time.Sleep(time.Duration(rand.Intn(1e3)) * time.Millisecond)\n",
    "            <-waitForIt // waits for permission before sending next\n",
    "        }\n",
    "    }()\n",
    "    return c\n",
    "}\n",
    "\n",
    "func main() {\n",
    "    c := fanInSequenced(boring(\"Joe\"), boring(\"Ann\"))\n",
    "\n",
    "    for i := 0; i <= 5; i++ {\n",
    "        msg := <-c              // get next message from either producer\n",
    "        fmt.Println(msg.str)    // consume it\n",
    "        msg.wait <- true        // signal producer to send next\n",
    "    }\n",
    "    fmt.Println(\"You're both boring; I'm leaving.\")\n",
    "}"
   ]
  },
  {
   "cell_type": "markdown",
   "id": "5f321c72-4627-4dca-bd63-b085b4092a9d",
   "metadata": {},
   "source": [
    "### Các điểm cần note:"
   ]
  },
  {
   "cell_type": "markdown",
   "id": "45591e71-3165-4b92-9ee1-ae8c362e3fe2",
   "metadata": {},
   "source": [
    "#### Message struct"
   ]
  },
  {
   "cell_type": "code",
   "execution_count": null,
   "id": "ed6c9e9c-ffa5-4300-86a5-2a245414fabc",
   "metadata": {},
   "outputs": [],
   "source": [
    "type Message struct {\n",
    "    str  string\n",
    "    wait chan bool\n",
    "}"
   ]
  },
  {
   "cell_type": "markdown",
   "id": "486e8a1d-a0de-4730-91c0-950bdbf41651",
   "metadata": {},
   "source": [
    "- `str`: đây là payload\n",
    "- `wait`: là 1 tín hiệu trả về cho producer "
   ]
  },
  {
   "cell_type": "markdown",
   "id": "aabe27a0-cf6c-4af2-a1a8-0f420ec3c210",
   "metadata": {},
   "source": [
    "#### boring(msg string)"
   ]
  },
  {
   "cell_type": "code",
   "execution_count": null,
   "id": "f919a87d-435f-4dff-89dc-74f5f0f6a313",
   "metadata": {},
   "outputs": [],
   "source": [
    "func boring(msg string) <-chan Message {\n",
    "    waitForIt := make(chan bool)\n",
    "    c := make(chan Message)\n",
    "    go func() {\n",
    "        for i := 0; ; i++ {\n",
    "            c <- Message{\n",
    "                str:  fmt.Sprintf(\"%s %d\", msg, i),\n",
    "                wait: waitForIt,\n",
    "            }\n",
    "            time.Sleep(time.Duration(rand.Intn(1e3)) * time.Millisecond)\n",
    "            <-waitForIt\n",
    "        }\n",
    "    }()\n",
    "    return c\n",
    "}"
   ]
  },
  {
   "cell_type": "markdown",
   "id": "82181d68-4fd8-4f95-8338-89a60bddc732",
   "metadata": {},
   "source": [
    "- Mỗi producer goroutine sẽ tạo ra các message kiểu như \"Joe 0\", 'Joe 1\"....\n",
    "- Sau mỗi message được gửi tới channel c, thì nó sẽ bị block bởi `<-waitForIt`, chờ đợi ack của consumer\n",
    "- Điều này sẽ không làm quá tải cho consumer, vì gorouting không thể gửi value kế kiêp khi mà consumer chưa cho phép"
   ]
  },
  {
   "cell_type": "markdown",
   "id": "12e130dc-5116-45b0-a4fe-a86c463d3ab5",
   "metadata": {},
   "source": [
    "#### fanInSequenced"
   ]
  },
  {
   "cell_type": "markdown",
   "id": "85ba9325-89cc-4b56-9b06-8835b7d3ec5d",
   "metadata": {},
   "source": [
    "- Merge 2 channel lại thành 1"
   ]
  },
  {
   "cell_type": "markdown",
   "id": "ef498936-6873-4187-b821-4d160d4895b3",
   "metadata": {},
   "source": [
    "#### Khi nào sử dụng patter này?"
   ]
  },
  {
   "cell_type": "markdown",
   "id": "ba025eeb-9a63-4972-995d-a7e77c377d64",
   "metadata": {},
   "source": [
    "- Khi producer generate data nhanh quá, làm đầy buffer quá nhanh mà consumer tiêu thụ không kịp\n",
    "- Producer phải tạm dừng cho đến khi consumer hoàn thành\n",
    "- Comnsumer tiêu thụ đều nhau từ 2 producer"
   ]
  },
  {
   "cell_type": "markdown",
   "id": "514e22d5-a0c9-4b56-9854-413482fe0d7b",
   "metadata": {},
   "source": [
    "### 4. Fan-in with Done Channel"
   ]
  },
  {
   "cell_type": "code",
   "execution_count": 17,
   "id": "03cd1439-c7d6-4100-a470-72ceb4cceebb",
   "metadata": {},
   "outputs": [
    {
     "name": "stdout",
     "output_type": "stream",
     "text": [
      "Got: 0\n",
      "Got: 100\n",
      "Finished.\n"
     ]
    }
   ],
   "source": [
    "func fanInWithDone(done <-chan struct{}, inputs ...<-chan int) <-chan int {\n",
    "    c := make(chan int)\n",
    "    var wg sync.WaitGroup\n",
    "    \n",
    "    // Multiplexer function\n",
    "    multiplex := func(input <-chan int) {\n",
    "        defer wg.Done()\n",
    "        for {\n",
    "            select {\n",
    "            case v := <-input:\n",
    "                select {\n",
    "                case c <- v:\n",
    "                case <-done:\n",
    "                    return\n",
    "                }\n",
    "            case <-done:\n",
    "                return\n",
    "            }\n",
    "        }\n",
    "    }\n",
    "    \n",
    "    // Launch multiplexer for each input\n",
    "    wg.Add(len(inputs))\n",
    "    for _, input := range inputs {\n",
    "        go multiplex(input)\n",
    "    }\n",
    "    \n",
    "    // Close output when all multiplexers finish\n",
    "    go func() {\n",
    "        wg.Wait()\n",
    "        close(c)\n",
    "    }()\n",
    "    \n",
    "    return c\n",
    "}\n",
    "\n",
    "func main() {\n",
    "    done := make(chan struct{})\n",
    "\n",
    "    // Simulate two input streams\n",
    "    input1 := make(chan int)\n",
    "    input2 := make(chan int)\n",
    "\n",
    "    go func() {\n",
    "        for i := 0; i < 3; i++ {\n",
    "            input1 <- i\n",
    "            time.Sleep(1000 * time.Millisecond)\n",
    "        }\n",
    "        close(input1)\n",
    "    }()\n",
    "\n",
    "    go func() {\n",
    "        for i := 100; i < 103; i++ {\n",
    "            input2 <- i\n",
    "            time.Sleep(1500 * time.Millisecond)\n",
    "        }\n",
    "        close(input2)\n",
    "    }()\n",
    "\n",
    "    out := fanInWithDone(done, input1, input2)\n",
    "\n",
    "    for v := range out {\n",
    "        fmt.Println(\"Got:\", v)\n",
    "        if v == 100 { // simulate cancellation mid-stream\n",
    "            close(done)\n",
    "        }\n",
    "    }\n",
    "\n",
    "    fmt.Println(\"Finished.\")\n",
    "}"
   ]
  },
  {
   "cell_type": "markdown",
   "id": "ba032a71-a395-446a-8939-5135efe4f77e",
   "metadata": {},
   "source": [
    "### Các điểm cần note"
   ]
  },
  {
   "cell_type": "markdown",
   "id": "3c9181ca-caee-4700-89a3-d12d13eeccbe",
   "metadata": {},
   "source": [
    "#### 1. `done <-chan struct{}`"
   ]
  },
  {
   "cell_type": "markdown",
   "id": "546fd665-bda3-4571-a7da-94747c586602",
   "metadata": {},
   "source": [
    "- Đây là 1 signal channel, đóng hoặc gửi `done` để đóng toàn bộ goroutine\n",
    "- Đảm bảo dừng toàn bộ goroutine kể cả vài input channel đang active hoặc bị block"
   ]
  },
  {
   "cell_type": "markdown",
   "id": "4ba16742-fdf4-4699-9dc2-a004ada27f47",
   "metadata": {},
   "source": [
    "#### 2. `multiplex` function"
   ]
  },
  {
   "cell_type": "code",
   "execution_count": null,
   "id": "2be2b5db-c551-4e02-b311-8841484a0f29",
   "metadata": {},
   "outputs": [],
   "source": [
    "multiplex := func(input <-chan int) {\n",
    "    defer wg.Done()\n",
    "    for {\n",
    "        select {\n",
    "        case v := <-input:\n",
    "            select {\n",
    "            case c <- v:\n",
    "            case <-done:\n",
    "                return\n",
    "            }\n",
    "        case <-done:\n",
    "            return\n",
    "        }\n",
    "    }\n",
    "}"
   ]
  },
  {
   "cell_type": "markdown",
   "id": "181f76ce-454d-4885-a8b6-f1c41785573a",
   "metadata": {},
   "source": [
    "- Đọc dư liệu từ input channel\n",
    "- Forward giá trị đó vào c channel\n",
    "- Nếu có done thì exit\n",
    "- Select bên trong đảm bảo không block sending tới channel c"
   ]
  },
  {
   "cell_type": "markdown",
   "id": "6c561d93-f46d-4618-9a2d-65d91bdddd11",
   "metadata": {},
   "source": [
    "#### 3. Gọi multiplexers"
   ]
  },
  {
   "cell_type": "code",
   "execution_count": null,
   "id": "ca18994e-3fcd-4e0a-b013-883ae3812400",
   "metadata": {},
   "outputs": [],
   "source": [
    "wg.Add(len(inputs))\n",
    "for _, input := range inputs {\n",
    "    go multiplex(input)\n",
    "}"
   ]
  },
  {
   "cell_type": "markdown",
   "id": "e17edabb-6195-4a7f-b0a7-8e71e5c8edd4",
   "metadata": {},
   "source": [
    "- Tạo 1 goroutine với mỗi input\n",
    "- `wg.Add` để track có bao nhiêu goroutine"
   ]
  },
  {
   "cell_type": "markdown",
   "id": "daf36461-e1fd-453f-8b3e-fba3778d1a18",
   "metadata": {},
   "source": [
    "#### 4. Đóng output"
   ]
  },
  {
   "cell_type": "code",
   "execution_count": null,
   "id": "830d9239-6dc3-4021-9fdb-df1ed43e548c",
   "metadata": {},
   "outputs": [],
   "source": [
    "go func() {\n",
    "    wg.Wait()\n",
    "    close(c)\n",
    "}()"
   ]
  },
  {
   "cell_type": "markdown",
   "id": "db5c86b5-1c02-4b76-bef6-b656dbf0dc27",
   "metadata": {},
   "source": [
    "- Chờ toàn bộ multiplexer thoat trước khi đóng channel c\n",
    "- Ngăn chặn việc gửi data tới 1 channel đã được đóng"
   ]
  },
  {
   "cell_type": "code",
   "execution_count": null,
   "id": "475e4fb5-5a43-4277-9f9d-752995fcddf4",
   "metadata": {},
   "outputs": [],
   "source": []
  },
  {
   "cell_type": "markdown",
   "id": "e0febd17-06a1-46be-b3d6-fd548a976e79",
   "metadata": {},
   "source": [
    "## Advanced Fan-in Patterns"
   ]
  },
  {
   "cell_type": "code",
   "execution_count": null,
   "id": "2dcc5680-7d02-4dad-b410-0ba1e1a1a07f",
   "metadata": {},
   "outputs": [],
   "source": []
  },
  {
   "cell_type": "code",
   "execution_count": null,
   "id": "7796a272-3430-4772-a824-cf67f4859c3b",
   "metadata": {},
   "outputs": [],
   "source": []
  },
  {
   "cell_type": "code",
   "execution_count": null,
   "id": "29c98861-d9ae-4d4c-85e7-44551261e7a2",
   "metadata": {},
   "outputs": [],
   "source": []
  },
  {
   "cell_type": "code",
   "execution_count": null,
   "id": "4e095f8c-047e-416f-b28f-d77c5a23589b",
   "metadata": {},
   "outputs": [],
   "source": []
  },
  {
   "cell_type": "code",
   "execution_count": null,
   "id": "706d8ce4-daa5-4cbd-98a0-b13ace326eef",
   "metadata": {},
   "outputs": [],
   "source": []
  },
  {
   "cell_type": "code",
   "execution_count": null,
   "id": "c4f2d46c-81c8-4771-8183-385e9013893f",
   "metadata": {},
   "outputs": [],
   "source": []
  },
  {
   "cell_type": "markdown",
   "id": "479fa4f7-5062-4043-be8c-02031e8d194c",
   "metadata": {},
   "source": [
    "## Real-World Applications"
   ]
  },
  {
   "cell_type": "code",
   "execution_count": null,
   "id": "4bba3e26-e36e-4791-99a8-69d37c7940aa",
   "metadata": {},
   "outputs": [],
   "source": []
  },
  {
   "cell_type": "code",
   "execution_count": null,
   "id": "df2d99bb-1671-4ee7-beaa-e61738d82734",
   "metadata": {},
   "outputs": [],
   "source": []
  },
  {
   "cell_type": "code",
   "execution_count": null,
   "id": "98c44cc5-dd67-4eb9-a7c0-14f54f67caf8",
   "metadata": {},
   "outputs": [],
   "source": []
  },
  {
   "cell_type": "code",
   "execution_count": null,
   "id": "4b9eb1a5-576b-49c3-b928-be834bb9d1a7",
   "metadata": {},
   "outputs": [],
   "source": []
  },
  {
   "cell_type": "code",
   "execution_count": null,
   "id": "2c0fc0ce-f76d-48a0-b53b-bb1d467b8ada",
   "metadata": {},
   "outputs": [],
   "source": []
  },
  {
   "cell_type": "code",
   "execution_count": null,
   "id": "1c829b9a-cb12-4f6c-9551-f09d056f2c09",
   "metadata": {},
   "outputs": [],
   "source": []
  },
  {
   "cell_type": "markdown",
   "id": "9fef1c02-60ab-4dca-9146-4351bca864c1",
   "metadata": {},
   "source": [
    "## Performance Considerations"
   ]
  },
  {
   "cell_type": "code",
   "execution_count": null,
   "id": "81811a01-b83b-43e4-acc8-cefc2a8d2074",
   "metadata": {},
   "outputs": [],
   "source": []
  },
  {
   "cell_type": "code",
   "execution_count": null,
   "id": "e92cb600-46bb-4fdf-842e-7c2aebd85a48",
   "metadata": {},
   "outputs": [],
   "source": []
  },
  {
   "cell_type": "code",
   "execution_count": null,
   "id": "35535e6a-4cf9-4d1d-a34e-a85caa79bbfe",
   "metadata": {},
   "outputs": [],
   "source": []
  },
  {
   "cell_type": "code",
   "execution_count": null,
   "id": "24ec367e-0b39-4b68-ade8-7dbb027c9c4a",
   "metadata": {},
   "outputs": [],
   "source": []
  },
  {
   "cell_type": "code",
   "execution_count": null,
   "id": "d6ffc541-5d78-4942-9d83-0fb0e1155cee",
   "metadata": {},
   "outputs": [],
   "source": []
  },
  {
   "cell_type": "markdown",
   "id": "ff89c926-7748-4dc9-9ba2-d14a35ff7775",
   "metadata": {},
   "source": [
    "## Common Pitfalls"
   ]
  },
  {
   "cell_type": "code",
   "execution_count": null,
   "id": "1e189e97-29e5-466f-ad9b-bf1419a49a73",
   "metadata": {},
   "outputs": [],
   "source": []
  },
  {
   "cell_type": "code",
   "execution_count": null,
   "id": "bf42b0b9-6bd3-4d00-aeb5-54b7b9f73d5d",
   "metadata": {},
   "outputs": [],
   "source": []
  },
  {
   "cell_type": "code",
   "execution_count": null,
   "id": "cbee96ba-fced-4598-900d-f8d09092c6df",
   "metadata": {},
   "outputs": [],
   "source": []
  },
  {
   "cell_type": "markdown",
   "id": "6d71ab2e-e0d2-4d1f-af95-8c1164677566",
   "metadata": {},
   "source": [
    "## Best Practices"
   ]
  },
  {
   "cell_type": "code",
   "execution_count": null,
   "id": "6c7dfc26-9c8c-4e23-a7c5-7436ce071504",
   "metadata": {},
   "outputs": [],
   "source": []
  },
  {
   "cell_type": "code",
   "execution_count": null,
   "id": "f7dba0c8-13a3-4aee-b5aa-0f5f0677baae",
   "metadata": {},
   "outputs": [],
   "source": []
  },
  {
   "cell_type": "code",
   "execution_count": null,
   "id": "0f16f79e-f656-4767-8a4a-604e9d509142",
   "metadata": {},
   "outputs": [],
   "source": []
  }
 ],
 "metadata": {
  "kernelspec": {
   "display_name": "Go (gonb)",
   "language": "go",
   "name": "gonb"
  },
  "language_info": {
   "codemirror_mode": "",
   "file_extension": ".go",
   "mimetype": "text/x-go",
   "name": "go",
   "nbconvert_exporter": "",
   "pygments_lexer": "",
   "version": "go1.24.6"
  }
 },
 "nbformat": 4,
 "nbformat_minor": 5
}
