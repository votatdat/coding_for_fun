{
 "cells": [
  {
   "cell_type": "markdown",
   "id": "8ed0a637-b510-47e5-b794-256b6b583a91",
   "metadata": {},
   "source": [
    "## Select dùng để làm gì?"
   ]
  },
  {
   "cell_type": "markdown",
   "id": "6edf6b40-0f46-47c0-acd8-aac634f7b812",
   "metadata": {},
   "source": [
    "Không có select, một lúc chúng ta chỉ có thể thao tác với 1 channel mà thôi"
   ]
  },
  {
   "cell_type": "code",
   "execution_count": null,
   "id": "8e074601-d4ff-42c7-bbe8-57820e560733",
   "metadata": {},
   "outputs": [],
   "source": [
    "msg1 := <-ch1  // Block cho tới khi ch1 có data\n",
    "msg2 := <-ch2  // Rồi sau đó mới check ch2"
   ]
  },
  {
   "cell_type": "markdown",
   "id": "f49ed278-7bf5-4818-9f68-b614a44aae4c",
   "metadata": {},
   "source": [
    "Có select thì có thể sử dụng nhiều channel đồng thời"
   ]
  },
  {
   "cell_type": "code",
   "execution_count": null,
   "id": "a9de57f0-a642-4e80-90a9-99eb9179327b",
   "metadata": {},
   "outputs": [],
   "source": [
    "select {\n",
    "case msg1 := <-ch1:\n",
    "    fmt.Println(\"Got message from ch1:\", msg1)\n",
    "case msg2 := <-ch2:\n",
    "    fmt.Println(\"Got message from ch2:\", msg2)\n",
    "}"
   ]
  },
  {
   "cell_type": "markdown",
   "id": "372f10c2-8537-48d4-aa7a-4e2d8038cc56",
   "metadata": {},
   "source": [
    "## Sử dụng Select"
   ]
  },
  {
   "cell_type": "markdown",
   "id": "0cbc9786-48f2-4649-8c84-702dbdfa3003",
   "metadata": {},
   "source": [
    "### Bắt đầu đơn giản với 1 case"
   ]
  },
  {
   "cell_type": "markdown",
   "id": "ad1ac442-f15c-4766-8d78-617e3e3ff83d",
   "metadata": {},
   "source": [
    "Lúc này thì cả đoạn select cũng chỉ tương đương với `msg := <-ch` mà thôi, nhưng để select sẵn"
   ]
  },
  {
   "cell_type": "code",
   "execution_count": 3,
   "id": "e8e8690e-10c2-4047-ad32-c8da1c74bc36",
   "metadata": {},
   "outputs": [
    {
     "name": "stdout",
     "output_type": "stream",
     "text": [
      "Received: Hello!\n"
     ]
    }
   ],
   "source": [
    "func main() {\n",
    "    ch := make(chan string)\n",
    "    \n",
    "    // Start a goroutine that sends after 1 second\n",
    "    go func() {\n",
    "        time.Sleep(1 * time.Second)\n",
    "        ch <- \"Hello!\"\n",
    "    }()\n",
    "    \n",
    "    // Select with single case\n",
    "    select {\n",
    "    case msg := <-ch:\n",
    "        fmt.Println(\"Received:\", msg)\n",
    "    }\n",
    "}"
   ]
  },
  {
   "cell_type": "markdown",
   "id": "06a20f29-2001-4425-aed3-a2005d9c14d9",
   "metadata": {},
   "source": [
    "### Với nhiều channels\n",
    "- Chúng ta có 2 goroutines, 1 cái 1s xử lí xong và 1 cái 2s mới xử lí xong\n",
    "- Trường hợp này, main sẽ in ra cái xử lí nhanh hơn"
   ]
  },
  {
   "cell_type": "code",
   "execution_count": 5,
   "id": "0b179dfc-29b5-40ef-b2ae-84a948c0a5bc",
   "metadata": {},
   "outputs": [
    {
     "name": "stdout",
     "output_type": "stream",
     "text": [
      "ch1: one\n"
     ]
    }
   ],
   "source": [
    "func main() {\n",
    "    ch1 := make(chan string)\n",
    "    ch2 := make(chan string)\n",
    "    \n",
    "    // Two goroutines sending at different times\n",
    "    go func() {\n",
    "        time.Sleep(1 * time.Second)\n",
    "        ch1 <- \"one\"\n",
    "    }()\n",
    "    \n",
    "    go func() {\n",
    "        time.Sleep(2 * time.Second)\n",
    "        ch2 <- \"two\"\n",
    "    }()\n",
    "    \n",
    "    // Select waits for the first one\n",
    "    select {\n",
    "    case msg1 := <-ch1:\n",
    "        fmt.Println(\"ch1:\", msg1)\n",
    "    case msg2 := <-ch2:\n",
    "        fmt.Println(\"ch2:\", msg2)\n",
    "    }\n",
    "    // Output: ch1: one (after 1 second)\n",
    "}"
   ]
  },
  {
   "cell_type": "markdown",
   "id": "a576f7f9-c8ac-46ec-9f29-3acd17b28d4e",
   "metadata": {},
   "source": [
    "### The Default Case\n",
    "Để không bị blocking, cần thêm default cho select"
   ]
  },
  {
   "cell_type": "code",
   "execution_count": 7,
   "id": "037ee8af-6c5b-4f85-b921-dd316bba8fd4",
   "metadata": {},
   "outputs": [
    {
     "name": "stdout",
     "output_type": "stream",
     "text": [
      "No value ready\n"
     ]
    }
   ],
   "source": [
    "func main() {\n",
    "    ch := make(chan int)\n",
    "    \n",
    "    select {\n",
    "    case val := <-ch:\n",
    "        fmt.Println(\"Received:\", val)\n",
    "    default:\n",
    "        fmt.Println(\"No value ready\")\n",
    "    }\n",
    "    // Output: No value ready\n",
    "}"
   ]
  },
  {
   "cell_type": "markdown",
   "id": "0fe2076c-7adf-490f-bf71-3fb1c802e0a4",
   "metadata": {},
   "source": [
    "Ví dụ như check mail:"
   ]
  },
  {
   "cell_type": "code",
   "execution_count": 8,
   "id": "31150bae-cb5f-43e6-ad83-a61b6334f9a7",
   "metadata": {},
   "outputs": [],
   "source": [
    "func checkMail(mailbox <-chan string) {\n",
    "    select {\n",
    "    case mail := <-mailbox:\n",
    "        fmt.Println(\"New mail:\", mail)\n",
    "    default:\n",
    "        fmt.Println(\"No new mail\")\n",
    "    }\n",
    "}"
   ]
  },
  {
   "cell_type": "markdown",
   "id": "180a34c7-982a-49ab-9ba1-c4563189cd52",
   "metadata": {},
   "source": [
    "## Basic Timeout Pattern\n",
    "Nếu goroutine xử lí dưới 2s, sẽ in ra result, còn 2s trở lên sẽ in ra Timeout!"
   ]
  },
  {
   "cell_type": "code",
   "execution_count": 15,
   "id": "02e32d5d-97db-48f3-b56c-40fbc9a4bfb9",
   "metadata": {},
   "outputs": [
    {
     "name": "stdout",
     "output_type": "stream",
     "text": [
      "Timeout!\n"
     ]
    }
   ],
   "source": [
    "func main() {\n",
    "    ch := make(chan string)\n",
    "    \n",
    "    go func() {\n",
    "        time.Sleep(3 * time.Second) // change 1, 2 3s to see\n",
    "        ch <- \"data\"\n",
    "    }()\n",
    "    \n",
    "    select {\n",
    "    case result := <-ch:\n",
    "        fmt.Println(\"Got result:\", result)\n",
    "    case <-time.After(2 * time.Second):\n",
    "        fmt.Println(\"Timeout!\")\n",
    "    }\n",
    "    // Output: Timeout! (after 2 seconds)\n",
    "}"
   ]
  },
  {
   "cell_type": "markdown",
   "id": "0d20fb33-38e3-4eeb-9daa-196beea69d70",
   "metadata": {},
   "source": [
    "Ở ví dú trên chúng ta cũng thấy rằng time.After cũng là 1 channel   \n",
    "Func signature là: `func After(d Duration) <-chan Time`, có input là 1 duration và trả về 1 receive only channel"
   ]
  },
  {
   "cell_type": "code",
   "execution_count": 17,
   "id": "1fa8aabb-5065-416a-8155-dd9acfeae1c1",
   "metadata": {},
   "outputs": [
    {
     "name": "stdout",
     "output_type": "stream",
     "text": [
      "<-chan time.Time\n",
      "2025-09-09 07:58:46.608145006 +0000 UTC m=+2.000833343\n"
     ]
    }
   ],
   "source": [
    "func main() {\n",
    "    ch := time.After(2 * time.Second)\n",
    "    fmt.Printf(\"%T\\n\", ch)   // <-chan time.Time\n",
    "\n",
    "    fmt.Println(<-ch)        // blocks until 2 seconds pass, then prints the timestamp\n",
    "}"
   ]
  },
  {
   "cell_type": "markdown",
   "id": "6ee50a9a-a636-4750-ab5e-91643f4e63eb",
   "metadata": {},
   "source": [
    "## Send/Receive với Select\n",
    "Select có thể được sử dụng cho cả send và receive data tới channel"
   ]
  },
  {
   "cell_type": "markdown",
   "id": "1bd7a9ce-7aad-48dd-9269-7ec460187051",
   "metadata": {},
   "source": [
    "### Một ví dụ đơn giản với send"
   ]
  },
  {
   "cell_type": "code",
   "execution_count": 19,
   "id": "b7eb5361-f7c6-4a52-80fa-28bbce4d9401",
   "metadata": {},
   "outputs": [
    {
     "name": "stdout",
     "output_type": "stream",
     "text": [
      "Sent value\n",
      "Still full\n"
     ]
    }
   ],
   "source": [
    "func main() {\n",
    "    ch := make(chan int, 1) // Buffered\n",
    "    \n",
    "    select {\n",
    "    case ch <- 42:\n",
    "        fmt.Println(\"Sent value\")\n",
    "    default:\n",
    "        fmt.Println(\"Channel full\")\n",
    "    }\n",
    "    \n",
    "    // Try again when full\n",
    "    select {\n",
    "    case ch <- 43:\n",
    "        fmt.Println(\"Sent another\")\n",
    "    default:\n",
    "        fmt.Println(\"Still full\")\n",
    "    }\n",
    "}"
   ]
  },
  {
   "cell_type": "markdown",
   "id": "55718102-0944-40af-b2f0-5e9d9214196b",
   "metadata": {},
   "source": [
    "- Chúng ta tạo 1 channel với buffered là 1, (đọc phần 02 để hiểu về buffered và unbuffered channel)\n",
    "- Ở Select trên, lúc này buffer còn empty, nên chúng ta có thể send 42 vào channel, đoạn code sẽ in ra \"Send value\"\n",
    "- Ở Select bên dưới, lúc này buffer đã full, nên không thể send 43 vào channel được nữa, nên đoạn code sẽ in ra ở phía default là \"Still full\"\n",
    "- Nếu đây không phải là 1 buffered channel, thì không thể send 42 vào channel mà ko có receive, nên đoạn select trên sẽ in ra \"Channel full\", select bên dưới thì tương tự, xem đoạn code ở dưới:"
   ]
  },
  {
   "cell_type": "code",
   "execution_count": 21,
   "id": "406036d9-0707-4b74-9f59-df036a24a541",
   "metadata": {},
   "outputs": [
    {
     "name": "stdout",
     "output_type": "stream",
     "text": [
      "Channel full\n",
      "Still full\n"
     ]
    }
   ],
   "source": [
    "func main() {\n",
    "    ch := make(chan int) // Unbuffered\n",
    "    \n",
    "    select {\n",
    "    case ch <- 42:\n",
    "        fmt.Println(\"Sent value\")\n",
    "    default:\n",
    "        fmt.Println(\"Channel full\")\n",
    "    }\n",
    "    \n",
    "    // Try again when full\n",
    "    select {\n",
    "    case ch <- 43:\n",
    "        fmt.Println(\"Sent another\")\n",
    "    default:\n",
    "        fmt.Println(\"Still full\")\n",
    "    }\n",
    "}"
   ]
  },
  {
   "cell_type": "markdown",
   "id": "61d3040a-04e5-4cd5-9d86-379cdb068ba3",
   "metadata": {},
   "source": [
    "### Một ví dụ đơn giản với receive dùng vòng lặp\n",
    "- Chúng ta có 2 goroutines, một goroutine xử lí trong 700s và gửi data tới ch1, và một goroutine xử lí trong 300s và send data tới ch2\n",
    "- Reeceive chạy trong vòng lặp "
   ]
  },
  {
   "cell_type": "code",
   "execution_count": 25,
   "id": "05bce6ef-c0a7-44b8-9570-408239cb0c2d",
   "metadata": {},
   "outputs": [
    {
     "name": "stdout",
     "output_type": "stream",
     "text": [
      "ch2: 10\n",
      "ch1: 1\n",
      "ch2: 20\n",
      "ch2: 30\n",
      "ch1: 2\n",
      "ch2: 40\n",
      "ch2: 50\n",
      "ch1: 3\n",
      "ch1: 4\n",
      "ch1: 5\n"
     ]
    }
   ],
   "source": [
    "func main() {\n",
    "    ch1 := make(chan int)\n",
    "    ch2 := make(chan int)\n",
    "    \n",
    "    // Send values periodically\n",
    "    go func() {\n",
    "        for i := 1; i <= 5; i++ {\n",
    "            ch1 <- i\n",
    "            time.Sleep(700 * time.Millisecond)\n",
    "        }\n",
    "    }()\n",
    "    \n",
    "    go func() {\n",
    "        for i := 1; i <= 5; i++ {\n",
    "            ch2 <- i * 10\n",
    "            time.Sleep(300 * time.Millisecond)\n",
    "        }\n",
    "    }()\n",
    "    \n",
    "    // Receive from both\n",
    "    for i := 0; i < 10; i++ {\n",
    "        select {\n",
    "        case v1 := <-ch1:\n",
    "            fmt.Println(\"ch1:\", v1)\n",
    "        case v2 := <-ch2:\n",
    "            fmt.Println(\"ch2:\", v2)\n",
    "        }\n",
    "    }\n",
    "}"
   ]
  },
  {
   "cell_type": "markdown",
   "id": "40de4c72-d320-44c1-8ba0-76835bf97c9b",
   "metadata": {},
   "source": [
    "#### Một ví dụ khác:"
   ]
  },
  {
   "cell_type": "code",
   "execution_count": 26,
   "id": "9b712dc3-10d6-4b6f-9a69-bce60763c0d3",
   "metadata": {},
   "outputs": [
    {
     "name": "stdout",
     "output_type": "stream",
     "text": [
      "Sent: log-1\n",
      "Consumed: log-1\n",
      "Sent: log-2\n",
      "Sent: log-3\n",
      "Dropped: log-4\n",
      "Dropped: log-5\n",
      "Consumed: log-2\n",
      "Consumed: log-3\n"
     ]
    }
   ],
   "source": [
    "func main() {\n",
    "    ch := make(chan string, 2) // small buffer\n",
    "\n",
    "    // Consumer: reads slowly\n",
    "    go func() {\n",
    "        for msg := range ch {\n",
    "            fmt.Println(\"Consumed:\", msg)\n",
    "            time.Sleep(500 * time.Millisecond)\n",
    "        }\n",
    "    }()\n",
    "\n",
    "    // Producer: generates quickly\n",
    "    for i := 1; i <= 5; i++ {\n",
    "        logMsg := fmt.Sprintf(\"log-%d\", i)\n",
    "\n",
    "        select {\n",
    "        case ch <- logMsg:\n",
    "            fmt.Println(\"Sent:\", logMsg)\n",
    "        default:\n",
    "            fmt.Println(\"Dropped:\", logMsg)\n",
    "        }\n",
    "\n",
    "        time.Sleep(100 * time.Millisecond) // producer is fast\n",
    "    }\n",
    "\n",
    "    time.Sleep(3 * time.Second)\n",
    "}"
   ]
  },
  {
   "cell_type": "markdown",
   "id": "4065f888-a17a-40c2-be2a-fe6d55be8a4d",
   "metadata": {},
   "source": [
    "- Đây là pattern cơ bản Producer/Consumer\n",
    "- Chúng ta có 1 channel có buffer là 2, buffer tương đối nhỏ\n",
    "- Consumer tiêu thụ data chậm, consume mỗi data trong 500ms\n",
    "- Nhưng Producer thì lại tạo data nhanh, mỗi data trong 100s\n",
    "- Khi khởi tạo, Producer tạo ta log-1 và Consumer cũng tiêu thụ\n",
    "- Nhưng mỗi 100ms, Producer tạo log-2, log-3, log-4, log-5, lúc này:\n",
    "    - Sau khi tạo log-2, log-3 thì buffer đầy, nên log-4, log-5 bị drop\n",
    "    - Sau 500s sau đó, Consumer mới consume log-2\n",
    "    - Và phải thêm 500s nữa, thì Consumer mới consuem log-3\n",
    "    - log-4 và log-5 không thể đến được Consumer\n",
    "- Để Consumer có thể consume hết data thì:\n",
    "    - Tăng buffer\n",
    "    - Giảm thời gian consume của Consumer\n",
    "    - Tăng thời gian produce của Producer"
   ]
  },
  {
   "cell_type": "markdown",
   "id": "36aaf7b5-1473-4b10-a7d4-1868e3b9b864",
   "metadata": {},
   "source": [
    "## Vài Behavior của Select"
   ]
  },
  {
   "cell_type": "markdown",
   "id": "67fe3881-4efc-445f-9fe9-0e8869d475d2",
   "metadata": {},
   "source": [
    "### 1. Nếu data của channel đến song song thì Select sẽ chọn random"
   ]
  },
  {
   "cell_type": "code",
   "execution_count": 29,
   "id": "f326ec91-b3a6-4c5e-8864-cb35424a0598",
   "metadata": {},
   "outputs": [
    {
     "name": "stdout",
     "output_type": "stream",
     "text": [
      "Got: first\n"
     ]
    }
   ],
   "source": [
    "func main() {\n",
    "    ch1 := make(chan string, 1)\n",
    "    ch2 := make(chan string, 1)\n",
    "    \n",
    "    // Both channels have data\n",
    "    ch1 <- \"first\"\n",
    "    ch2 <- \"second\"\n",
    "    \n",
    "    // Select chooses randomly!\n",
    "    select {\n",
    "    case msg := <-ch1:\n",
    "        fmt.Println(\"Got:\", msg)\n",
    "    case msg := <-ch2:\n",
    "        fmt.Println(\"Got:\", msg)\n",
    "    }\n",
    "    // Could be either \"first\" or \"second\"\n",
    "}"
   ]
  },
  {
   "cell_type": "code",
   "execution_count": 33,
   "id": "3b693f4a-6597-4bab-b58a-29f7f1c8af1d",
   "metadata": {},
   "outputs": [
    {
     "name": "stdout",
     "output_type": "stream",
     "text": [
      "Got: second\n"
     ]
    }
   ],
   "source": [
    "func main() {\n",
    "    ch1 := make(chan string, 1)\n",
    "    ch2 := make(chan string, 1)\n",
    "    \n",
    "    // Both channels have data\n",
    "    ch1 <- \"first\"\n",
    "    ch2 <- \"second\"\n",
    "    \n",
    "    // Select chooses randomly!\n",
    "    select {\n",
    "    case msg := <-ch1:\n",
    "        fmt.Println(\"Got:\", msg)\n",
    "    case msg := <-ch2:\n",
    "        fmt.Println(\"Got:\", msg)\n",
    "    }\n",
    "    // Could be either \"first\" or \"second\"\n",
    "}"
   ]
  },
  {
   "cell_type": "markdown",
   "id": "0a884546-d6d2-48f6-858b-69151e1dadf8",
   "metadata": {},
   "source": [
    "### 2. Không có default sẽ bị block"
   ]
  },
  {
   "cell_type": "code",
   "execution_count": 34,
   "id": "e58b979c-71f1-4ef0-bb62-3fa766241713",
   "metadata": {},
   "outputs": [
    {
     "name": "stderr",
     "output_type": "stream",
     "text": [
      "fatal error: all goroutines are asleep - deadlock!\n",
      "\n",
      "goroutine 1 [select]:\n",
      "main.main()\n",
      "\t \u001b[7m[[ Cell [34] Line 6 ]]\u001b[0m /tmp/gonb_11f3669a/main.go:22 +0x71\n",
      "exit status 2\n"
     ]
    }
   ],
   "source": [
    "func main() {\n",
    "    ch1 := make(chan int)\n",
    "    ch2 := make(chan int)\n",
    "    \n",
    "    // This will block forever!\n",
    "    select {\n",
    "    case <-ch1:\n",
    "        fmt.Println(\"ch1\")\n",
    "    case <-ch2:\n",
    "        fmt.Println(\"ch2\")\n",
    "    }\n",
    "    // Never reaches here\n",
    "}"
   ]
  },
  {
   "cell_type": "markdown",
   "id": "3321a755-0af8-4146-a451-92cfa2ceaa6b",
   "metadata": {},
   "source": [
    "### 3. Select có thể detect channel đã được close"
   ]
  },
  {
   "cell_type": "code",
   "execution_count": 35,
   "id": "be2da4e8-3d7c-43d1-81c1-ae31f7ead56f",
   "metadata": {},
   "outputs": [
    {
     "name": "stdout",
     "output_type": "stream",
     "text": [
      "Value: 1\n",
      "Value: 2\n",
      "Channel closed\n",
      "Channel closed\n"
     ]
    }
   ],
   "source": [
    "func main() {\n",
    "    ch := make(chan int, 2)\n",
    "    ch <- 1\n",
    "    ch <- 2\n",
    "    close(ch)\n",
    "    \n",
    "    for i := 0; i < 4; i++ {\n",
    "        select {\n",
    "        case val, ok := <-ch:\n",
    "            if ok {\n",
    "                fmt.Println(\"Value:\", val)\n",
    "            } else {\n",
    "                fmt.Println(\"Channel closed\")\n",
    "            }\n",
    "        }\n",
    "    }\n",
    "}\n",
    "// Output:\n",
    "// Value: 1\n",
    "// Value: 2\n",
    "// Channel closed\n",
    "// Channel closed"
   ]
  },
  {
   "cell_type": "markdown",
   "id": "d8fc0cc1-a60f-49db-a221-35386a3646a2",
   "metadata": {},
   "source": [
    "## Vài ví dụ:"
   ]
  },
  {
   "cell_type": "markdown",
   "id": "7a4e30c1-7c99-4d5c-8926-b671baca764e",
   "metadata": {},
   "source": [
    "### 1. Non-blocking Send"
   ]
  },
  {
   "cell_type": "code",
   "execution_count": 36,
   "id": "13ada912-c693-40d8-a4c9-3300ce570ee8",
   "metadata": {},
   "outputs": [],
   "source": [
    "func trySend(ch chan<- int, value int) bool {\n",
    "    select {\n",
    "    case ch <- value:\n",
    "        return true\n",
    "    default:\n",
    "        return false\n",
    "    }\n",
    "}"
   ]
  },
  {
   "cell_type": "markdown",
   "id": "c1ea9bfa-627b-4d76-b378-14d7da4fac00",
   "metadata": {},
   "source": [
    "### 2. First Response"
   ]
  },
  {
   "cell_type": "code",
   "execution_count": 37,
   "id": "7c1ae451-784e-4159-b26e-3ba21d0e1035",
   "metadata": {},
   "outputs": [],
   "source": [
    "func firstResponse(urls ...string) string {\n",
    "    ch := make(chan string, len(urls))\n",
    "    \n",
    "    for _, url := range urls {\n",
    "        go func(u string) {\n",
    "            // Simulate fetch\n",
    "            time.Sleep(time.Duration(rand.Intn(3)) * time.Second)\n",
    "            ch <- fmt.Sprintf(\"Response from %s\", u)\n",
    "        }(url)\n",
    "    }\n",
    "    \n",
    "    return <-ch // First one wins\n",
    "}"
   ]
  },
  {
   "cell_type": "markdown",
   "id": "8e085a7d-268d-4029-90b7-feb212317709",
   "metadata": {},
   "source": [
    "### 3. Ticker with Stop"
   ]
  },
  {
   "cell_type": "code",
   "execution_count": 38,
   "id": "2de95c6b-fe28-476a-9c2f-0caf4e1f5e92",
   "metadata": {},
   "outputs": [],
   "source": [
    "func ticker(stop <-chan bool) {\n",
    "    tick := time.Tick(1 * time.Second)\n",
    "    \n",
    "    for {\n",
    "        select {\n",
    "        case <-tick:\n",
    "            fmt.Println(\"Tick\")\n",
    "        case <-stop:\n",
    "            fmt.Println(\"Stopped\")\n",
    "            return\n",
    "        }\n",
    "    }\n",
    "}"
   ]
  },
  {
   "cell_type": "markdown",
   "id": "8de050f3-86fb-4c3e-8942-197d812a3e11",
   "metadata": {},
   "source": [
    "## Các lỗi thường gặp"
   ]
  },
  {
   "cell_type": "markdown",
   "id": "bd157883-134b-493c-b6a3-74d59b1998c6",
   "metadata": {},
   "source": [
    "### 1. Unnecessary Select\n",
    "Nếu chỉ là single channel thì receive luôn chứ ko cần dùng Select"
   ]
  },
  {
   "cell_type": "code",
   "execution_count": null,
   "id": "0ad4d2dd-ef05-404d-8272-b4e10264aae8",
   "metadata": {},
   "outputs": [],
   "source": [
    "// Don't use select for single channel\n",
    "select {\n",
    "case msg := <-ch:\n",
    "    process(msg)\n",
    "}\n",
    "\n",
    "// ✅ Just receive directly\n",
    "msg := <-ch\n",
    "process(msg)"
   ]
  },
  {
   "cell_type": "markdown",
   "id": "b90377a1-a11f-4862-95fa-5806de848e29",
   "metadata": {},
   "source": [
    "### 2. Busy Waiting"
   ]
  },
  {
   "cell_type": "code",
   "execution_count": null,
   "id": "2349b239-37b4-4d97-b85f-5175ed58c2f2",
   "metadata": {},
   "outputs": [],
   "source": [
    "// CPU intensive\n",
    "for {\n",
    "    select {\n",
    "    case msg := <-ch:\n",
    "        process(msg)\n",
    "    default:\n",
    "        // Spins constantly!\n",
    "    }\n",
    "}\n",
    "\n",
    "// ✅ Remove default or add sleep\n",
    "for {\n",
    "    select {\n",
    "    case msg := <-ch:\n",
    "        process(msg)\n",
    "    }\n",
    "}"
   ]
  },
  {
   "cell_type": "markdown",
   "id": "f362090d-5512-40f9-afde-9f21c755a236",
   "metadata": {},
   "source": [
    "### 3. Break Confusion"
   ]
  },
  {
   "cell_type": "code",
   "execution_count": null,
   "id": "202d31cf-bec9-4717-8ba7-dcd2c6d1d943",
   "metadata": {},
   "outputs": [],
   "source": [
    "// Break only exits select\n",
    "for {\n",
    "    select {\n",
    "    case <-ch:\n",
    "        break // Doesn't exit loop!\n",
    "    }\n",
    "}\n",
    "\n",
    "// ✅ Use labeled break\n",
    "loop:\n",
    "for {\n",
    "    select {\n",
    "    case <-ch:\n",
    "        break loop\n",
    "    }\n",
    "}"
   ]
  },
  {
   "cell_type": "markdown",
   "id": "de647d5d-58c0-4989-b136-e546ee02af3d",
   "metadata": {},
   "source": [
    "## Quick Reference"
   ]
  },
  {
   "cell_type": "code",
   "execution_count": null,
   "id": "adb1c67c-3940-483c-969d-74e4d1af016b",
   "metadata": {},
   "outputs": [],
   "source": [
    "// Basic receive\n",
    "select {\n",
    "case v := <-ch:\n",
    "    // Handle v\n",
    "}\n",
    "\n",
    "// Multiple channels\n",
    "select {\n",
    "case v1 := <-ch1:\n",
    "    // Handle v1\n",
    "case v2 := <-ch2:\n",
    "    // Handle v2\n",
    "}\n",
    "\n",
    "// Non-blocking\n",
    "select {\n",
    "case v := <-ch:\n",
    "    // Handle v\n",
    "default:\n",
    "    // No value ready\n",
    "}\n",
    "\n",
    "// Timeout\n",
    "select {\n",
    "case v := <-ch:\n",
    "    // Handle v\n",
    "case <-time.After(1 * time.Second):\n",
    "    // Timeout\n",
    "}\n",
    "\n",
    "// Send\n",
    "select {\n",
    "case ch <- value:\n",
    "    // Sent\n",
    "default:\n",
    "    // Channel full/closed\n",
    "}"
   ]
  },
  {
   "cell_type": "code",
   "execution_count": null,
   "id": "01d7b5d4-d52f-4e68-a49e-e1acc05d7f9f",
   "metadata": {},
   "outputs": [],
   "source": []
  }
 ],
 "metadata": {
  "kernelspec": {
   "display_name": "Go (gonb)",
   "language": "go",
   "name": "gonb"
  },
  "language_info": {
   "codemirror_mode": "",
   "file_extension": ".go",
   "mimetype": "text/x-go",
   "name": "go",
   "nbconvert_exporter": "",
   "pygments_lexer": "",
   "version": "go1.24.6"
  }
 },
 "nbformat": 4,
 "nbformat_minor": 5
}
