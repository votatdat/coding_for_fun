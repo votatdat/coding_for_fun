{
 "cells": [
  {
   "cell_type": "markdown",
   "id": "7ec0df71-49d8-46ec-8b69-0104198884aa",
   "metadata": {},
   "source": [
    "### Some notes:"
   ]
  },
  {
   "cell_type": "markdown",
   "id": "a8fb6601-40a8-4d4c-8742-789b9d8b6ff7",
   "metadata": {},
   "source": [
    "- Fixed size\n",
    "- Contiguous block of memory\n",
    "- O(1) to store and access an element\n",
    "- Strings, stacks, queues, and hash tables use arrays for the implementation"
   ]
  },
  {
   "cell_type": "markdown",
   "id": "71610c78-7d12-46f8-bfcc-745a1fec4d22",
   "metadata": {},
   "source": [
    "### Limitation"
   ]
  },
  {
   "cell_type": "markdown",
   "id": "b9b4ef78-1058-468b-8391-166eeddfbe80",
   "metadata": {},
   "source": [
    "- Looking up an element by value requires an entire traversal of the array (unless it's sorted)\n",
    "- Deleting an element makes all subsequent elements have to be shifted left by one => O(n) time operation\n",
    "- Similar to inserting\n",
    "- Fixed size => should be careful of off-by-one errors\n",
    "- - Python does not have native support for arrays => use `list`, which dynamically resizes under the hood"
   ]
  },
  {
   "cell_type": "markdown",
   "id": "8f11fe11-ce88-41e5-aaad-b2951a62a4ff",
   "metadata": {},
   "source": [
    "## Problem 1: Get product of all other elements"
   ]
  },
  {
   "cell_type": "markdown",
   "id": "e9467698-eb3f-43f1-bcb8-e634f449bc20",
   "metadata": {},
   "source": [
    "Given an array of integers, return a new array such that each element at index i of the new array is the product of all the numbers in the original array except the one at i.   \n",
    "For example: \n",
    "- If our input was \\[ 1, 2, 3, 4, 5\\], the expected output would be \\[120, 60, 40, 30, 24\\].\n",
    "- If our input was \\[3, 2, 1\\], the expected output would be \\[2, 3, 6\\].\n",
    "\n",
    "Follow-up: What if you can't use division?"
   ]
  },
  {
   "cell_type": "markdown",
   "id": "3af79525-3f98-4a23-be92-16a9bf2bc75f",
   "metadata": {},
   "source": [
    "#### Main Topic: Prefix and Suffix Product Arrays (Product of Array Except Self)"
   ]
  },
  {
   "cell_type": "markdown",
   "id": "fe15b2c0-b21e-42d4-8b96-9cd7401c7f86",
   "metadata": {},
   "source": [
    "#### The Idea to Solve the Problem\n",
    "We want each result[i] to be the product of all numbers in the array except nums[i] — but without using division."
   ]
  },
  {
   "cell_type": "markdown",
   "id": "d1c36516-9e89-4506-8835-e731ffae8e42",
   "metadata": {},
   "source": [
    "#### Key idea:\n",
    "- Use prefix products (product of all elements to the left).\n",
    "- Use suffix products (product of all elements to the right).   \n",
    "  => Use 2 loops, not 1\n",
    "- Multiply them to get the final result.\n",
    "- This gives O(n) time and O(1) extra space (if we reuse the result array)."
   ]
  },
  {
   "cell_type": "markdown",
   "id": "cfd2cbcf-23bb-494c-910d-0ef083951af2",
   "metadata": {},
   "source": [
    "#### Pseudo Code"
   ]
  },
  {
   "cell_type": "code",
   "execution_count": null,
   "id": "50bc9ab0-4826-46c7-b2cf-3f99fecfe59f",
   "metadata": {},
   "outputs": [],
   "source": [
    "function product_except_self(nums):\n",
    "    1. Initialize the result array of size n with 1s.\n",
    "    2. Compute prefix products:   \n",
    "         - prefix = 1   \n",
    "         - for i in range(n):   \n",
    "              result[i] = prefix   \n",
    "              prefix *= nums[i]   \n",
    "    3. Compute suffix products:   \n",
    "         - suffix = 1   \n",
    "         - for j in range(n-1, -1, -1):    \n",
    "              result[j] *= suffix   \n",
    "              suffix *= nums[j]   \n",
    "    4. Return result   "
   ]
  },
  {
   "cell_type": "markdown",
   "id": "e9ff335c-534f-480c-8f00-4fc70a8f3235",
   "metadata": {},
   "source": [
    "**In the first loop**:\n",
    "- The first (index 0) element will be 1 (first value of prefix)\n",
    "- The second (index 1) element will be the product of 1 and the first element (1 * nums\\[0\\])\n",
    "- The third (index 2) element will be the product of 1 * nums\\[0\\] * nums\\[1\\]\n",
    "- ...\n",
    "- The nearly last element (index n-2) will be the product of 1 * nums\\[0\\] * nums\\[1\\] * ... * nums\\[n-3\\]\n",
    "- The last element (index n-1) will be the product of 1 * nums\\[0\\] * nums\\[1\\] * ... * nums\\[n-2\\]\n",
    "- You can see that the last element has the value we need"
   ]
  },
  {
   "cell_type": "markdown",
   "id": "24df28b1-637e-4f28-8b94-1410968261a3",
   "metadata": {},
   "source": [
    "**In the second loop**:\n",
    "- Note that j starts with n-1, not 0 as the first loop, so result\\[j\\] in the first iteration is result\\[n-1\\]\n",
    "- The last element has the value we need (mentioned above), so it multiplies by 1\n",
    "- Gradually, the suffix will be the product of 1 * nums\\[n-1\\] * numns\\[n-2\\]..... \n",
    "- The nearly last element (index n-2) has the value: product of 1 * nums\\[0\\] * nums\\[1\\] * ... * nums\\[n-3\\], now it multiplies by result\\[n-1\\] * 1\n",
    "- ...\n",
    "- Until the end of the loop, it will be done.\n",
    "- The second loop will loop from n-1 to 0. In the last iteration of this loop, the suffix now is the product of nums\\[n-1\\] *  nums \\[n-2\\] * ... * nums\\[1\\] (note that nums\\[1\\], not nums\\[0\\])"
   ]
  },
  {
   "cell_type": "markdown",
   "id": "a45439b2-8984-4c65-9f0d-063fbae979d3",
   "metadata": {},
   "source": [
    "#### Code - Python"
   ]
  },
  {
   "cell_type": "code",
   "execution_count": 17,
   "id": "691559ba-5608-4852-aa6b-948a5ae40966",
   "metadata": {},
   "outputs": [],
   "source": [
    "def product_except_self(nums):\n",
    "    n = len(nums)\n",
    "    result = [1] * n\n",
    "\n",
    "    prefix = 1\n",
    "    for i in range(n):\n",
    "        result[i] = prefix\n",
    "        prefix *= nums[i]\n",
    "    suffix = 1\n",
    "    for j in range(n-1, -1, -1):\n",
    "        result[j] *= suffix\n",
    "        suffix *= nums[j]\n",
    "    return result"
   ]
  },
  {
   "cell_type": "code",
   "execution_count": 18,
   "id": "00929ef8-e9dc-42f3-81af-64950cf005c8",
   "metadata": {},
   "outputs": [
    {
     "name": "stdout",
     "output_type": "stream",
     "text": [
      "[120, 60, 40, 30, 24]\n",
      "[21, 12, 28]\n"
     ]
    }
   ],
   "source": [
    "# Example Usage\n",
    "print(product_except_self([1, 2, 3, 4, 5])) \n",
    "print(product_except_self([4, 7, 3]))       "
   ]
  },
  {
   "cell_type": "markdown",
   "id": "fb008074-e3e3-4de0-804e-3a6e474339a6",
   "metadata": {},
   "source": [
    "#### Code - Golang"
   ]
  },
  {
   "cell_type": "code",
   "execution_count": 19,
   "id": "8daeaa5e-bf6b-49a1-a00e-190b054e5280",
   "metadata": {},
   "outputs": [
    {
     "name": "stdout",
     "output_type": "stream",
     "text": [
      "[120 60 40 30 24]\n",
      "[21 12 28]\n"
     ]
    }
   ],
   "source": [
    "package main\n",
    "\n",
    "import \"fmt\"\n",
    "\n",
    "func productExceptSelf(nums []int) []int {\n",
    "    n := len(nums)\n",
    "    result := make([]int, n)\n",
    "    \n",
    "    prefix := 1\n",
    "    for i:=0; i<n; i++ {\n",
    "        result[i] = prefix\n",
    "        prefix *= nums[i]\n",
    "    }\n",
    "\n",
    "    suffix := 1\n",
    "    for j:=n-1; j>=0; j-- {\n",
    "        result[j] *= suffix\n",
    "        suffix *= nums[j]\n",
    "    }\n",
    "    \n",
    "    return result\n",
    "}\n",
    "\n",
    "func main() {\n",
    "    test1 := []int{1,2,3,4,5}\n",
    "    test2 := []int{4, 7, 3}\n",
    "    fmt.Println(productExceptSelf(test1))\n",
    "    fmt.Println(productExceptSelf(test2))\n",
    "}"
   ]
  },
  {
   "cell_type": "markdown",
   "id": "cfb1ffe2-ca2f-490c-bc6c-42b854e97b1e",
   "metadata": {},
   "source": [
    "## Problem 2: Locate smallest window to be sorted"
   ]
  },
  {
   "cell_type": "code",
   "execution_count": null,
   "id": "1ed38039-1055-4c9e-b593-3fdb5ed1b3c7",
   "metadata": {},
   "outputs": [],
   "source": []
  },
  {
   "cell_type": "code",
   "execution_count": null,
   "id": "5c25191a-bf11-4c01-8c7a-dc9e79c227c4",
   "metadata": {},
   "outputs": [],
   "source": []
  },
  {
   "cell_type": "code",
   "execution_count": null,
   "id": "726ac40d-40c9-462d-b0cd-7a012bdf6eda",
   "metadata": {},
   "outputs": [],
   "source": []
  },
  {
   "cell_type": "code",
   "execution_count": null,
   "id": "06c26874-8b1a-4432-b0b9-ce0eca3ad8e1",
   "metadata": {},
   "outputs": [],
   "source": []
  },
  {
   "cell_type": "code",
   "execution_count": null,
   "id": "f6bb5185-c814-45ff-82cd-cdb6c4ac9d34",
   "metadata": {},
   "outputs": [],
   "source": []
  },
  {
   "cell_type": "code",
   "execution_count": null,
   "id": "3164d0df-1c7a-4708-972a-ec2139819ea4",
   "metadata": {},
   "outputs": [],
   "source": []
  },
  {
   "cell_type": "code",
   "execution_count": null,
   "id": "1826d7a4-cdcd-411f-8948-4c5cc444cfd1",
   "metadata": {},
   "outputs": [],
   "source": []
  },
  {
   "cell_type": "code",
   "execution_count": null,
   "id": "0c3bd618-0bac-4441-ae91-c43f61e82e43",
   "metadata": {},
   "outputs": [],
   "source": []
  },
  {
   "cell_type": "markdown",
   "id": "2d17d6fd-4904-4983-a238-59d59ee21eb8",
   "metadata": {},
   "source": [
    "### Problem 3: Calculate maximum subarray sum"
   ]
  },
  {
   "cell_type": "code",
   "execution_count": null,
   "id": "7612491d-316a-4df0-b99b-3beb47531ab6",
   "metadata": {},
   "outputs": [],
   "source": []
  },
  {
   "cell_type": "code",
   "execution_count": null,
   "id": "f543906c-9a27-4b46-9116-ac209d5fd70e",
   "metadata": {},
   "outputs": [],
   "source": []
  },
  {
   "cell_type": "code",
   "execution_count": null,
   "id": "bbaae2a2-80ce-4d61-84e1-5a83ee8d36f7",
   "metadata": {},
   "outputs": [],
   "source": []
  },
  {
   "cell_type": "code",
   "execution_count": null,
   "id": "1655cf42-60f2-45f4-a60a-99f04aa2b5f7",
   "metadata": {},
   "outputs": [],
   "source": []
  },
  {
   "cell_type": "code",
   "execution_count": null,
   "id": "338898a2-8b86-4894-aded-ce1952ca0e8b",
   "metadata": {},
   "outputs": [],
   "source": []
  },
  {
   "cell_type": "code",
   "execution_count": null,
   "id": "b1594074-6ed8-457e-a2d0-4713a32364dd",
   "metadata": {},
   "outputs": [],
   "source": []
  },
  {
   "cell_type": "code",
   "execution_count": null,
   "id": "aef1a423-72a5-45cc-9fc9-3c9fe0515132",
   "metadata": {},
   "outputs": [],
   "source": []
  },
  {
   "cell_type": "code",
   "execution_count": null,
   "id": "1a997411-7796-43ce-a6db-0fa79f79f7be",
   "metadata": {},
   "outputs": [],
   "source": []
  },
  {
   "cell_type": "code",
   "execution_count": null,
   "id": "ae816092-2e45-4d15-8811-a8c344b5390a",
   "metadata": {},
   "outputs": [],
   "source": []
  },
  {
   "cell_type": "markdown",
   "id": "96e1f0fd-6812-4eac-b105-198461e70469",
   "metadata": {},
   "source": [
    "## Problem 4: Find number of smaller elements to the right"
   ]
  },
  {
   "cell_type": "code",
   "execution_count": null,
   "id": "0d994f79-cd10-49d5-8c41-dc7737ee050b",
   "metadata": {},
   "outputs": [],
   "source": []
  },
  {
   "cell_type": "code",
   "execution_count": null,
   "id": "00c108eb-d46f-4f92-9eb3-9abdc2dd351a",
   "metadata": {},
   "outputs": [],
   "source": []
  },
  {
   "cell_type": "code",
   "execution_count": null,
   "id": "546148df-db8a-4765-b318-5cf8b29ab730",
   "metadata": {},
   "outputs": [],
   "source": []
  },
  {
   "cell_type": "code",
   "execution_count": null,
   "id": "09e99739-a877-44ce-ba26-ad8e95b62afb",
   "metadata": {},
   "outputs": [],
   "source": []
  },
  {
   "cell_type": "code",
   "execution_count": null,
   "id": "b198024d-9e8b-4d3b-a1e2-be8b752da3e1",
   "metadata": {},
   "outputs": [],
   "source": []
  },
  {
   "cell_type": "code",
   "execution_count": null,
   "id": "5b0f7d71-38db-45bb-afb9-eaeac85921c9",
   "metadata": {},
   "outputs": [],
   "source": []
  },
  {
   "cell_type": "code",
   "execution_count": null,
   "id": "899b3620-d1a5-4b03-8cd0-8b28e1ece26c",
   "metadata": {},
   "outputs": [],
   "source": []
  },
  {
   "cell_type": "code",
   "execution_count": null,
   "id": "b6276500-f6a0-44a5-8a95-7d42433b271d",
   "metadata": {},
   "outputs": [],
   "source": []
  },
  {
   "cell_type": "code",
   "execution_count": null,
   "id": "0b9b2384-12b2-4c28-80a7-9c37e5e3efad",
   "metadata": {},
   "outputs": [],
   "source": []
  },
  {
   "cell_type": "code",
   "execution_count": null,
   "id": "87c4d617-7e31-442e-9dad-5578639e4c5c",
   "metadata": {},
   "outputs": [],
   "source": []
  },
  {
   "cell_type": "code",
   "execution_count": null,
   "id": "034fd22e-3eb3-4ca1-b7bd-112af6381452",
   "metadata": {},
   "outputs": [],
   "source": []
  },
  {
   "cell_type": "code",
   "execution_count": null,
   "id": "52205b44-f340-4499-81c7-0e3c7daa839f",
   "metadata": {},
   "outputs": [],
   "source": []
  },
  {
   "cell_type": "code",
   "execution_count": null,
   "id": "f5ef1425-5841-4e0e-8e5d-6baa7c994d3e",
   "metadata": {},
   "outputs": [],
   "source": []
  },
  {
   "cell_type": "code",
   "execution_count": null,
   "id": "088531ff-8227-4309-b5d4-3e0cc780fd9a",
   "metadata": {},
   "outputs": [],
   "source": []
  },
  {
   "cell_type": "code",
   "execution_count": null,
   "id": "b2c438d5-ecfd-4ef9-8f58-2dfed09fcdd8",
   "metadata": {},
   "outputs": [],
   "source": []
  },
  {
   "cell_type": "code",
   "execution_count": null,
   "id": "1d3e6f21-41af-41ac-a810-dcc41c269ca7",
   "metadata": {},
   "outputs": [],
   "source": []
  },
  {
   "cell_type": "code",
   "execution_count": null,
   "id": "2afae95e-bb5c-4be7-9764-28e2a6d2cae7",
   "metadata": {},
   "outputs": [],
   "source": []
  },
  {
   "cell_type": "code",
   "execution_count": null,
   "id": "3a8e9fff-15b1-438c-94ba-631c01e08a75",
   "metadata": {},
   "outputs": [],
   "source": []
  },
  {
   "cell_type": "code",
   "execution_count": null,
   "id": "7630295c-a979-4734-84f2-7af415b37b38",
   "metadata": {},
   "outputs": [],
   "source": []
  },
  {
   "cell_type": "code",
   "execution_count": null,
   "id": "d607e524-f221-49a5-a202-6ee03b23b8e2",
   "metadata": {},
   "outputs": [],
   "source": []
  },
  {
   "cell_type": "code",
   "execution_count": null,
   "id": "e882c039-7ad3-423f-ba8a-303ab28c869e",
   "metadata": {},
   "outputs": [],
   "source": []
  },
  {
   "cell_type": "code",
   "execution_count": null,
   "id": "ac66cc7c-6c80-41d6-986c-1fb698eb3259",
   "metadata": {},
   "outputs": [],
   "source": []
  },
  {
   "cell_type": "code",
   "execution_count": null,
   "id": "2da4bb2f-2fbf-40db-a7a7-9c9f9c5742da",
   "metadata": {},
   "outputs": [],
   "source": []
  },
  {
   "cell_type": "code",
   "execution_count": null,
   "id": "6a8f20bf-b63e-443d-812e-d037af297a08",
   "metadata": {},
   "outputs": [],
   "source": []
  },
  {
   "cell_type": "code",
   "execution_count": null,
   "id": "3aa912ef-56a2-42b0-b2ad-d1fab9427400",
   "metadata": {},
   "outputs": [],
   "source": []
  }
 ],
 "metadata": {
  "kernelspec": {
   "display_name": "Go (gonb)",
   "language": "go",
   "name": "gonb"
  },
  "language_info": {
   "codemirror_mode": "",
   "file_extension": ".go",
   "mimetype": "text/x-go",
   "name": "go",
   "nbconvert_exporter": "",
   "pygments_lexer": "",
   "version": "go1.24.6"
  }
 },
 "nbformat": 4,
 "nbformat_minor": 5
}
