{
 "cells": [
  {
   "cell_type": "markdown",
   "id": "7ec0df71-49d8-46ec-8b69-0104198884aa",
   "metadata": {},
   "source": [
    "### Some notes:"
   ]
  },
  {
   "cell_type": "markdown",
   "id": "a8fb6601-40a8-4d4c-8742-789b9d8b6ff7",
   "metadata": {},
   "source": [
    "- Fixed size\n",
    "- Contiguous block of memory\n",
    "- O(1) to store and access an element\n",
    "- Strings, stacks, queues, and hash tables use arrays for the implementation"
   ]
  },
  {
   "cell_type": "markdown",
   "id": "71610c78-7d12-46f8-bfcc-745a1fec4d22",
   "metadata": {},
   "source": [
    "### Limitation"
   ]
  },
  {
   "cell_type": "markdown",
   "id": "b9b4ef78-1058-468b-8391-166eeddfbe80",
   "metadata": {},
   "source": [
    "- Looking up an element by value requires an entire traversal of the array (unless it's sorted)\n",
    "- Deleting an element makes all subsequent elements have to be shifted left by one => O(n) time operation\n",
    "- Similar to inserting\n",
    "- Fixed size => should be careful of off-by-one errors\n",
    "- Python does not have native support for arrays => use `list`, which dynamically resizes under the hood"
   ]
  },
  {
   "cell_type": "markdown",
   "id": "8f11fe11-ce88-41e5-aaad-b2951a62a4ff",
   "metadata": {},
   "source": [
    "## Problem 1: Get product of all other elements"
   ]
  },
  {
   "cell_type": "markdown",
   "id": "e9467698-eb3f-43f1-bcb8-e634f449bc20",
   "metadata": {},
   "source": [
    "**Given an array of integers, return a new array such that each element at index i of the new array is the product of all the numbers in the original array except the one at i.**  \n",
    "**For example:** \n",
    "- If our input was \\[ 1, 2, 3, 4, 5\\], the expected output would be \\[120, 60, 40, 30, 24\\].\n",
    "- If our input was \\[3, 2, 1\\], the expected output would be \\[2, 3, 6\\].\n",
    "  \n",
    "**Follow-up: What if you can't use division?**"
   ]
  },
  {
   "cell_type": "markdown",
   "id": "fe15b2c0-b21e-42d4-8b96-9cd7401c7f86",
   "metadata": {},
   "source": [
    "#### The Idea to Solve the Problem\n",
    "We want each result[i] to be the product of all numbers in the array except nums[i] — but without using division."
   ]
  },
  {
   "cell_type": "markdown",
   "id": "d1c36516-9e89-4506-8835-e731ffae8e42",
   "metadata": {},
   "source": [
    "#### Key idea:\n",
    "- Use prefix products (product of all elements to the left).\n",
    "- Use suffix products (product of all elements to the right).   \n",
    "  => Use 2 loops, not 1\n",
    "- Multiply them to get the final result.\n",
    "- This gives O(n) time and O(1) extra space (if we reuse the result array)."
   ]
  },
  {
   "cell_type": "markdown",
   "id": "cfd2cbcf-23bb-494c-910d-0ef083951af2",
   "metadata": {},
   "source": [
    "#### Pseudo Code"
   ]
  },
  {
   "cell_type": "code",
   "execution_count": null,
   "id": "50bc9ab0-4826-46c7-b2cf-3f99fecfe59f",
   "metadata": {},
   "outputs": [],
   "source": [
    "function product_except_self(nums):\n",
    "    1. Initialize the result array of size n with 1s.\n",
    "    2. Compute prefix products:   \n",
    "         - prefix = 1   \n",
    "         - for i in range(n):   \n",
    "              result[i] = prefix   \n",
    "              prefix *= nums[i]   \n",
    "    3. Compute suffix products:   \n",
    "         - suffix = 1   \n",
    "         - for j in range(n-1, -1, -1):    \n",
    "              result[j] *= suffix   \n",
    "              suffix *= nums[j]   \n",
    "    4. Return result   "
   ]
  },
  {
   "cell_type": "markdown",
   "id": "e9ff335c-534f-480c-8f00-4fc70a8f3235",
   "metadata": {},
   "source": [
    "**In the first loop**:\n",
    "- The first (index 0) element will be 1 (first value of prefix)\n",
    "- The second (index 1) element will be the product of 1 and the first element (1 * nums\\[0\\])\n",
    "- The third (index 2) element will be the product of 1 * nums\\[0\\] * nums\\[1\\]\n",
    "- ...\n",
    "- The nearly last element (index n-2) will be the product of 1 * nums\\[0\\] * nums\\[1\\] * ... * nums\\[n-3\\]\n",
    "- The last element (index n-1) will be the product of 1 * nums\\[0\\] * nums\\[1\\] * ... * nums\\[n-2\\]\n",
    "- You can see that the last element has the value we need"
   ]
  },
  {
   "cell_type": "markdown",
   "id": "24df28b1-637e-4f28-8b94-1410968261a3",
   "metadata": {},
   "source": [
    "**In the second loop**:\n",
    "- Note that j starts with n-1, not 0 as the first loop, so result\\[j\\] in the first iteration is result\\[n-1\\]\n",
    "- The last element has the value we need (mentioned above), so it multiplies by 1\n",
    "- Gradually, the suffix will be the product of 1 * nums\\[n-1\\] * numns\\[n-2\\]..... \n",
    "- The nearly last element (index n-2) has the value: product of 1 * nums\\[0\\] * nums\\[1\\] * ... * nums\\[n-3\\], now it multiplies by result\\[n-1\\] * 1\n",
    "- ...\n",
    "- Until the end of the loop, it will be done.\n",
    "- The second loop will loop from n-1 to 0. In the last iteration of this loop, the suffix now is the product of nums\\[n-1\\] *  nums \\[n-2\\] * ... * nums\\[1\\] (note that nums\\[1\\], not nums\\[0\\])"
   ]
  },
  {
   "cell_type": "markdown",
   "id": "a45439b2-8984-4c65-9f0d-063fbae979d3",
   "metadata": {},
   "source": [
    "#### Code - Python"
   ]
  },
  {
   "cell_type": "code",
   "execution_count": 1,
   "id": "691559ba-5608-4852-aa6b-948a5ae40966",
   "metadata": {},
   "outputs": [],
   "source": [
    "def product_except_self(nums):\n",
    "    n = len(nums)\n",
    "    result = [1] * n\n",
    "\n",
    "    prefix = 1\n",
    "    for i in range(n):\n",
    "        result[i] = prefix\n",
    "        prefix *= nums[i]\n",
    "\n",
    "    suffix = 1\n",
    "    for j in range(n-1, -1, -1):\n",
    "        result[j] *= suffix\n",
    "        suffix *= nums[j]\n",
    "    return result"
   ]
  },
  {
   "cell_type": "code",
   "execution_count": 2,
   "id": "00929ef8-e9dc-42f3-81af-64950cf005c8",
   "metadata": {},
   "outputs": [
    {
     "name": "stdout",
     "output_type": "stream",
     "text": [
      "[120, 60, 40, 30, 24]\n",
      "[21, 12, 28]\n"
     ]
    }
   ],
   "source": [
    "# Example Usage\n",
    "print(product_except_self([1, 2, 3, 4, 5])) \n",
    "print(product_except_self([4, 7, 3]))       "
   ]
  },
  {
   "cell_type": "markdown",
   "id": "fb008074-e3e3-4de0-804e-3a6e474339a6",
   "metadata": {},
   "source": [
    "#### Code - Golang"
   ]
  },
  {
   "cell_type": "code",
   "execution_count": 19,
   "id": "8daeaa5e-bf6b-49a1-a00e-190b054e5280",
   "metadata": {},
   "outputs": [
    {
     "name": "stdout",
     "output_type": "stream",
     "text": [
      "[120 60 40 30 24]\n",
      "[21 12 28]\n"
     ]
    }
   ],
   "source": [
    "package main\n",
    "\n",
    "import \"fmt\"\n",
    "\n",
    "func productExceptSelf(nums []int) []int {\n",
    "    n := len(nums)\n",
    "    result := make([]int, n)\n",
    "    \n",
    "    prefix := 1\n",
    "    for i:=0; i<n; i++ {\n",
    "        result[i] = prefix\n",
    "        prefix *= nums[i]\n",
    "    }\n",
    "\n",
    "    suffix := 1\n",
    "    for j:=n-1; j>=0; j-- {\n",
    "        result[j] *= suffix\n",
    "        suffix *= nums[j]\n",
    "    }\n",
    "    \n",
    "    return result\n",
    "}\n",
    "\n",
    "func main() {\n",
    "    test1 := []int{1,2,3,4,5}\n",
    "    test2 := []int{4, 7, 3}\n",
    "    fmt.Println(productExceptSelf(test1))\n",
    "    fmt.Println(productExceptSelf(test2))\n",
    "}"
   ]
  },
  {
   "cell_type": "markdown",
   "id": "cfb1ffe2-ca2f-490c-bc6c-42b854e97b1e",
   "metadata": {},
   "source": [
    "## Problem 2: Locate smallest window to be sorted"
   ]
  },
  {
   "cell_type": "markdown",
   "id": "315f8cc2-14f0-4034-9cc0-4001c2dfb8cb",
   "metadata": {},
   "source": [
    "**Given an array of integers that are *out of order*, determine the bounds of the smallest window that must be sorted in order for the entire array to be sorted.   \n",
    "For example, given \\[3 , 7 , 5 , 6 , 9\\], you should return (1, 3).**"
   ]
  },
  {
   "cell_type": "markdown",
   "id": "b967cdb7-1611-463e-9c26-1c1b0d9fc5b1",
   "metadata": {},
   "source": [
    "#### 🧩 The goal\n",
    "We have an array (a list of numbers), and it’s **almost** sorted — but **some part in the middle** is out of order.   \n",
    "We want to find the smallest section (window) that we would need to sort, so that after sorting **just that part**, the whole array becomes sorted.   \n",
    "We can see in the above array, only \\[7, 5, 6\\] is not sorted, the indexes of this array are from 1 to 3 => return (1, 3)"
   ]
  },
  {
   "cell_type": "markdown",
   "id": "f8a5ce49-610f-40d7-a0b1-51a660ef07f4",
   "metadata": {},
   "source": [
    "#### ✅ Intuition:\n",
    "1. Find the first element from the left that is out of order.\n",
    "2. Find the first element from the right that is out of order.\n",
    "3. The range between these two indices is the window we must sort. But to be precise:\n",
    "    - We also need to expand the window if there are elements outside that are affected by the min/max of the subarray."
   ]
  },
  {
   "cell_type": "markdown",
   "id": "15a3aef9-f80e-465e-a349-787ba6446e46",
   "metadata": {},
   "source": [
    "#### Step-by-Step Approach\n",
    "Example: `[3, 7, 5, 6, 9]`   \n",
    "\n",
    "1. Scan from left → right   \n",
    "Find the first index where the array is not increasing:\n",
    "    - 3 < 7 ✅\n",
    "    - 7 > 5 ❌ → Left boundary candidate = 1\n",
    "2. Scan from right → left   \n",
    "Find the first index where the array is not decreasing:\n",
    "    - 9 > 6 ✅\n",
    "    - 6 < 5 ❌ → Right boundary candidate = 3\n",
    "3. Find min and max of the subarray [7, 5, 6] → (min=5, max=7).\n",
    "4. Expand boundaries:\n",
    "    - Move left leftward if there are elements > min (none here).\n",
    "    - Move right rightward if there are elements < max (none here).\n",
    "    - ✅ Final window: (1, 3)"
   ]
  },
  {
   "cell_type": "markdown",
   "id": "21ad1363-a48b-4fe4-9922-1f4db9124d07",
   "metadata": {},
   "source": [
    "The example does not need step 4. If an array is \\[1, 10, 5, 6, 15\\] and we stop at step 3, we will have the unsorted array \\[10, 5\\].   \n",
    "But if we sort this sub-array, we will have \\[1, 5, 10, 6, 15\\], and it's not correct.   \n",
    "So if there are elements < max, we will have to move rightward. In this case, max(\\[5, 10\\]) is 10, it's bigger than 6 => move rightward.   \n",
    "New sub-array is \\[5, 10, 6\\], max of it is 10 < 15 => no need to move rightward anymore.   \n",
    "And min(\\[5, 10\\]) is 5 > 1, no need to move leftward.   \n",
    "The final answer is (1, 3), not (1, 2)."
   ]
  },
  {
   "cell_type": "markdown",
   "id": "bff30efd-0e23-419c-adaa-9689a536ca8c",
   "metadata": {},
   "source": [
    "#### Pseudo Code"
   ]
  },
  {
   "cell_type": "code",
   "execution_count": null,
   "id": "3164d0df-1c7a-4708-972a-ec2139819ea4",
   "metadata": {},
   "outputs": [],
   "source": [
    "function find_window_to_sort(nums):\n",
    "    left, right = None, None\n",
    "    # Find left boundary\n",
    "    for i in range(len(nums) - 1):\n",
    "        if nums[i] > nums[i + 1]:\n",
    "            left = i\n",
    "            break\n",
    "\n",
    "    if left is None:\n",
    "        return (0, 0)  # Already sorted\n",
    "\n",
    "    # Find right boundary\n",
    "    for j in range(len(nums) - 1, 0, -1):\n",
    "        if nums[j] < nums[j - 1]:\n",
    "            right = j\n",
    "            break\n",
    "\n",
    "    min_val = min(nums[left:right+1])\n",
    "    max_val = max(nums[left:right+1])\n",
    "\n",
    "    # Expand left\n",
    "    while left > 0 and nums[left - 1] > min_val:\n",
    "        left -= 1\n",
    "\n",
    "    # Expand right\n",
    "    while right < len(nums) - 1 and nums[right + 1] < max_val:\n",
    "        right += 1\n",
    "\n",
    "    return (left, right)"
   ]
  },
  {
   "cell_type": "markdown",
   "id": "bc3a5d9d-a77a-4ff0-91cc-6cb72ecab912",
   "metadata": {},
   "source": [
    "#### Code - Python"
   ]
  },
  {
   "cell_type": "code",
   "execution_count": 3,
   "id": "63597f49-7607-43e2-a4f4-20208abf437b",
   "metadata": {},
   "outputs": [
    {
     "name": "stdout",
     "output_type": "stream",
     "text": [
      "(1, 3)\n",
      "(0, 0)\n",
      "(1, 4)\n"
     ]
    }
   ],
   "source": [
    "def find_window_to_sort(nums):\n",
    "    n = len(nums)\n",
    "    left, right = None, None\n",
    "\n",
    "    # Find first out-of-order from left\n",
    "    for i in range(n - 1):\n",
    "        if nums[i] > nums[i + 1]:\n",
    "            left = i\n",
    "            break\n",
    "\n",
    "    if left is None:\n",
    "        return (0, 0)  # Already sorted\n",
    "\n",
    "    # Find first out-of-order from right\n",
    "    for j in range(n - 1, 0, -1):\n",
    "        if nums[j] < nums[j - 1]:\n",
    "            right = j\n",
    "            break\n",
    "\n",
    "    # Find min and max in window\n",
    "    window_min = min(nums[left:right + 1])\n",
    "    window_max = max(nums[left:right + 1])\n",
    "\n",
    "    # Expand left boundary\n",
    "    while left > 0 and nums[left - 1] > window_min:\n",
    "        left -= 1\n",
    "\n",
    "    # Expand right boundary\n",
    "    while right < n - 1 and nums[right + 1] < window_max:\n",
    "        right += 1\n",
    "\n",
    "    return (left, right)\n",
    "\n",
    "# Example Usage\n",
    "print(find_window_to_sort([3, 7, 5, 6, 9]))  # Output: (1, 3)\n",
    "print(find_window_to_sort([1, 2, 3, 4, 5]))  # Output: (0, 0)\n",
    "print(find_window_to_sort([1, 10, 8, 5, 6, 15]))  # Output: (1, 4)"
   ]
  },
  {
   "cell_type": "markdown",
   "id": "555eacee-13e9-448b-80b3-9728fef04a41",
   "metadata": {},
   "source": [
    "#### Code - Golang"
   ]
  },
  {
   "cell_type": "code",
   "execution_count": 1,
   "id": "a374d92d-d4ce-45da-a64c-04deda5081fc",
   "metadata": {},
   "outputs": [
    {
     "name": "stdout",
     "output_type": "stream",
     "text": [
      "1 3\n"
     ]
    }
   ],
   "source": [
    "package main\n",
    "\n",
    "import (\n",
    "\t\"fmt\"\n",
    ")\n",
    "\n",
    "func findWindowToSort(nums []int) (int, int) {\n",
    "\tn := len(nums)\n",
    "\tleft, right := -1, -1\n",
    "\n",
    "\tfor i := 0; i < n-1; i++ {\n",
    "\t\tif nums[i] > nums[i+1] {\n",
    "\t\t\tleft = i\n",
    "\t\t\tbreak\n",
    "\t\t}\n",
    "\t}\n",
    "\tif left == -1 {\n",
    "\t\treturn 0, 0\n",
    "\t}\n",
    "\n",
    "\tfor j := n - 1; j > 0; j-- {\n",
    "\t\tif nums[j] < nums[j-1] {\n",
    "\t\t\tright = j\n",
    "\t\t\tbreak\n",
    "\t\t}\n",
    "\t}\n",
    "\n",
    "\twindowMin, windowMax := nums[left], nums[left]\n",
    "\tfor i := left; i <= right; i++ {\n",
    "\t\tif nums[i] < windowMin {\n",
    "\t\t\twindowMin = nums[i]\n",
    "\t\t}\n",
    "\t\tif nums[i] > windowMax {\n",
    "\t\t\twindowMax = nums[i]\n",
    "\t\t}\n",
    "\t}\n",
    "\n",
    "\tfor left > 0 && nums[left-1] > windowMin {\n",
    "\t\tleft--\n",
    "\t}\n",
    "\tfor right < n-1 && nums[right+1] < windowMax {\n",
    "\t\tright++\n",
    "\t}\n",
    "\n",
    "\treturn left, right\n",
    "}\n",
    "\n",
    "func main() {\n",
    "\tfmt.Println(findWindowToSort([]int{3, 7, 5, 6, 9})) // Output: 1, 3\n",
    "}"
   ]
  },
  {
   "cell_type": "markdown",
   "id": "2d17d6fd-4904-4983-a238-59d59ee21eb8",
   "metadata": {},
   "source": [
    "### Problem 3: Calculate maximum subarray sum"
   ]
  },
  {
   "cell_type": "markdown",
   "id": "d74c99da-0a88-47ab-90aa-b322ea291c54",
   "metadata": {},
   "source": [
    "**Given an array of numbers, find the maximum sum of any contiguous subarray of the array.    \n",
    "For example, given the array \\[34, -50, 42, 14, -5, 86\\], the maximum sum would be 137, since we would take elements 42, 14, -5, and 86.    \n",
    "Given the array \\[ -5, -1, -8, -9\\], the maximum sum would be 0, since we would choose not to take any elements.    \n",
    "Do this in O (n) time.    \n",
    "Follow-up: What if the elements can wrap around?   \n",
    "For example, given \\[ 8, -1, 3, 4\\], return 15, as we choose the numbers 3, 4, and 8 where the 8 is obtained from wrapping around.**"
   ]
  },
  {
   "cell_type": "markdown",
   "id": "c7e42e53-e630-4eb4-8406-0ac12de1ebb0",
   "metadata": {},
   "source": [
    "#### 🧩 The Problem in Simple Terms\n",
    "You are given a list of numbers (can be positive or negative).   \n",
    "You need to find the **biggest total (sum)** you can get by adding numbers that are next to each other in the list.   \n",
    "👉 The group of numbers you pick must be contiguous — meaning they must be **side-by-side** in the array.   \n",
    "You can also choose no elements at all (sum = 0) if all numbers are negative.   \n",
    "Now imagine the array is circular — after the last element, it connects back to the first one.   \n",
    "=> \\[ 8, -1, 3, 4\\] or \\[-1, 3, 4, 8] or \\[3, 4, 8, -1\\] is identical => return 15, not 14"
   ]
  },
  {
   "cell_type": "markdown",
   "id": "8c10464f-8b2a-4916-abb4-8f0353bd8c45",
   "metadata": {},
   "source": [
    "#### 🧠 The Idea to Solve\n",
    "We want the maximum sum of any contiguous subarray.   \n",
    "At every index, we decide:\n",
    "- Either extend the current subarray, or\n",
    "- Start a new subarray at this index.\n",
    "\n",
    "If the sum so far becomes negative, we reset — because starting fresh gives a better chance of finding a larger sum.   \n",
    "This is **Kadane’s Algorithm**."
   ]
  },
  {
   "cell_type": "markdown",
   "id": "8de45309-2370-4fe4-9c98-939478154b22",
   "metadata": {},
   "source": [
    "#### Pseudo Code"
   ]
  },
  {
   "cell_type": "code",
   "execution_count": null,
   "id": "b1594074-6ed8-457e-a2d0-4713a32364dd",
   "metadata": {},
   "outputs": [],
   "source": [
    "max_ending_here = 0\n",
    "max_so_far = 0\n",
    "\n",
    "for num in nums:\n",
    "    max_ending_here = max(0, max_ending_here + num)\n",
    "    max_so_far = max(max_so_far, max_ending_here)\n",
    "\n",
    "return max_so_far"
   ]
  },
  {
   "cell_type": "markdown",
   "id": "65320f77-4b8b-4e6b-8d28-fbdd8dfa88ae",
   "metadata": {},
   "source": [
    "#### Code - Python"
   ]
  },
  {
   "cell_type": "code",
   "execution_count": 2,
   "id": "aef1a423-72a5-45cc-9fc9-3c9fe0515132",
   "metadata": {},
   "outputs": [
    {
     "name": "stdout",
     "output_type": "stream",
     "text": [
      "137\n",
      "0\n"
     ]
    }
   ],
   "source": [
    "def max_subarray_sum(nums):\n",
    "    max_ending_here = 0\n",
    "    max_so_far = 0\n",
    "\n",
    "    for num in nums:\n",
    "        max_ending_here = max(0, max_ending_here + num)\n",
    "        max_so_far = max(max_so_far, max_ending_here)\n",
    "\n",
    "    return max_so_far\n",
    "\n",
    "# Example Usage\n",
    "print(max_subarray_sum([34, -50, 42, 14, -5, 86]))  # Output: 137\n",
    "print(max_subarray_sum([-5, -1, -8, -9]))           # Output: 0"
   ]
  },
  {
   "cell_type": "markdown",
   "id": "7a57c1bf-2924-48d4-b38d-afb98b306c0a",
   "metadata": {},
   "source": [
    "#### Code - Golang"
   ]
  },
  {
   "cell_type": "code",
   "execution_count": 1,
   "id": "69b27ab8-689b-409c-bd5b-e3920ee60350",
   "metadata": {},
   "outputs": [
    {
     "name": "stdout",
     "output_type": "stream",
     "text": [
      "137\n",
      "0\n"
     ]
    }
   ],
   "source": [
    "package main\n",
    "\n",
    "import \"fmt\"\n",
    "\n",
    "func maxSubarraySum(nums []int) int {\n",
    "\tmaxEndingHere, maxSoFar := 0, 0\n",
    "\tfor _, num := range nums {\n",
    "\t\tmaxEndingHere = max(0, maxEndingHere+num)\n",
    "\t\tmaxSoFar = max(maxSoFar, maxEndingHere)\n",
    "\t}\n",
    "\treturn maxSoFar\n",
    "}\n",
    "\n",
    "func main() {\n",
    "\tfmt.Println(maxSubarraySum([]int{34, -50, 42, 14, -5, 86})) // 137\n",
    "\tfmt.Println(maxSubarraySum([]int{-5, -1, -8, -9}))          // 0\n",
    "}"
   ]
  },
  {
   "cell_type": "markdown",
   "id": "44e39ed5-404d-4d82-b583-63f372e647e3",
   "metadata": {},
   "source": [
    "#### 🧠 Idea for the wrap-up \n",
    "The maximum subarray can be:\n",
    "- Non-wrapping: use Kadane’s algorithm normally.\n",
    "- Wrapping: total sum − minimum subarray sum.\n",
    "\n",
    "We subtract the smallest contiguous subarray because those are the elements we don’t include in the circular wrap-around."
   ]
  },
  {
   "cell_type": "markdown",
   "id": "5f29c92f-22e4-4def-a2d0-a06acf464999",
   "metadata": {},
   "source": [
    "#### Code - Python"
   ]
  },
  {
   "cell_type": "code",
   "execution_count": 2,
   "id": "7d753672-dde7-48c5-8c4c-ac9a3bd5724c",
   "metadata": {},
   "outputs": [
    {
     "name": "stdout",
     "output_type": "stream",
     "text": [
      "15\n"
     ]
    }
   ],
   "source": [
    "def max_subarray_sum_circular(nums):\n",
    "    def kadane(arr):\n",
    "        max_ending = max_so_far = arr[0]\n",
    "        for x in arr[1:]:\n",
    "            max_ending = max(x, max_ending + x)\n",
    "            max_so_far = max(max_so_far, max_ending)\n",
    "        return max_so_far\n",
    "\n",
    "    max_normal = kadane(nums)\n",
    "    if max_normal < 0:\n",
    "        return max_normal\n",
    "\n",
    "    total_sum = sum(nums)\n",
    "    min_subarray = kadane([-x for x in nums])\n",
    "    max_circular = total_sum + min_subarray  # total_sum - (-min_sum)\n",
    "    return max(max_normal, max_circular)\n",
    "\n",
    "\n",
    "# Example Usage\n",
    "print(max_subarray_sum_circular([8, -1, 3, 4]))     # 15"
   ]
  },
  {
   "cell_type": "markdown",
   "id": "c9046ccd-7057-4449-99cb-2867ee9d68b2",
   "metadata": {},
   "source": [
    "#### Code - Golang"
   ]
  },
  {
   "cell_type": "code",
   "execution_count": 1,
   "id": "e2bd76cd-ed29-4842-a3b4-b90857ed504f",
   "metadata": {},
   "outputs": [
    {
     "name": "stdout",
     "output_type": "stream",
     "text": [
      "15\n"
     ]
    }
   ],
   "source": [
    "package main\n",
    "\n",
    "import \"fmt\"\n",
    "\n",
    "func maxSubarraySumCircular(nums []int) int {\n",
    "\tkadane := func(arr []int) int {\n",
    "\t\tmaxEnding, maxSoFar := arr[0], arr[0]\n",
    "\t\tfor _, x := range arr[1:] {\n",
    "\t\t\tmaxEnding = max(x, maxEnding+x)\n",
    "\t\t\tmaxSoFar = max(maxSoFar, maxEnding)\n",
    "\t\t}\n",
    "\t\treturn maxSoFar\n",
    "\t}\n",
    "\n",
    "\tmaxNormal := kadane(nums)\n",
    "\tif maxNormal < 0 {\n",
    "\t\treturn maxNormal\n",
    "\t}\n",
    "\n",
    "\ttotalSum := 0\n",
    "\tinverted := make([]int, len(nums))\n",
    "\tfor i, v := range nums {\n",
    "\t\ttotalSum += v\n",
    "\t\tinverted[i] = -v\n",
    "\t}\n",
    "\n",
    "\tminSubarray := kadane(inverted)\n",
    "\tmaxCircular := totalSum + minSubarray // total_sum - (-min_sum)\n",
    "\n",
    "\treturn max(maxNormal, maxCircular)\n",
    "}\n",
    "\n",
    "func max(a, b int) int {\n",
    "\tif a > b {\n",
    "\t\treturn a\n",
    "\t}\n",
    "\treturn b\n",
    "}\n",
    "\n",
    "func main() {\n",
    "\tfmt.Println(maxSubarraySumCircular([]int{8, -1, 3, 4}))     // 15\n",
    "}"
   ]
  },
  {
   "cell_type": "code",
   "execution_count": null,
   "id": "4cfb2e10-d257-48ca-a4ea-b795b69fd5d6",
   "metadata": {},
   "outputs": [],
   "source": []
  },
  {
   "cell_type": "code",
   "execution_count": null,
   "id": "54a422ff-cfbf-400d-97b9-d2c091ba8be3",
   "metadata": {},
   "outputs": [],
   "source": []
  },
  {
   "cell_type": "code",
   "execution_count": null,
   "id": "1c299544-07e8-4dfc-9fa9-6d7d74f12f39",
   "metadata": {},
   "outputs": [],
   "source": []
  },
  {
   "cell_type": "code",
   "execution_count": null,
   "id": "bd4f09bd-12fd-4bcc-aa6e-728c420caa2a",
   "metadata": {},
   "outputs": [],
   "source": []
  },
  {
   "cell_type": "code",
   "execution_count": null,
   "id": "d445455f-6b5b-4803-90c2-40b4e88b7860",
   "metadata": {},
   "outputs": [],
   "source": []
  },
  {
   "cell_type": "code",
   "execution_count": null,
   "id": "ba73499f-b2b9-4a95-b316-0af50b4a1da5",
   "metadata": {},
   "outputs": [],
   "source": []
  },
  {
   "cell_type": "code",
   "execution_count": null,
   "id": "6aac99d8-dd0c-4f97-82c6-5858d60b38b8",
   "metadata": {},
   "outputs": [],
   "source": []
  },
  {
   "cell_type": "code",
   "execution_count": null,
   "id": "6cbb7897-8776-47da-acb8-741e75a2993a",
   "metadata": {},
   "outputs": [],
   "source": []
  },
  {
   "cell_type": "markdown",
   "id": "96e1f0fd-6812-4eac-b105-198461e70469",
   "metadata": {},
   "source": [
    "## Problem 4: Find number of smaller elements to the right"
   ]
  },
  {
   "cell_type": "code",
   "execution_count": null,
   "id": "0d994f79-cd10-49d5-8c41-dc7737ee050b",
   "metadata": {},
   "outputs": [],
   "source": []
  },
  {
   "cell_type": "code",
   "execution_count": null,
   "id": "00c108eb-d46f-4f92-9eb3-9abdc2dd351a",
   "metadata": {},
   "outputs": [],
   "source": []
  },
  {
   "cell_type": "code",
   "execution_count": null,
   "id": "546148df-db8a-4765-b318-5cf8b29ab730",
   "metadata": {},
   "outputs": [],
   "source": []
  },
  {
   "cell_type": "code",
   "execution_count": null,
   "id": "09e99739-a877-44ce-ba26-ad8e95b62afb",
   "metadata": {},
   "outputs": [],
   "source": []
  },
  {
   "cell_type": "code",
   "execution_count": null,
   "id": "b198024d-9e8b-4d3b-a1e2-be8b752da3e1",
   "metadata": {},
   "outputs": [],
   "source": []
  },
  {
   "cell_type": "code",
   "execution_count": null,
   "id": "5b0f7d71-38db-45bb-afb9-eaeac85921c9",
   "metadata": {},
   "outputs": [],
   "source": []
  },
  {
   "cell_type": "code",
   "execution_count": null,
   "id": "899b3620-d1a5-4b03-8cd0-8b28e1ece26c",
   "metadata": {},
   "outputs": [],
   "source": []
  },
  {
   "cell_type": "code",
   "execution_count": null,
   "id": "b6276500-f6a0-44a5-8a95-7d42433b271d",
   "metadata": {},
   "outputs": [],
   "source": []
  },
  {
   "cell_type": "code",
   "execution_count": null,
   "id": "0b9b2384-12b2-4c28-80a7-9c37e5e3efad",
   "metadata": {},
   "outputs": [],
   "source": []
  },
  {
   "cell_type": "code",
   "execution_count": null,
   "id": "87c4d617-7e31-442e-9dad-5578639e4c5c",
   "metadata": {},
   "outputs": [],
   "source": []
  },
  {
   "cell_type": "code",
   "execution_count": null,
   "id": "034fd22e-3eb3-4ca1-b7bd-112af6381452",
   "metadata": {},
   "outputs": [],
   "source": []
  },
  {
   "cell_type": "code",
   "execution_count": null,
   "id": "52205b44-f340-4499-81c7-0e3c7daa839f",
   "metadata": {},
   "outputs": [],
   "source": []
  },
  {
   "cell_type": "code",
   "execution_count": null,
   "id": "f5ef1425-5841-4e0e-8e5d-6baa7c994d3e",
   "metadata": {},
   "outputs": [],
   "source": []
  },
  {
   "cell_type": "code",
   "execution_count": null,
   "id": "088531ff-8227-4309-b5d4-3e0cc780fd9a",
   "metadata": {},
   "outputs": [],
   "source": []
  },
  {
   "cell_type": "code",
   "execution_count": null,
   "id": "b2c438d5-ecfd-4ef9-8f58-2dfed09fcdd8",
   "metadata": {},
   "outputs": [],
   "source": []
  },
  {
   "cell_type": "code",
   "execution_count": null,
   "id": "1d3e6f21-41af-41ac-a810-dcc41c269ca7",
   "metadata": {},
   "outputs": [],
   "source": []
  },
  {
   "cell_type": "code",
   "execution_count": null,
   "id": "2afae95e-bb5c-4be7-9764-28e2a6d2cae7",
   "metadata": {},
   "outputs": [],
   "source": []
  },
  {
   "cell_type": "code",
   "execution_count": null,
   "id": "3a8e9fff-15b1-438c-94ba-631c01e08a75",
   "metadata": {},
   "outputs": [],
   "source": []
  },
  {
   "cell_type": "code",
   "execution_count": null,
   "id": "7630295c-a979-4734-84f2-7af415b37b38",
   "metadata": {},
   "outputs": [],
   "source": []
  },
  {
   "cell_type": "code",
   "execution_count": null,
   "id": "d607e524-f221-49a5-a202-6ee03b23b8e2",
   "metadata": {},
   "outputs": [],
   "source": []
  },
  {
   "cell_type": "code",
   "execution_count": null,
   "id": "e882c039-7ad3-423f-ba8a-303ab28c869e",
   "metadata": {},
   "outputs": [],
   "source": []
  },
  {
   "cell_type": "code",
   "execution_count": null,
   "id": "ac66cc7c-6c80-41d6-986c-1fb698eb3259",
   "metadata": {},
   "outputs": [],
   "source": []
  },
  {
   "cell_type": "code",
   "execution_count": null,
   "id": "2da4bb2f-2fbf-40db-a7a7-9c9f9c5742da",
   "metadata": {},
   "outputs": [],
   "source": []
  },
  {
   "cell_type": "code",
   "execution_count": null,
   "id": "6a8f20bf-b63e-443d-812e-d037af297a08",
   "metadata": {},
   "outputs": [],
   "source": []
  },
  {
   "cell_type": "code",
   "execution_count": null,
   "id": "3aa912ef-56a2-42b0-b2ad-d1fab9427400",
   "metadata": {},
   "outputs": [],
   "source": []
  }
 ],
 "metadata": {
  "kernelspec": {
   "display_name": "Go (gonb)",
   "language": "go",
   "name": "gonb"
  },
  "language_info": {
   "codemirror_mode": "",
   "file_extension": ".go",
   "mimetype": "text/x-go",
   "name": "go",
   "nbconvert_exporter": "",
   "pygments_lexer": "",
   "version": "go1.24.6"
  }
 },
 "nbformat": 4,
 "nbformat_minor": 5
}
